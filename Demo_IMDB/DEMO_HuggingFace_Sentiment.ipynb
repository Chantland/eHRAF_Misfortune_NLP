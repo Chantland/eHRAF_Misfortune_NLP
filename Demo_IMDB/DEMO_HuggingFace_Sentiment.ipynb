{
 "cells": [
  {
   "cell_type": "code",
   "execution_count": null,
   "metadata": {},
   "outputs": [],
   "source": [
    "# !pip install transformers datasets evaluate\n",
    "# or\n",
    "# !conda install transformers datasets evaluate"
   ]
  },
  {
   "cell_type": "code",
   "execution_count": 43,
   "metadata": {},
   "outputs": [
    {
     "data": {
      "application/vnd.jupyter.widget-view+json": {
       "model_id": "e2313ccbb3b44fae9d5c194c669ebe3a",
       "version_major": 2,
       "version_minor": 0
      },
      "text/plain": [
       "VBox(children=(HTML(value='<center> <img\\nsrc=https://huggingface.co/front/assets/huggingface_logo-noborder.sv…"
      ]
     },
     "metadata": {},
     "output_type": "display_data"
    }
   ],
   "source": [
    "from huggingface_hub import notebook_login\n",
    "\n",
    "notebook_login()"
   ]
  },
  {
   "cell_type": "code",
   "execution_count": 2,
   "metadata": {},
   "outputs": [
    {
     "name": "stdout",
     "output_type": "stream",
     "text": [
      "Intel MKL WARNING: Support of Intel(R) Streaming SIMD Extensions 4.2 (Intel(R) SSE4.2) enabled only processors has been deprecated. Intel oneAPI Math Kernel Library 2025.0 will require Intel(R) Advanced Vector Extensions (Intel(R) AVX) instructions.\n",
      "Intel MKL WARNING: Support of Intel(R) Streaming SIMD Extensions 4.2 (Intel(R) SSE4.2) enabled only processors has been deprecated. Intel oneAPI Math Kernel Library 2025.0 will require Intel(R) Advanced Vector Extensions (Intel(R) AVX) instructions.\n"
     ]
    },
    {
     "name": "stderr",
     "output_type": "stream",
     "text": [
      "Found cached dataset imdb (/Users/ericchantland/.cache/huggingface/datasets/imdb/plain_text/1.0.0/d613c88cf8fa3bab83b4ded3713f1f74830d1100e171db75bbddb80b3345c9c0)\n"
     ]
    },
    {
     "data": {
      "application/vnd.jupyter.widget-view+json": {
       "model_id": "5be9e90a1870420f98191f6029357c3f",
       "version_major": 2,
       "version_minor": 0
      },
      "text/plain": [
       "  0%|          | 0/3 [00:00<?, ?it/s]"
      ]
     },
     "metadata": {},
     "output_type": "display_data"
    }
   ],
   "source": [
    "from datasets import load_dataset\n",
    "from datasets.dataset_dict import DatasetDict\n",
    "from datasets import Dataset\n",
    "\n",
    "imdb = load_dataset(\"imdb\")\n"
   ]
  },
  {
   "cell_type": "code",
   "execution_count": 3,
   "metadata": {},
   "outputs": [
    {
     "data": {
      "text/plain": [
       "DatasetDict({\n",
       "    train: Dataset({\n",
       "        features: ['text', 'label'],\n",
       "        num_rows: 25000\n",
       "    })\n",
       "    test: Dataset({\n",
       "        features: ['text', 'label'],\n",
       "        num_rows: 25000\n",
       "    })\n",
       "    unsupervised: Dataset({\n",
       "        features: ['text', 'label'],\n",
       "        num_rows: 50000\n",
       "    })\n",
       "})"
      ]
     },
     "execution_count": 3,
     "metadata": {},
     "output_type": "execute_result"
    }
   ],
   "source": [
    "imdb"
   ]
  },
  {
   "cell_type": "code",
   "execution_count": 45,
   "metadata": {},
   "outputs": [
    {
     "data": {
      "text/plain": [
       "'I rented I AM CURIOUS-YELLOW from my video store because of all the controversy that surrounded it when it was first released in 1967. I also heard that at first it was seized by U.S. customs if it ever tried to enter this country, therefore being a fan of films considered \"controversial\" I really had to see this for myself.<br /><br />The plot is centered around a young Swedish drama student named Lena who wants to learn everything she can about life. In particular she wants to focus her attentions to making some sort of documentary on what the average Swede thought about certain political issues such as the Vietnam War and race issues in the United States. In between asking politicians and ordinary denizens of Stockholm about their opinions on politics, she has sex with her drama teacher, classmates, and married men.<br /><br />What kills me about I AM CURIOUS-YELLOW is that 40 years ago, this was considered pornographic. Really, the sex and nudity scenes are few and far between, even then it\\'s not shot like some cheaply made porno. While my countrymen mind find it shocking, in reality sex and nudity are a major staple in Swedish cinema. Even Ingmar Bergman, arguably their answer to good old boy John Ford, had sex scenes in his films.<br /><br />I do commend the filmmakers for the fact that any sex shown in the film is shown for artistic purposes rather than just to shock people and make money to be shown in pornographic theaters in America. I AM CURIOUS-YELLOW is a good film for anyone wanting to study the meat and potatoes (no pun intended) of Swedish cinema. But really, this film doesn\\'t have much of a plot.'"
      ]
     },
     "execution_count": 45,
     "metadata": {},
     "output_type": "execute_result"
    }
   ],
   "source": [
    "x = imdb[\"train\"][0]['text']\n",
    "x"
   ]
  },
  {
   "cell_type": "code",
   "execution_count": 53,
   "metadata": {},
   "outputs": [
    {
     "name": "stdout",
     "output_type": "stream",
     "text": [
      "I rented I AM CURIOUS YELLOW from my video store because of all the controversy that surrounded it when it was first released in 1967  I also heard that at first it was seized by U S  customs if it ever tried to enter this country  therefore being a fan of films considered  controversial  I really had to see this for myself  br    br   The plot is centered around a young Swedish drama student named Lena who wants to learn everything she can about life  In particular she wants to focus her attentions to making some sort of documentary on what the average Swede thought about certain political issues such as the Vietnam War and race issues in the United States  In between asking politicians and ordinary denizens of Stockholm about their opinions on politics  she has sex with her drama teacher  classmates  and married men  br    br   What kills me about I AM CURIOUS YELLOW is that 40 years ago  this was considered pornographic  Really  the sex and nudity scenes are few and far between  even then it s not shot like some cheaply made porno  While my countrymen mind find it shocking  in reality sex and nudity are a major staple in Swedish cinema  Even Ingmar Bergman  arguably their answer to good old boy John Ford  had sex scenes in his films  br    br   I do commend the filmmakers for the fact that any sex shown in the film is shown for artistic purposes rather than just to shock people and make money to be shown in pornographic theaters in America  I AM CURIOUS YELLOW is a good film for anyone wanting to study the meat and potatoes  no pun intended  of Swedish cinema  But really  this film doesn t have much of a plot \n"
     ]
    }
   ],
   "source": [
    "\n",
    "import re\n",
    " \n",
    "# test_str = 'Gfg, is best: for ! Geeks ;'\n",
    "x = imdb[\"train\"][0]['text']\n",
    "\n",
    "res = re.sub(r'[^\\w\\s]', ' ', x)\n",
    "print(res)"
   ]
  },
  {
   "cell_type": "code",
   "execution_count": 76,
   "metadata": {},
   "outputs": [],
   "source": [
    "word_count = set()\n",
    "for words in imdb[\"train\"]:\n",
    "    words_split = re.sub(r'[^\\w\\s]', ' ', words['text'])\n",
    "    words_split = set(words_split.split())\n",
    "    word_count.update(words_split)"
   ]
  },
  {
   "cell_type": "code",
   "execution_count": 77,
   "metadata": {},
   "outputs": [
    {
     "data": {
      "text/plain": [
       "93929"
      ]
     },
     "execution_count": 77,
     "metadata": {},
     "output_type": "execute_result"
    }
   ],
   "source": [
    "len(word_count)"
   ]
  },
  {
   "attachments": {},
   "cell_type": "markdown",
   "metadata": {},
   "source": [
    "## Preprocess\n",
    "<br>\n",
    "The next step is to load a DistilBERT tokenizer to preprocess the text field:"
   ]
  },
  {
   "cell_type": "code",
   "execution_count": 6,
   "metadata": {},
   "outputs": [],
   "source": [
    "from transformers import AutoTokenizer\n",
    "\n",
    "tokenizer = AutoTokenizer.from_pretrained(\"distilbert-base-uncased\")"
   ]
  },
  {
   "attachments": {},
   "cell_type": "markdown",
   "metadata": {},
   "source": [
    "Create a preprocessing function to tokenize text and truncate sequences to be no longer than DistilBERT’s maximum input length:"
   ]
  },
  {
   "cell_type": "code",
   "execution_count": 7,
   "metadata": {},
   "outputs": [],
   "source": [
    "def preprocess_function(examples):\n",
    "    return tokenizer(examples[\"text\"], truncation=True)"
   ]
  },
  {
   "attachments": {},
   "cell_type": "markdown",
   "metadata": {},
   "source": [
    "To apply the preprocessing function over the entire dataset, use 🤗 Datasets map function. You can speed up map by setting batched=True to process multiple elements of the dataset at once:"
   ]
  },
  {
   "cell_type": "code",
   "execution_count": 8,
   "metadata": {},
   "outputs": [
    {
     "name": "stderr",
     "output_type": "stream",
     "text": [
      "Loading cached processed dataset at /Users/ericchantland/.cache/huggingface/datasets/imdb/plain_text/1.0.0/d613c88cf8fa3bab83b4ded3713f1f74830d1100e171db75bbddb80b3345c9c0/cache-bfa4e62ed21c92aa.arrow\n",
      "Loading cached processed dataset at /Users/ericchantland/.cache/huggingface/datasets/imdb/plain_text/1.0.0/d613c88cf8fa3bab83b4ded3713f1f74830d1100e171db75bbddb80b3345c9c0/cache-fb62cccaac8fd0aa.arrow\n"
     ]
    },
    {
     "data": {
      "application/vnd.jupyter.widget-view+json": {
       "model_id": "089494998a8642fcbf0527e640c5973d",
       "version_major": 2,
       "version_minor": 0
      },
      "text/plain": [
       "Map:   0%|          | 0/50000 [00:00<?, ? examples/s]"
      ]
     },
     "metadata": {},
     "output_type": "display_data"
    }
   ],
   "source": [
    "tokenized_imdb = imdb.map(preprocess_function, batched=True)"
   ]
  },
  {
   "cell_type": "code",
   "execution_count": 21,
   "metadata": {},
   "outputs": [
    {
     "data": {
      "text/plain": [
       "{'text': 'I rented I AM CURIOUS-YELLOW from my video store because of all the controversy that surrounded it when it was first released in 1967. I also heard that at first it was seized by U.S. customs if it ever tried to enter this country, therefore being a fan of films considered \"controversial\" I really had to see this for myself.<br /><br />The plot is centered around a young Swedish drama student named Lena who wants to learn everything she can about life. In particular she wants to focus her attentions to making some sort of documentary on what the average Swede thought about certain political issues such as the Vietnam War and race issues in the United States. In between asking politicians and ordinary denizens of Stockholm about their opinions on politics, she has sex with her drama teacher, classmates, and married men.<br /><br />What kills me about I AM CURIOUS-YELLOW is that 40 years ago, this was considered pornographic. Really, the sex and nudity scenes are few and far between, even then it\\'s not shot like some cheaply made porno. While my countrymen mind find it shocking, in reality sex and nudity are a major staple in Swedish cinema. Even Ingmar Bergman, arguably their answer to good old boy John Ford, had sex scenes in his films.<br /><br />I do commend the filmmakers for the fact that any sex shown in the film is shown for artistic purposes rather than just to shock people and make money to be shown in pornographic theaters in America. I AM CURIOUS-YELLOW is a good film for anyone wanting to study the meat and potatoes (no pun intended) of Swedish cinema. But really, this film doesn\\'t have much of a plot.',\n",
       " 'label': 0}"
      ]
     },
     "execution_count": 21,
     "metadata": {},
     "output_type": "execute_result"
    }
   ],
   "source": [
    "imdb['train'][0]"
   ]
  },
  {
   "cell_type": "code",
   "execution_count": 79,
   "metadata": {},
   "outputs": [],
   "source": [
    "# tokenized_imdb['train'][0]"
   ]
  },
  {
   "cell_type": "code",
   "execution_count": 36,
   "metadata": {},
   "outputs": [
    {
     "name": "stdout",
     "output_type": "stream",
     "text": [
      "512\n",
      "Who are these \"They\"- the actors? the filmmakers? Certainly couldn't be the audience- this is among the most air-puffed productions in existence. It's the kind of movie that looks like it was a lot of fun to shoot TOO much fun, nobody is getting any actual work done, and that almost always makes for a movie that's no fun to watch.<br /><br />Ritter dons glasses so as to hammer home his character's status as a sort of doppleganger of the bespectacled Bogdanovich; the scenes with the breezy Ms. Stratten are sweet, but have an embarrassing, look-guys-I'm-dating-the-prom-queen feel to them. Ben Gazzara sports his usual cat's-got-canary grin in a futile attempt to elevate the meager plot, which requires him to pursue Audrey Hepburn with all the interest of a narcoleptic at an insomnia clinic. In the meantime, the budding couple's respective children (nepotism alert: Bogdanovich's daughters) spew cute and pick up some fairly disturbing pointers on 'love' while observing their parents. (Ms. Hepburn, drawing on her dignity, manages to rise above the proceedings- but she has the monumental challenge of playing herself, ostensibly.) Everybody looks great, but so what? It's a movie and we can expect that much, if that's what you're looking for you'd be better off picking up a copy of Vogue.<br /><br />Oh- and it has to be mentioned that Colleen Camp thoroughly annoys, even apart from her singing, which, while competent, is wholly unconvincing... the country and western numbers are woefully mismatched with the standards on the soundtrack. Surely this is NOT what Gershwin (who wrote the song from which the movie's title is derived) had in mind; his stage musicals of the 20's may have been slight, but at least they were long on charm. \"They All Laughed\" tries to coast on its good intentions, but nobody- least of all Peter Bogdanovich - has the good sense to put on the brakes.<br /><br />Due in no small part to the tragic death of Dorothy Stratten, this movie has a special place in the heart of Mr. Bogdanovich- he even bought it back from its producers, then distributed it on his own and went bankrupt when it didn't prove popular. His rise and fall is among the more sympathetic and tragic of Hollywood stories, so there's no joy in criticizing the film... there _is_ real emotional investment in Ms. Stratten's scenes. But \"Laughed\" is a faint echo of \"The Last Picture Show\", \"Paper Moon\" or \"What's Up, Doc\"- following \"Daisy Miller\" and \"At Long Last Love\", it was a thundering confirmation of the phase from which P.B. has never emerged.<br /><br />All in all, though, the movie is harmless, only a waste of rental. I want to watch people having a good time, I'll go to the park on a sunny day. For filmic expressions of joy and love, I'll stick to Ernest Lubitsch and Jaques Demy...\n",
      "8\n"
     ]
    }
   ],
   "source": [
    "max_len = 0\n",
    "phrase = \"\"\n",
    "sequence_i = 0\n",
    "for i, tx in enumerate(tokenized_imdb['train']):\n",
    "    if len(tx['input_ids']) > max_len:\n",
    "        max_len = len(tx['input_ids'])\n",
    "        phrase = tx['text']\n",
    "        sequence_i = i\n",
    "print(max_len)\n",
    "print(phrase)\n",
    "print(sequence_i)"
   ]
  },
  {
   "cell_type": "code",
   "execution_count": 38,
   "metadata": {},
   "outputs": [
    {
     "name": "stdout",
     "output_type": "stream",
     "text": [
      "3715\n",
      "[8, 17, 34, 42, 44, 52, 55, 69, 74, 80, 87, 92, 95, 98, 111, 112, 128, 142, 147, 149, 165, 180, 197, 198, 209, 213, 218, 230, 238, 246, 248, 253, 257, 264, 265, 273, 281, 282, 298, 312, 345, 353, 370, 374, 375, 394, 413, 415, 416, 421, 422, 440, 457, 459, 461, 478, 479, 483, 498, 500, 501, 509, 517, 520, 521, 528, 531, 543, 581, 591, 593, 603, 612, 614, 615, 618, 651, 652, 655, 657, 661, 666, 667, 668, 674, 681, 687, 688, 689, 700, 706, 725, 726, 735, 736, 740, 745, 746, 749, 750, 751, 753, 757, 759, 762, 768, 771, 773, 779, 784, 788, 797, 803, 812, 814, 825, 831, 832, 848, 877, 878, 896, 899, 913, 922, 926, 932, 942, 958, 965, 974, 982, 983, 984, 989, 1001, 1019, 1020, 1025, 1026, 1041, 1056, 1075, 1080, 1084, 1090, 1104, 1107, 1109, 1123, 1127, 1131, 1147, 1167, 1173, 1174, 1175, 1181, 1197, 1199, 1212, 1213, 1214, 1216, 1228, 1233, 1244, 1245, 1261, 1263, 1267, 1281, 1282, 1306, 1330, 1332, 1336, 1340, 1342, 1347, 1361, 1364, 1371, 1391, 1395, 1400, 1406, 1427, 1432, 1439, 1444, 1445, 1449, 1451, 1452, 1458, 1466, 1469, 1477, 1481, 1492, 1509, 1514, 1520, 1522, 1531, 1543, 1545, 1561, 1564, 1568, 1572, 1586, 1590, 1591, 1592, 1606, 1608, 1622, 1654, 1663, 1668, 1669, 1670, 1703, 1713, 1727, 1729, 1745, 1759, 1771, 1773, 1778, 1786, 1787, 1808, 1809, 1812, 1828, 1833, 1834, 1835, 1837, 1854, 1874, 1879, 1891, 1894, 1896, 1900, 1903, 1906, 1907, 1911, 1915, 1919, 1927, 1929, 1938, 1939, 1949, 1966, 1987, 1999, 2000, 2003, 2013, 2016, 2022, 2025, 2029, 2033, 2035, 2037, 2038, 2040, 2043, 2050, 2057, 2063, 2064, 2071, 2083, 2090, 2104, 2108, 2113, 2124, 2136, 2140, 2148, 2149, 2156, 2177, 2179, 2188, 2189, 2193, 2199, 2200, 2201, 2217, 2222, 2226, 2239, 2252, 2262, 2266, 2267, 2271, 2302, 2305, 2311, 2318, 2322, 2337, 2342, 2361, 2362, 2365, 2373, 2378, 2380, 2392, 2394, 2406, 2416, 2431, 2456, 2457, 2460, 2467, 2482, 2496, 2511, 2523, 2525, 2532, 2535, 2537, 2539, 2553, 2561, 2586, 2595, 2604, 2633, 2650, 2655, 2658, 2666, 2671, 2679, 2686, 2711, 2712, 2717, 2741, 2742, 2743, 2763, 2773, 2779, 2783, 2787, 2796, 2799, 2806, 2808, 2815, 2818, 2821, 2824, 2828, 2831, 2841, 2842, 2853, 2865, 2882, 2903, 2931, 2933, 2955, 2963, 2964, 2980, 2987, 2994, 2995, 2997, 3009, 3013, 3021, 3023, 3024, 3026, 3029, 3030, 3032, 3033, 3034, 3035, 3038, 3048, 3063, 3073, 3074, 3076, 3101, 3124, 3128, 3129, 3131, 3140, 3147, 3165, 3170, 3174, 3178, 3183, 3201, 3207, 3233, 3239, 3260, 3261, 3265, 3266, 3271, 3277, 3278, 3279, 3280, 3282, 3291, 3292, 3311, 3314, 3321, 3322, 3324, 3327, 3339, 3365, 3393, 3396, 3398, 3406, 3407, 3416, 3423, 3426, 3427, 3435, 3436, 3455, 3459, 3472, 3474, 3491, 3492, 3494, 3496, 3501, 3502, 3504, 3519, 3527, 3552, 3553, 3564, 3570, 3583, 3598, 3603, 3609, 3610, 3612, 3613, 3614, 3615, 3631, 3633, 3635, 3636, 3639, 3652, 3654, 3663, 3665, 3666, 3671, 3684, 3691, 3704, 3716, 3719, 3726, 3728, 3729, 3730, 3733, 3743, 3748, 3753, 3756, 3757, 3762, 3767, 3770, 3771, 3775, 3782, 3789, 3833, 3838, 3840, 3852, 3856, 3864, 3876, 3879, 3884, 3916, 3924, 3926, 3929, 3964, 3969, 3972, 3973, 3992, 4003, 4007, 4008, 4010, 4011, 4016, 4018, 4022, 4024, 4032, 4035, 4043, 4050, 4051, 4054, 4057, 4058, 4064, 4065, 4069, 4091, 4103, 4104, 4112, 4115, 4121, 4126, 4135, 4138, 4139, 4141, 4147, 4162, 4167, 4169, 4174, 4175, 4195, 4212, 4215, 4225, 4232, 4249, 4259, 4260, 4261, 4270, 4273, 4281, 4294, 4299, 4320, 4326, 4328, 4331, 4340, 4359, 4362, 4368, 4374, 4375, 4385, 4388, 4404, 4412, 4413, 4424, 4427, 4444, 4446, 4454, 4461, 4462, 4465, 4472, 4473, 4481, 4486, 4493, 4494, 4496, 4500, 4503, 4510, 4514, 4521, 4522, 4523, 4524, 4535, 4545, 4546, 4554, 4560, 4563, 4573, 4578, 4585, 4589, 4592, 4593, 4594, 4595, 4597, 4598, 4600, 4607, 4608, 4613, 4615, 4620, 4625, 4630, 4634, 4656, 4667, 4705, 4708, 4710, 4717, 4724, 4725, 4726, 4734, 4744, 4745, 4747, 4751, 4753, 4779, 4785, 4786, 4789, 4790, 4801, 4806, 4814, 4825, 4838, 4841, 4851, 4853, 4860, 4873, 4874, 4879, 4886, 4895, 4896, 4905, 4906, 4908, 4911, 4921, 4923, 4953, 4954, 4964, 4966, 4992, 5001, 5012, 5032, 5035, 5039, 5042, 5058, 5063, 5064, 5083, 5084, 5086, 5123, 5134, 5148, 5154, 5156, 5177, 5192, 5193, 5204, 5207, 5223, 5229, 5230, 5235, 5243, 5244, 5245, 5248, 5264, 5273, 5276, 5302, 5310, 5318, 5319, 5320, 5332, 5334, 5339, 5340, 5347, 5352, 5359, 5369, 5397, 5404, 5406, 5407, 5422, 5430, 5435, 5440, 5441, 5446, 5451, 5456, 5471, 5480, 5481, 5487, 5502, 5503, 5510, 5515, 5521, 5526, 5528, 5536, 5539, 5541, 5543, 5544, 5552, 5560, 5562, 5570, 5579, 5586, 5587, 5590, 5593, 5597, 5612, 5619, 5622, 5638, 5654, 5663, 5678, 5680, 5682, 5684, 5686, 5700, 5701, 5702, 5703, 5706, 5711, 5714, 5717, 5721, 5725, 5742, 5758, 5762, 5776, 5789, 5804, 5806, 5807, 5808, 5815, 5817, 5825, 5836, 5843, 5844, 5849, 5850, 5862, 5874, 5876, 5888, 5891, 5903, 5904, 5905, 5906, 5907, 5913, 5915, 5917, 5923, 5939, 5945, 5948, 5960, 5963, 6005, 6035, 6037, 6038, 6039, 6043, 6044, 6055, 6063, 6067, 6069, 6070, 6071, 6075, 6086, 6092, 6093, 6094, 6104, 6111, 6117, 6120, 6128, 6129, 6131, 6156, 6159, 6165, 6166, 6168, 6173, 6191, 6192, 6193, 6194, 6197, 6198, 6204, 6206, 6211, 6225, 6235, 6243, 6248, 6264, 6269, 6276, 6294, 6296, 6300, 6346, 6355, 6377, 6385, 6389, 6390, 6391, 6403, 6404, 6411, 6425, 6437, 6442, 6443, 6448, 6450, 6452, 6455, 6467, 6469, 6488, 6494, 6505, 6517, 6536, 6563, 6565, 6569, 6572, 6577, 6584, 6592, 6596, 6598, 6601, 6604, 6615, 6621, 6630, 6633, 6636, 6638, 6645, 6648, 6655, 6666, 6667, 6675, 6683, 6686, 6689, 6693, 6699, 6712, 6741, 6742, 6743, 6752, 6776, 6778, 6781, 6811, 6826, 6831, 6832, 6835, 6836, 6839, 6887, 6888, 6909, 6917, 6922, 6923, 6924, 6930, 6934, 6942, 6946, 6947, 6952, 6955, 6964, 6966, 6970, 6973, 6985, 6997, 6998, 7000, 7001, 7002, 7016, 7025, 7035, 7047, 7054, 7075, 7113, 7130, 7139, 7145, 7148, 7157, 7170, 7175, 7179, 7180, 7182, 7183, 7187, 7203, 7222, 7230, 7239, 7249, 7255, 7267, 7273, 7286, 7290, 7303, 7305, 7315, 7320, 7324, 7325, 7327, 7341, 7361, 7368, 7391, 7392, 7407, 7409, 7410, 7414, 7415, 7426, 7427, 7428, 7435, 7439, 7448, 7450, 7451, 7454, 7456, 7457, 7466, 7472, 7481, 7484, 7495, 7504, 7508, 7514, 7517, 7527, 7543, 7546, 7547, 7548, 7552, 7557, 7564, 7565, 7569, 7570, 7573, 7574, 7576, 7577, 7580, 7598, 7606, 7609, 7611, 7615, 7619, 7633, 7639, 7644, 7647, 7661, 7665, 7675, 7678, 7679, 7688, 7698, 7705, 7724, 7728, 7732, 7743, 7745, 7746, 7747, 7751, 7752, 7760, 7761, 7763, 7764, 7768, 7781, 7785, 7794, 7795, 7801, 7827, 7831, 7832, 7838, 7842, 7844, 7862, 7877, 7878, 7881, 7886, 7891, 7896, 7898, 7899, 7906, 7910, 7912, 7916, 7918, 7919, 7920, 7923, 7927, 7931, 7932, 7944, 7952, 7961, 7974, 7975, 7983, 7984, 7993, 7994, 7998, 8006, 8011, 8013, 8014, 8017, 8021, 8031, 8032, 8033, 8035, 8047, 8050, 8057, 8064, 8065, 8066, 8079, 8081, 8084, 8086, 8087, 8098, 8117, 8123, 8126, 8128, 8146, 8160, 8164, 8170, 8171, 8177, 8180, 8185, 8197, 8218, 8219, 8227, 8233, 8239, 8240, 8242, 8252, 8276, 8281, 8282, 8291, 8294, 8295, 8297, 8304, 8307, 8320, 8323, 8327, 8328, 8336, 8337, 8341, 8343, 8344, 8345, 8346, 8354, 8355, 8359, 8370, 8375, 8377, 8392, 8397, 8406, 8407, 8435, 8436, 8438, 8441, 8446, 8449, 8457, 8464, 8473, 8475, 8478, 8482, 8490, 8493, 8497, 8499, 8519, 8523, 8525, 8526, 8528, 8535, 8540, 8575, 8598, 8600, 8604, 8606, 8609, 8610, 8638, 8646, 8668, 8672, 8676, 8685, 8686, 8692, 8699, 8700, 8707, 8712, 8718, 8734, 8749, 8753, 8754, 8767, 8774, 8792, 8798, 8799, 8802, 8805, 8810, 8811, 8823, 8838, 8839, 8849, 8851, 8855, 8856, 8858, 8860, 8861, 8863, 8880, 8886, 8889, 8896, 8902, 8906, 8916, 8926, 8929, 8940, 8948, 8954, 8955, 8961, 8966, 8978, 8991, 9010, 9014, 9025, 9028, 9037, 9044, 9057, 9063, 9094, 9104, 9105, 9106, 9108, 9110, 9120, 9123, 9124, 9133, 9136, 9137, 9151, 9152, 9153, 9156, 9161, 9162, 9165, 9167, 9172, 9187, 9192, 9200, 9208, 9216, 9222, 9231, 9243, 9258, 9266, 9278, 9287, 9289, 9291, 9293, 9298, 9304, 9305, 9318, 9335, 9340, 9341, 9345, 9359, 9372, 9375, 9376, 9382, 9386, 9392, 9398, 9404, 9407, 9409, 9418, 9420, 9421, 9425, 9444, 9448, 9450, 9451, 9470, 9473, 9480, 9483, 9500, 9501, 9502, 9508, 9516, 9534, 9538, 9552, 9568, 9582, 9585, 9609, 9616, 9617, 9628, 9637, 9640, 9652, 9657, 9667, 9680, 9682, 9689, 9714, 9721, 9748, 9751, 9760, 9806, 9812, 9815, 9818, 9822, 9825, 9829, 9830, 9834, 9835, 9846, 9868, 9869, 9877, 9882, 9893, 9906, 9911, 9932, 9933, 9951, 9952, 9960, 9987, 9990, 10006, 10016, 10022, 10028, 10038, 10047, 10052, 10054, 10065, 10070, 10073, 10076, 10095, 10101, 10102, 10104, 10114, 10126, 10130, 10132, 10135, 10139, 10175, 10176, 10192, 10200, 10203, 10209, 10210, 10225, 10226, 10228, 10251, 10257, 10260, 10261, 10280, 10281, 10301, 10310, 10320, 10322, 10324, 10353, 10367, 10384, 10392, 10397, 10409, 10414, 10415, 10427, 10433, 10443, 10462, 10468, 10470, 10471, 10472, 10473, 10474, 10478, 10481, 10483, 10485, 10492, 10509, 10510, 10512, 10526, 10527, 10528, 10540, 10544, 10560, 10571, 10578, 10580, 10587, 10588, 10602, 10603, 10613, 10618, 10619, 10625, 10634, 10638, 10642, 10653, 10659, 10673, 10679, 10683, 10692, 10717, 10726, 10745, 10760, 10776, 10777, 10778, 10780, 10783, 10787, 10789, 10808, 10814, 10827, 10833, 10866, 10871, 10875, 10897, 10898, 10899, 10901, 10910, 10919, 10921, 10926, 10929, 10930, 10952, 10977, 10991, 11002, 11013, 11015, 11020, 11037, 11041, 11042, 11044, 11045, 11051, 11062, 11067, 11086, 11089, 11114, 11116, 11118, 11120, 11122, 11123, 11131, 11147, 11148, 11153, 11154, 11156, 11164, 11172, 11175, 11197, 11199, 11204, 11208, 11238, 11242, 11248, 11250, 11256, 11261, 11270, 11279, 11283, 11307, 11308, 11316, 11317, 11318, 11319, 11328, 11331, 11345, 11353, 11357, 11359, 11362, 11373, 11393, 11395, 11399, 11420, 11424, 11426, 11432, 11435, 11441, 11444, 11445, 11462, 11468, 11474, 11475, 11477, 11488, 11490, 11496, 11498, 11523, 11525, 11527, 11528, 11529, 11565, 11575, 11582, 11596, 11606, 11607, 11608, 11615, 11621, 11629, 11631, 11633, 11635, 11654, 11655, 11657, 11685, 11686, 11700, 11708, 11717, 11720, 11721, 11732, 11734, 11735, 11738, 11745, 11749, 11753, 11768, 11787, 11789, 11794, 11799, 11805, 11818, 11830, 11839, 11854, 11866, 11871, 11872, 11875, 11879, 11899, 11901, 11905, 11927, 11929, 11936, 11937, 11939, 11941, 11942, 11943, 11955, 11956, 11957, 11973, 11978, 11995, 11996, 12000, 12005, 12011, 12018, 12027, 12034, 12048, 12050, 12052, 12058, 12068, 12070, 12072, 12076, 12080, 12082, 12084, 12088, 12089, 12090, 12092, 12093, 12096, 12102, 12115, 12118, 12119, 12131, 12147, 12152, 12160, 12163, 12168, 12189, 12196, 12201, 12214, 12217, 12219, 12224, 12225, 12229, 12235, 12241, 12242, 12243, 12245, 12246, 12254, 12255, 12256, 12259, 12270, 12271, 12278, 12282, 12287, 12290, 12291, 12295, 12312, 12331, 12335, 12336, 12358, 12373, 12374, 12389, 12391, 12401, 12402, 12403, 12404, 12407, 12414, 12420, 12426, 12431, 12435, 12439, 12445, 12459, 12467, 12470, 12485, 12496, 12497, 12499, 12503, 12504, 12509, 12553, 12559, 12561, 12563, 12566, 12567, 12595, 12596, 12598, 12610, 12630, 12658, 12661, 12663, 12671, 12678, 12686, 12690, 12692, 12693, 12694, 12704, 12714, 12724, 12726, 12727, 12728, 12734, 12739, 12740, 12750, 12751, 12752, 12767, 12785, 12786, 12796, 12802, 12803, 12812, 12818, 12819, 12828, 12829, 12831, 12877, 12881, 12882, 12883, 12888, 12900, 12905, 12960, 12969, 12974, 12975, 12999, 13010, 13018, 13019, 13025, 13026, 13027, 13030, 13035, 13037, 13046, 13054, 13056, 13060, 13061, 13062, 13065, 13073, 13086, 13089, 13090, 13099, 13100, 13117, 13118, 13123, 13124, 13153, 13157, 13158, 13167, 13184, 13185, 13205, 13226, 13230, 13236, 13238, 13240, 13252, 13253, 13254, 13259, 13264, 13270, 13276, 13278, 13280, 13284, 13291, 13297, 13309, 13314, 13316, 13318, 13326, 13336, 13338, 13339, 13342, 13343, 13344, 13346, 13348, 13350, 13351, 13353, 13386, 13399, 13400, 13405, 13415, 13420, 13441, 13442, 13444, 13445, 13448, 13451, 13452, 13458, 13465, 13474, 13475, 13483, 13485, 13494, 13498, 13503, 13506, 13508, 13513, 13514, 13520, 13523, 13525, 13530, 13531, 13546, 13556, 13558, 13563, 13576, 13583, 13597, 13599, 13608, 13630, 13631, 13634, 13636, 13638, 13644, 13649, 13651, 13661, 13662, 13667, 13682, 13684, 13733, 13739, 13741, 13747, 13752, 13754, 13756, 13758, 13773, 13778, 13780, 13792, 13793, 13804, 13806, 13808, 13811, 13812, 13816, 13832, 13833, 13837, 13842, 13843, 13848, 13856, 13862, 13866, 13877, 13899, 13900, 13912, 13917, 13918, 13921, 13922, 13925, 13926, 13927, 13929, 13931, 13933, 13936, 13938, 13940, 13948, 13951, 13952, 13964, 13968, 13970, 13972, 13973, 13977, 13991, 13996, 13998, 13999, 14000, 14001, 14016, 14021, 14024, 14029, 14034, 14050, 14080, 14086, 14088, 14089, 14114, 14115, 14116, 14117, 14119, 14133, 14140, 14149, 14167, 14169, 14170, 14172, 14173, 14185, 14190, 14193, 14194, 14198, 14202, 14203, 14231, 14233, 14236, 14238, 14240, 14244, 14245, 14276, 14277, 14278, 14279, 14280, 14284, 14288, 14307, 14315, 14320, 14333, 14339, 14346, 14349, 14353, 14359, 14363, 14366, 14370, 14373, 14375, 14381, 14400, 14403, 14408, 14409, 14414, 14415, 14416, 14417, 14422, 14423, 14426, 14437, 14441, 14444, 14451, 14454, 14462, 14470, 14473, 14477, 14486, 14488, 14497, 14499, 14508, 14509, 14511, 14518, 14536, 14544, 14545, 14548, 14577, 14597, 14605, 14612, 14625, 14626, 14632, 14641, 14669, 14672, 14704, 14706, 14711, 14713, 14714, 14742, 14751, 14759, 14779, 14780, 14799, 14800, 14802, 14814, 14832, 14849, 14852, 14861, 14862, 14873, 14878, 14882, 14883, 14899, 14913, 14932, 14943, 14947, 14948, 14950, 14958, 14962, 14972, 14975, 14984, 15006, 15008, 15011, 15013, 15014, 15015, 15017, 15018, 15026, 15029, 15050, 15052, 15065, 15067, 15076, 15079, 15081, 15082, 15084, 15085, 15088, 15091, 15092, 15108, 15113, 15120, 15121, 15129, 15132, 15146, 15147, 15155, 15165, 15168, 15180, 15194, 15202, 15204, 15226, 15227, 15230, 15231, 15234, 15237, 15239, 15256, 15259, 15260, 15262, 15264, 15267, 15268, 15269, 15270, 15283, 15284, 15291, 15294, 15301, 15302, 15303, 15307, 15357, 15359, 15362, 15363, 15365, 15369, 15375, 15378, 15393, 15395, 15396, 15397, 15401, 15414, 15415, 15423, 15433, 15436, 15437, 15438, 15441, 15446, 15455, 15456, 15466, 15472, 15474, 15476, 15477, 15478, 15487, 15495, 15508, 15515, 15521, 15525, 15566, 15588, 15608, 15609, 15621, 15622, 15626, 15632, 15634, 15647, 15649, 15650, 15656, 15658, 15659, 15660, 15670, 15695, 15701, 15719, 15721, 15733, 15738, 15740, 15742, 15743, 15752, 15763, 15782, 15788, 15798, 15809, 15834, 15836, 15837, 15839, 15844, 15858, 15861, 15867, 15873, 15879, 15881, 15890, 15894, 15910, 15912, 15918, 15921, 15922, 15935, 15943, 15946, 15947, 15951, 15952, 15960, 15963, 15965, 15967, 15975, 15976, 15984, 15988, 15990, 15996, 15997, 16001, 16004, 16009, 16013, 16014, 16020, 16022, 16039, 16051, 16052, 16058, 16077, 16082, 16084, 16085, 16088, 16093, 16100, 16102, 16106, 16111, 16112, 16113, 16119, 16120, 16121, 16122, 16129, 16130, 16131, 16145, 16149, 16157, 16177, 16179, 16183, 16220, 16221, 16225, 16227, 16229, 16230, 16233, 16236, 16237, 16238, 16244, 16247, 16252, 16253, 16254, 16257, 16258, 16265, 16273, 16280, 16284, 16285, 16286, 16313, 16315, 16339, 16365, 16366, 16378, 16382, 16429, 16436, 16443, 16450, 16454, 16455, 16456, 16470, 16472, 16487, 16489, 16490, 16494, 16496, 16500, 16501, 16504, 16505, 16506, 16511, 16514, 16521, 16526, 16535, 16545, 16548, 16550, 16552, 16554, 16555, 16557, 16561, 16562, 16566, 16567, 16571, 16573, 16589, 16591, 16592, 16596, 16600, 16603, 16604, 16610, 16614, 16617, 16622, 16624, 16627, 16648, 16655, 16658, 16667, 16668, 16676, 16682, 16696, 16701, 16703, 16706, 16718, 16720, 16721, 16730, 16746, 16749, 16751, 16752, 16759, 16761, 16765, 16767, 16786, 16799, 16809, 16841, 16842, 16843, 16856, 16857, 16858, 16865, 16872, 16888, 16890, 16900, 16901, 16920, 16926, 16927, 16933, 16937, 16940, 16943, 16947, 16948, 16953, 16957, 16965, 16966, 16969, 16975, 16984, 16995, 16996, 17001, 17006, 17021, 17022, 17027, 17033, 17057, 17078, 17103, 17105, 17107, 17117, 17161, 17179, 17189, 17194, 17200, 17206, 17207, 17208, 17209, 17212, 17217, 17219, 17232, 17235, 17240, 17241, 17242, 17246, 17266, 17267, 17270, 17274, 17275, 17277, 17279, 17280, 17286, 17288, 17289, 17296, 17303, 17308, 17309, 17312, 17333, 17358, 17370, 17388, 17389, 17396, 17402, 17403, 17404, 17405, 17409, 17410, 17417, 17419, 17423, 17429, 17431, 17432, 17433, 17438, 17443, 17447, 17453, 17459, 17473, 17475, 17477, 17483, 17491, 17493, 17506, 17518, 17526, 17537, 17560, 17577, 17579, 17587, 17597, 17601, 17603, 17624, 17644, 17647, 17653, 17660, 17662, 17664, 17665, 17679, 17699, 17704, 17705, 17711, 17712, 17714, 17716, 17739, 17744, 17753, 17758, 17759, 17764, 17770, 17780, 17784, 17791, 17799, 17805, 17806, 17831, 17838, 17846, 17852, 17861, 17864, 17884, 17886, 17888, 17903, 17904, 17906, 17909, 17910, 17923, 17925, 17928, 17938, 17939, 17943, 17945, 17950, 17957, 17966, 17969, 17977, 17978, 17988, 17993, 18000, 18003, 18015, 18018, 18022, 18026, 18032, 18034, 18037, 18041, 18045, 18048, 18051, 18053, 18055, 18083, 18101, 18102, 18111, 18112, 18113, 18114, 18115, 18116, 18117, 18119, 18124, 18125, 18126, 18132, 18146, 18151, 18155, 18160, 18164, 18178, 18190, 18200, 18204, 18217, 18224, 18227, 18249, 18256, 18281, 18289, 18295, 18296, 18302, 18309, 18313, 18316, 18327, 18333, 18337, 18342, 18351, 18371, 18380, 18381, 18382, 18407, 18424, 18439, 18457, 18458, 18459, 18464, 18470, 18490, 18491, 18492, 18498, 18513, 18530, 18548, 18560, 18564, 18584, 18629, 18630, 18632, 18634, 18635, 18636, 18637, 18663, 18665, 18666, 18691, 18696, 18698, 18699, 18701, 18703, 18711, 18714, 18716, 18717, 18720, 18722, 18723, 18729, 18738, 18743, 18760, 18761, 18785, 18790, 18792, 18800, 18824, 18831, 18841, 18845, 18850, 18879, 18880, 18883, 18887, 18888, 18902, 18920, 18937, 18954, 18970, 18971, 18975, 18976, 18980, 18986, 18993, 19005, 19034, 19035, 19041, 19046, 19055, 19056, 19057, 19065, 19068, 19072, 19073, 19074, 19079, 19081, 19099, 19105, 19107, 19120, 19144, 19153, 19174, 19175, 19176, 19177, 19181, 19183, 19184, 19190, 19191, 19192, 19194, 19200, 19203, 19204, 19221, 19228, 19247, 19254, 19263, 19271, 19273, 19278, 19282, 19293, 19299, 19304, 19315, 19318, 19319, 19336, 19337, 19343, 19344, 19345, 19346, 19351, 19357, 19359, 19360, 19369, 19371, 19374, 19379, 19381, 19382, 19383, 19406, 19410, 19411, 19431, 19432, 19433, 19466, 19487, 19493, 19502, 19506, 19508, 19510, 19511, 19518, 19523, 19524, 19525, 19532, 19534, 19543, 19568, 19586, 19591, 19596, 19601, 19602, 19606, 19608, 19610, 19613, 19615, 19617, 19618, 19619, 19620, 19621, 19623, 19626, 19629, 19632, 19636, 19639, 19643, 19644, 19645, 19655, 19658, 19659, 19663, 19664, 19665, 19666, 19676, 19722, 19727, 19729, 19740, 19748, 19750, 19767, 19770, 19785, 19791, 19792, 19795, 19828, 19830, 19846, 19860, 19877, 19885, 19887, 19892, 19893, 19895, 19899, 19901, 19910, 19913, 19915, 19933, 19934, 19943, 19944, 19953, 19954, 19955, 19956, 19958, 19960, 19961, 19962, 19964, 19965, 19966, 19969, 19982, 19988, 19989, 19991, 20010, 20016, 20019, 20022, 20038, 20041, 20043, 20051, 20058, 20059, 20061, 20064, 20077, 20091, 20099, 20108, 20110, 20142, 20143, 20145, 20150, 20152, 20165, 20166, 20167, 20168, 20169, 20190, 20206, 20209, 20213, 20217, 20226, 20230, 20235, 20240, 20249, 20262, 20265, 20266, 20267, 20269, 20271, 20277, 20281, 20285, 20295, 20297, 20300, 20301, 20308, 20314, 20316, 20317, 20319, 20320, 20326, 20350, 20366, 20368, 20369, 20377, 20382, 20384, 20386, 20387, 20390, 20393, 20407, 20409, 20410, 20411, 20418, 20423, 20424, 20426, 20427, 20437, 20439, 20441, 20442, 20444, 20447, 20457, 20476, 20480, 20495, 20507, 20508, 20509, 20510, 20514, 20538, 20550, 20551, 20558, 20563, 20571, 20572, 20573, 20577, 20579, 20583, 20587, 20595, 20601, 20609, 20626, 20629, 20632, 20639, 20640, 20650, 20652, 20655, 20656, 20657, 20658, 20660, 20664, 20666, 20667, 20685, 20690, 20691, 20694, 20710, 20724, 20726, 20730, 20759, 20764, 20765, 20768, 20772, 20776, 20789, 20795, 20796, 20799, 20802, 20806, 20808, 20818, 20823, 20840, 20841, 20844, 20847, 20851, 20853, 20872, 20873, 20874, 20902, 20919, 20933, 20949, 21018, 21020, 21028, 21053, 21060, 21062, 21069, 21071, 21073, 21094, 21096, 21106, 21108, 21109, 21111, 21121, 21123, 21127, 21134, 21135, 21138, 21148, 21149, 21150, 21155, 21163, 21181, 21204, 21217, 21218, 21220, 21221, 21227, 21237, 21239, 21249, 21250, 21251, 21257, 21261, 21276, 21280, 21284, 21293, 21300, 21303, 21304, 21307, 21315, 21323, 21337, 21338, 21340, 21356, 21361, 21363, 21376, 21387, 21390, 21392, 21410, 21421, 21426, 21427, 21429, 21431, 21432, 21433, 21437, 21439, 21443, 21447, 21449, 21465, 21482, 21484, 21498, 21500, 21510, 21516, 21535, 21550, 21551, 21553, 21557, 21558, 21567, 21569, 21572, 21580, 21585, 21588, 21589, 21599, 21612, 21614, 21616, 21619, 21623, 21628, 21633, 21642, 21644, 21655, 21673, 21696, 21714, 21715, 21724, 21733, 21769, 21771, 21773, 21776, 21784, 21795, 21798, 21801, 21830, 21831, 21833, 21837, 21852, 21858, 21860, 21861, 21871, 21873, 21877, 21878, 21879, 21880, 21888, 21894, 21899, 21900, 21907, 21908, 21921, 21931, 21932, 21933, 21941, 21949, 21951, 21955, 21957, 21959, 21960, 21961, 21964, 21966, 21967, 21968, 21970, 21971, 21991, 21992, 21994, 21996, 21998, 21999, 22000, 22001, 22009, 22011, 22012, 22025, 22033, 22038, 22040, 22043, 22045, 22047, 22075, 22099, 22105, 22113, 22121, 22122, 22123, 22126, 22139, 22153, 22169, 22170, 22172, 22174, 22175, 22177, 22193, 22198, 22241, 22246, 22265, 22272, 22274, 22275, 22281, 22283, 22285, 22287, 22299, 22302, 22307, 22316, 22317, 22332, 22340, 22343, 22352, 22358, 22362, 22383, 22405, 22411, 22416, 22419, 22421, 22431, 22435, 22437, 22438, 22440, 22448, 22457, 22460, 22478, 22496, 22501, 22547, 22549, 22550, 22551, 22553, 22554, 22557, 22564, 22565, 22576, 22588, 22589, 22595, 22611, 22614, 22620, 22623, 22624, 22632, 22636, 22640, 22643, 22652, 22658, 22661, 22662, 22663, 22666, 22667, 22674, 22675, 22678, 22690, 22703, 22711, 22712, 22714, 22717, 22727, 22738, 22750, 22751, 22753, 22768, 22776, 22780, 22785, 22789, 22792, 22796, 22797, 22800, 22822, 22823, 22826, 22827, 22849, 22865, 22879, 22893, 22900, 22909, 22922, 22925, 22933, 22939, 22941, 22945, 22952, 22954, 22956, 22957, 22966, 22967, 23001, 23003, 23024, 23025, 23031, 23033, 23036, 23038, 23040, 23043, 23049, 23058, 23064, 23067, 23071, 23074, 23077, 23093, 23098, 23103, 23124, 23125, 23161, 23164, 23166, 23181, 23182, 23193, 23198, 23201, 23209, 23212, 23232, 23235, 23236, 23248, 23267, 23268, 23270, 23277, 23279, 23285, 23311, 23313, 23319, 23369, 23370, 23372, 23373, 23374, 23382, 23385, 23386, 23389, 23397, 23398, 23403, 23405, 23406, 23423, 23447, 23455, 23457, 23478, 23501, 23502, 23509, 23510, 23511, 23514, 23516, 23526, 23529, 23537, 23538, 23541, 23546, 23552, 23556, 23562, 23575, 23590, 23592, 23594, 23597, 23598, 23602, 23608, 23613, 23617, 23645, 23647, 23648, 23649, 23664, 23680, 23696, 23700, 23704, 23713, 23715, 23716, 23719, 23720, 23742, 23744, 23748, 23749, 23750, 23752, 23755, 23758, 23759, 23767, 23769, 23771, 23773, 23776, 23777, 23786, 23788, 23790, 23801, 23815, 23824, 23836, 23838, 23839, 23840, 23845, 23849, 23850, 23854, 23856, 23857, 23858, 23865, 23872, 23873, 23874, 23879, 23880, 23882, 23883, 23899, 23901, 23902, 23906, 23907, 23913, 23919, 23923, 23924, 23936, 23951, 23954, 23956, 23959, 23979, 23982, 23987, 24004, 24005, 24006, 24007, 24008, 24010, 24011, 24020, 24025, 24030, 24036, 24042, 24051, 24052, 24053, 24058, 24081, 24082, 24083, 24086, 24095, 24100, 24113, 24114, 24122, 24123, 24131, 24132, 24179, 24181, 24185, 24200, 24206, 24219, 24229, 24248, 24255, 24259, 24260, 24262, 24265, 24280, 24298, 24299, 24301, 24303, 24306, 24307, 24312, 24315, 24347, 24358, 24361, 24366, 24371, 24376, 24397, 24410, 24414, 24417, 24425, 24427, 24439, 24441, 24444, 24446, 24451, 24461, 24473, 24475, 24476, 24477, 24482, 24484, 24492, 24500, 24509, 24530, 24531, 24533, 24535, 24536, 24545, 24549, 24551, 24555, 24556, 24557, 24558, 24561, 24564, 24567, 24568, 24571, 24572, 24573, 24586, 24592, 24593, 24621, 24624, 24625, 24635, 24636, 24641, 24651, 24675, 24699, 24703, 24706, 24709, 24713, 24714, 24717, 24719, 24728, 24729, 24730, 24739, 24742, 24745, 24748, 24749, 24750, 24756, 24757, 24758, 24761, 24773, 24776, 24777, 24785, 24791, 24792, 24796, 24802, 24804, 24812, 24819, 24823, 24826, 24828, 24832, 24833, 24834, 24842, 24852, 24861, 24870, 24876, 24882, 24889, 24901, 24905, 24907, 24916, 24948, 24957, 24958, 24963, 24998]\n"
     ]
    }
   ],
   "source": [
    "\n",
    "phrase = []\n",
    "sequence_i = []\n",
    "for i, tx in enumerate(tokenized_imdb['train']):\n",
    "    if len(tx['input_ids']) == 512:\n",
    "        phrase.append(tx['text'])\n",
    "        sequence_i.append(i)\n",
    "print(len(phrase))\n",
    "print(sequence_i)"
   ]
  },
  {
   "attachments": {},
   "cell_type": "markdown",
   "metadata": {},
   "source": [
    "Now create a batch of examples using <a href=\"https://huggingface.co/docs/transformers/v4.29.0/en/main_classes/data_collator#transformers.DataCollatorWithPadding\"> DataCollatorWithPadding</a>. It’s more efficient to dynamically pad the sentences to the longest length in a batch during collation, instead of padding the whole dataset to the maximum length."
   ]
  },
  {
   "cell_type": "code",
   "execution_count": 9,
   "metadata": {},
   "outputs": [],
   "source": [
    "from transformers import DataCollatorWithPadding\n",
    "\n",
    "data_collator = DataCollatorWithPadding(tokenizer=tokenizer)"
   ]
  },
  {
   "attachments": {},
   "cell_type": "markdown",
   "metadata": {},
   "source": [
    "## Evaluate <br>\n",
    "Including a metric during training is often helpful for evaluating your model’s performance. You can quickly load a evaluation method with the 🤗 Evaluate library. For this task, load the accuracy metric (see the 🤗 Evaluate quick tour to learn more about how to load and compute a metric):"
   ]
  },
  {
   "cell_type": "code",
   "execution_count": 10,
   "metadata": {},
   "outputs": [],
   "source": [
    "import evaluate\n",
    "\n",
    "accuracy = evaluate.load(\"accuracy\")"
   ]
  },
  {
   "attachments": {},
   "cell_type": "markdown",
   "metadata": {},
   "source": [
    "Then create a function that passes your predictions and labels to compute to calculate the accuracy:"
   ]
  },
  {
   "cell_type": "code",
   "execution_count": 11,
   "metadata": {},
   "outputs": [],
   "source": [
    "import numpy as np\n",
    "\n",
    "\n",
    "def compute_metrics(eval_pred):\n",
    "    predictions, labels = eval_pred\n",
    "    predictions = np.argmax(predictions, axis=1)\n",
    "    return accuracy.compute(predictions=predictions, references=labels)"
   ]
  },
  {
   "attachments": {},
   "cell_type": "markdown",
   "metadata": {},
   "source": [
    "Your compute_metrics function is ready to go now, and you’ll return to it when you setup your training."
   ]
  },
  {
   "attachments": {},
   "cell_type": "markdown",
   "metadata": {},
   "source": [
    "\n",
    "## Train\n",
    "Before you start training your model, create a map of the expected ids to their labels with id2label and label2id:"
   ]
  },
  {
   "cell_type": "code",
   "execution_count": null,
   "metadata": {},
   "outputs": [],
   "source": [
    "id2label = {0: \"NEGATIVE\", 1: \"POSITIVE\"}\n",
    "label2id = {\"NEGATIVE\": 0, \"POSITIVE\": 1}"
   ]
  },
  {
   "attachments": {},
   "cell_type": "markdown",
   "metadata": {},
   "source": [
    "### Pytorch"
   ]
  },
  {
   "attachments": {},
   "cell_type": "markdown",
   "metadata": {},
   "source": [
    "If you aren’t familiar with finetuning a model with the Trainer, take a look at the basic tutorial <a href=\"https://huggingface.co/docs/transformers/training#train-with-pytorch-trainer\">here</a>!"
   ]
  },
  {
   "cell_type": "code",
   "execution_count": null,
   "metadata": {},
   "outputs": [],
   "source": [
    "from transformers import AutoModelForSequenceClassification, TrainingArguments, Trainer\n",
    "\n",
    "model = AutoModelForSequenceClassification.from_pretrained(\n",
    "    \"distilbert-base-uncased\", num_labels=2, id2label=id2label, label2id=label2id\n",
    ")"
   ]
  },
  {
   "cell_type": "code",
   "execution_count": null,
   "metadata": {},
   "outputs": [],
   "source": [
    "training_args = TrainingArguments(\n",
    "    output_dir=\"my_awesome_model\",\n",
    "    learning_rate=2e-5,\n",
    "    per_device_train_batch_size=16,\n",
    "    per_device_eval_batch_size=16,\n",
    "    num_train_epochs=2,\n",
    "    weight_decay=0.01,\n",
    "    evaluation_strategy=\"epoch\",\n",
    "    save_strategy=\"epoch\",\n",
    "    load_best_model_at_end=True,\n",
    "    push_to_hub=True,\n",
    ")\n",
    "\n",
    "trainer = Trainer(\n",
    "    model=model,\n",
    "    args=training_args,\n",
    "    train_dataset=tokenized_imdb[\"train\"],\n",
    "    eval_dataset=tokenized_imdb[\"test\"],\n",
    "    tokenizer=tokenizer,\n",
    "    data_collator=data_collator,\n",
    "    compute_metrics=compute_metrics,\n",
    ")\n",
    "\n",
    "trainer.train()"
   ]
  },
  {
   "attachments": {},
   "cell_type": "markdown",
   "metadata": {},
   "source": [
    "## Inference"
   ]
  },
  {
   "cell_type": "code",
   "execution_count": 3,
   "metadata": {},
   "outputs": [],
   "source": [
    "from transformers import pipeline\n",
    "\n",
    "classifier = pipeline(\"sentiment-analysis\", model=\"Chantland/my_awesome_model\")"
   ]
  },
  {
   "cell_type": "code",
   "execution_count": 4,
   "metadata": {},
   "outputs": [
    {
     "data": {
      "text/plain": [
       "[{'label': 'NEGATIVE', 'score': 0.9917591214179993}]"
      ]
     },
     "execution_count": 4,
     "metadata": {},
     "output_type": "execute_result"
    }
   ],
   "source": [
    "# text = \"This was a masterpiece. Not completely faithful to the books, but enthralling from beginning to end. Might be my favorite of the three.\"\n",
    "text = \"Butter my toast, this was bad!\"\n",
    "classifier(text)"
   ]
  },
  {
   "attachments": {},
   "cell_type": "markdown",
   "metadata": {},
   "source": [
    "### Manual inference via Pytorch"
   ]
  },
  {
   "attachments": {},
   "cell_type": "markdown",
   "metadata": {},
   "source": [
    "(This is like the above inference, only manual)\n",
    "Tokenize the text and return PyTorch tensors:"
   ]
  },
  {
   "cell_type": "code",
   "execution_count": null,
   "metadata": {},
   "outputs": [],
   "source": [
    "from transformers import AutoTokenizer\n",
    "\n",
    "tokenizer = AutoTokenizer.from_pretrained(\"stevhliu/my_awesome_model\")\n",
    "inputs = tokenizer(text, return_tensors=\"pt\")"
   ]
  },
  {
   "attachments": {},
   "cell_type": "markdown",
   "metadata": {},
   "source": [
    "Pass your inputs to the model and return the logits:"
   ]
  },
  {
   "cell_type": "code",
   "execution_count": null,
   "metadata": {},
   "outputs": [],
   "source": [
    "from transformers import AutoModelForSequenceClassification\n",
    "\n",
    "model = AutoModelForSequenceClassification.from_pretrained(\"stevhliu/my_awesome_model\")\n",
    "with torch.no_grad():\n",
    "    logits = model(**inputs).logits"
   ]
  },
  {
   "attachments": {},
   "cell_type": "markdown",
   "metadata": {},
   "source": [
    "Get the class with the highest probability, and use the model’s id2label mapping to convert it to a text label:"
   ]
  },
  {
   "cell_type": "code",
   "execution_count": null,
   "metadata": {},
   "outputs": [],
   "source": [
    "predicted_class_id = logits.argmax().item()\n",
    "model.config.id2label[predicted_class_id]"
   ]
  },
  {
   "attachments": {},
   "cell_type": "markdown",
   "metadata": {},
   "source": [
    "## Tokenizing practice"
   ]
  },
  {
   "cell_type": "code",
   "execution_count": 4,
   "metadata": {},
   "outputs": [],
   "source": [
    "import numpy as np\n",
    "y_train = np.random.randint(0,2,3)\n",
    "x_train = [\"agsf\",\"fuhaseuif\", \"jwfhaiu\"]\n",
    "y_val = np.random.randint(0,2,3)\n",
    "x_val = [\"agsf\",\"fuhaseuif\", \"jwfhaiu\"]\n",
    "y_test = np.random.randint(0,2,3)\n",
    "x_test = [\"agsf\",\"fuhaseuif\", \"jwfhaiu\"]"
   ]
  },
  {
   "cell_type": "code",
   "execution_count": 9,
   "metadata": {},
   "outputs": [],
   "source": [
    "d = DatasetDict({'train':Dataset.from_dict({'label':y_train,'text':x_train}),\n",
    "     'val':Dataset.from_dict({'label':y_val,'text':x_val}),\n",
    "     'test':Dataset.from_dict({'label':y_test,'text':x_test})\n",
    "     })"
   ]
  },
  {
   "cell_type": "code",
   "execution_count": 10,
   "metadata": {},
   "outputs": [
    {
     "data": {
      "text/plain": [
       "{'label': 1, 'text': 'agsf'}"
      ]
     },
     "execution_count": 10,
     "metadata": {},
     "output_type": "execute_result"
    }
   ],
   "source": [
    "d[\"train\"][0]"
   ]
  },
  {
   "cell_type": "code",
   "execution_count": 11,
   "metadata": {},
   "outputs": [
    {
     "data": {
      "text/plain": [
       "DatasetDict({\n",
       "    train: Dataset({\n",
       "        features: ['label', 'text'],\n",
       "        num_rows: 3\n",
       "    })\n",
       "    val: Dataset({\n",
       "        features: ['label', 'text'],\n",
       "        num_rows: 3\n",
       "    })\n",
       "    test: Dataset({\n",
       "        features: ['label', 'text'],\n",
       "        num_rows: 3\n",
       "    })\n",
       "})"
      ]
     },
     "execution_count": 11,
     "metadata": {},
     "output_type": "execute_result"
    }
   ],
   "source": [
    "d"
   ]
  }
 ],
 "metadata": {
  "kernelspec": {
   "display_name": "Python 3",
   "language": "python",
   "name": "python3"
  },
  "language_info": {
   "codemirror_mode": {
    "name": "ipython",
    "version": 3
   },
   "file_extension": ".py",
   "mimetype": "text/x-python",
   "name": "python",
   "nbconvert_exporter": "python",
   "pygments_lexer": "ipython3",
   "version": "3.10.11"
  },
  "orig_nbformat": 4
 },
 "nbformat": 4,
 "nbformat_minor": 2
}
