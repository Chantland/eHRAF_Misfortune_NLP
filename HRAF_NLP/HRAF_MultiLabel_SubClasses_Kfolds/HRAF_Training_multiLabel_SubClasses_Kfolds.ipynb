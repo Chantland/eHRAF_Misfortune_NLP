{
 "cells": [
  {
   "cell_type": "code",
   "execution_count": 1,
   "metadata": {},
   "outputs": [],
   "source": [
    "from datasets.dataset_dict import DatasetDict\n",
    "from datasets import Dataset, concatenate_datasets\n",
    "import evaluate\n",
    "import os\n",
    "import json\n",
    "import pandas as pd\n",
    "import numpy as np\n",
    "\n",
    "from sklearn.model_selection import train_test_split \n"
   ]
  },
  {
   "cell_type": "code",
   "execution_count": null,
   "metadata": {},
   "outputs": [
    {
     "data": {
      "application/vnd.jupyter.widget-view+json": {
       "model_id": "4289dd93ebdb4e628ffd8f4d9373257a",
       "version_major": 2,
       "version_minor": 0
      },
      "text/plain": [
       "VBox(children=(HTML(value='<center> <img\\nsrc=https://huggingface.co/front/assets/huggingface_logo-noborder.sv…"
      ]
     },
     "metadata": {},
     "output_type": "display_data"
    }
   ],
   "source": [
    "# OPTIONAL - FOR UPLOADING TO HUGGINGFACE\n",
    "# from huggingface_hub import notebook_login\n",
    "# # # copy and paste this code in the terminal: huggingface-cli login \n",
    "# # then paste this read token (you will have to construct it)\n",
    "\n",
    "\n",
    "# notebook_login()"
   ]
  },
  {
   "attachments": {},
   "cell_type": "markdown",
   "metadata": {},
   "source": [
    "## Import the dataset"
   ]
  },
  {
   "cell_type": "code",
   "execution_count": 144,
   "metadata": {},
   "outputs": [
    {
     "data": {
      "text/html": [
       "<div>\n",
       "<style scoped>\n",
       "    .dataframe tbody tr th:only-of-type {\n",
       "        vertical-align: middle;\n",
       "    }\n",
       "\n",
       "    .dataframe tbody tr th {\n",
       "        vertical-align: top;\n",
       "    }\n",
       "\n",
       "    .dataframe thead tr th {\n",
       "        text-align: left;\n",
       "    }\n",
       "</style>\n",
       "<table border=\"1\" class=\"dataframe\">\n",
       "  <thead>\n",
       "    <tr>\n",
       "      <th></th>\n",
       "      <th colspan=\"10\" halign=\"left\">CULTURE</th>\n",
       "      <th>...</th>\n",
       "      <th colspan=\"3\" halign=\"left\">ACTION</th>\n",
       "      <th>OTHER</th>\n",
       "      <th colspan=\"3\" halign=\"left\">CODER</th>\n",
       "      <th>OTHER</th>\n",
       "      <th colspan=\"2\" halign=\"left\">CODER</th>\n",
       "    </tr>\n",
       "    <tr>\n",
       "      <th></th>\n",
       "      <th>Passage Number</th>\n",
       "      <th>Region</th>\n",
       "      <th>SubRegion</th>\n",
       "      <th>Culture</th>\n",
       "      <th>DocTitle</th>\n",
       "      <th>Section</th>\n",
       "      <th>Author</th>\n",
       "      <th>Page</th>\n",
       "      <th>Year</th>\n",
       "      <th>OCM</th>\n",
       "      <th>...</th>\n",
       "      <th>Other</th>\n",
       "      <th>Description</th>\n",
       "      <th>Local_terms</th>\n",
       "      <th>Other_Comments</th>\n",
       "      <th>Run_Number</th>\n",
       "      <th>Finished</th>\n",
       "      <th>Coder</th>\n",
       "      <th>Other_Comments.1</th>\n",
       "      <th>Dataset</th>\n",
       "      <th>Info</th>\n",
       "    </tr>\n",
       "  </thead>\n",
       "  <tbody>\n",
       "    <tr>\n",
       "      <th>0</th>\n",
       "      <td>1392</td>\n",
       "      <td>Asia</td>\n",
       "      <td>South Asia</td>\n",
       "      <td>Andamans</td>\n",
       "      <td>Hygiene and medical practices among the Onge (...</td>\n",
       "      <td>1. Habitation</td>\n",
       "      <td>Cipriani, Lidio</td>\n",
       "      <td>484</td>\n",
       "      <td>1961</td>\n",
       "      <td>['171', '301', '727', '751', '765', '775', '777']</td>\n",
       "      <td>...</td>\n",
       "      <td>1</td>\n",
       "      <td>Several customs are believed to connect with t...</td>\n",
       "      <td>ibidanghe: made from decorated human jawbone ...</td>\n",
       "      <td>General note of this spreadsheet - many of the...</td>\n",
       "      <td>1</td>\n",
       "      <td>True</td>\n",
       "      <td>YM</td>\n",
       "      <td>NaN</td>\n",
       "      <td>1</td>\n",
       "      <td>Dataset 1: ['750', '751', '752', '753']   Coun...</td>\n",
       "    </tr>\n",
       "    <tr>\n",
       "      <th>1</th>\n",
       "      <td>1393</td>\n",
       "      <td>Asia</td>\n",
       "      <td>South Asia</td>\n",
       "      <td>Andamans</td>\n",
       "      <td>Hygiene and medical practices among the Onge (...</td>\n",
       "      <td>3. Food</td>\n",
       "      <td>Cipriani, Lidio</td>\n",
       "      <td>487</td>\n",
       "      <td>1961</td>\n",
       "      <td>['136', '231', '271', '312', '415', '516', '751']</td>\n",
       "      <td>...</td>\n",
       "      <td>0</td>\n",
       "      <td>No action is mentioned</td>\n",
       "      <td>0</td>\n",
       "      <td>NaN</td>\n",
       "      <td>1</td>\n",
       "      <td>True</td>\n",
       "      <td>YM</td>\n",
       "      <td>NaN</td>\n",
       "      <td>1</td>\n",
       "      <td>Dataset 2: ['784', '731', '732', '777', '791',...</td>\n",
       "    </tr>\n",
       "    <tr>\n",
       "      <th>2</th>\n",
       "      <td>1395</td>\n",
       "      <td>Asia</td>\n",
       "      <td>South Asia</td>\n",
       "      <td>Andamans</td>\n",
       "      <td>Hygiene and medical practices among the Onge (...</td>\n",
       "      <td>3. Food</td>\n",
       "      <td>Cipriani, Lidio</td>\n",
       "      <td>490</td>\n",
       "      <td>1961</td>\n",
       "      <td>['114', '137', '164', '262', '273', '751', '825']</td>\n",
       "      <td>...</td>\n",
       "      <td>0</td>\n",
       "      <td>Certain foods, such as Pteropus (giant bat) an...</td>\n",
       "      <td>Pteropus: a giant bat  eaten by the Andaman Is...</td>\n",
       "      <td>NaN</td>\n",
       "      <td>1</td>\n",
       "      <td>True</td>\n",
       "      <td>YM</td>\n",
       "      <td>NaN</td>\n",
       "      <td>1</td>\n",
       "      <td>Run 1: Spring 2023 Coding of Sickness dataset ...</td>\n",
       "    </tr>\n",
       "  </tbody>\n",
       "</table>\n",
       "<p>3 rows × 43 columns</p>\n",
       "</div>"
      ],
      "text/plain": [
       "         CULTURE                               \\\n",
       "  Passage Number Region   SubRegion   Culture   \n",
       "0           1392   Asia  South Asia  Andamans   \n",
       "1           1393   Asia  South Asia  Andamans   \n",
       "2           1395   Asia  South Asia  Andamans   \n",
       "\n",
       "                                                                     \\\n",
       "                                            DocTitle        Section   \n",
       "0  Hygiene and medical practices among the Onge (...  1. Habitation   \n",
       "1  Hygiene and medical practices among the Onge (...        3. Food   \n",
       "2  Hygiene and medical practices among the Onge (...        3. Food   \n",
       "\n",
       "                               \\\n",
       "            Author Page  Year   \n",
       "0  Cipriani, Lidio  484  1961   \n",
       "1  Cipriani, Lidio  487  1961   \n",
       "2  Cipriani, Lidio  490  1961   \n",
       "\n",
       "                                                      ... ACTION  \\\n",
       "                                                 OCM  ...  Other   \n",
       "0  ['171', '301', '727', '751', '765', '775', '777']  ...      1   \n",
       "1  ['136', '231', '271', '312', '415', '516', '751']  ...      0   \n",
       "2  ['114', '137', '164', '262', '273', '751', '825']  ...      0   \n",
       "\n",
       "                                                      \\\n",
       "                                         Description   \n",
       "0  Several customs are believed to connect with t...   \n",
       "1                             No action is mentioned   \n",
       "2  Certain foods, such as Pteropus (giant bat) an...   \n",
       "\n",
       "                                                      \\\n",
       "                                         Local_terms   \n",
       "0   ibidanghe: made from decorated human jawbone ...   \n",
       "1                                                  0   \n",
       "2  Pteropus: a giant bat  eaten by the Andaman Is...   \n",
       "\n",
       "                                               OTHER      CODER           \\\n",
       "                                      Other_Comments Run_Number Finished   \n",
       "0  General note of this spreadsheet - many of the...          1     True   \n",
       "1                                                NaN          1     True   \n",
       "2                                                NaN          1     True   \n",
       "\n",
       "                   OTHER   CODER  \\\n",
       "  Coder Other_Comments.1 Dataset   \n",
       "0    YM              NaN       1   \n",
       "1    YM              NaN       1   \n",
       "2    YM              NaN       1   \n",
       "\n",
       "                                                      \n",
       "                                                Info  \n",
       "0  Dataset 1: ['750', '751', '752', '753']   Coun...  \n",
       "1  Dataset 2: ['784', '731', '732', '777', '791',...  \n",
       "2  Run 1: Spring 2023 Coding of Sickness dataset ...  \n",
       "\n",
       "[3 rows x 43 columns]"
      ]
     },
     "execution_count": 144,
     "metadata": {},
     "output_type": "execute_result"
    }
   ],
   "source": [
    "\n",
    "df_path = \"../../../eHRAF_Scraper-Analysis-and-Prep/Data/\"\n",
    "dataFolder = r\"(subjects-(contracts_OR_disabilities_OR_disasters_OR_friendships_OR_gift_giving_OR_infant_feeding_OR_lineages_OR_local_officials_OR_luck_and_chance_OR_magicians_and_diviners_OR_mortuary_specialists_OR_nuclear_family_OR_priesthood_OR_prophet/\"\n",
    "# dataFolder = r'subjects-(sickness)_FILTERS-culture_level_samples(PSF)'\n",
    "\n",
    "\n",
    "# Get model and centralized path if relevent\n",
    "model_name = \"HRAF_MultiLabel_SubClasses_Kfolds\"\n",
    "path = f\"\" #Path to centralized file locations (leave blank if centralized location is here)\n",
    "\n",
    "\n",
    "\n",
    "# load df (only load one of these commented out lines)\n",
    "# df = pd.read_excel(f\"{df_path}{dataFolder}/_Altogether_Dataset_RACoded.xlsx\", header=[0,1], index_col=0) # Fall 2023 sickness + non-sickness\n",
    "df = pd.read_excel(f\"{df_path}{dataFolder}/_Altogether_Dataset_RACoded_Combined.xlsx\", header=[0,1], index_col=0) # Spring 2023 - Spring 2024  sickness + nonsickness dataset\n",
    "df.head(3)"
   ]
  },
  {
   "cell_type": "markdown",
   "metadata": {},
   "source": [
    "## Preprocess"
   ]
  },
  {
   "cell_type": "markdown",
   "metadata": {},
   "source": [
    "### Remove Duplicates"
   ]
  },
  {
   "cell_type": "markdown",
   "metadata": {},
   "source": [
    "There were multiple iterations of Research Assistants labeling the data. <br>\n",
    "We will just use run number 1 and 3 with preference to 3 when there are duplicates (as it is the most recent and robust)\n",
    "\n"
   ]
  },
  {
   "cell_type": "code",
   "execution_count": 145,
   "metadata": {},
   "outputs": [
    {
     "data": {
      "text/plain": [
       "Run_Number  Dataset\n",
       "1           1          1926\n",
       "2           1            51\n",
       "3           1          4844\n",
       "            2          4184\n",
       "Name: count, dtype: int64"
      ]
     },
     "execution_count": 145,
     "metadata": {},
     "output_type": "execute_result"
    }
   ],
   "source": [
    "# Show run number and dataset\n",
    "df[\"CODER\"][[\"Run_Number\", \"Dataset\"]].value_counts(sort=False, dropna=False)"
   ]
  },
  {
   "cell_type": "code",
   "execution_count": 146,
   "metadata": {},
   "outputs": [
    {
     "name": "stdout",
     "output_type": "stream",
     "text": [
      "Duplicate Passages: 0\n"
     ]
    },
    {
     "data": {
      "text/plain": [
       "(CODER, Run_Number)\n",
       "3    9027\n",
       "1    1340\n",
       "Name: count, dtype: int64"
      ]
     },
     "execution_count": 146,
     "metadata": {},
     "output_type": "execute_result"
    }
   ],
   "source": [
    "# useRuns = [1,3] #Only include these runs (NOTE THIS IS COMMENTED OUT IN ORDER TO NOT RUIN THE SUBLABEL DATASET BUT EVENTUALLY YOU SHOULD USE THIS CODE)\n",
    "# df = df.loc[df[(\"CODER\",\"Run_Number\")].isin(useRuns)]\n",
    "\n",
    "mask_NotDuplicate = ~(df.duplicated((\"CULTURE\",\"Passage\"), keep=False)) \n",
    "mask_Dataset2 = df[(\"CODER\",\"Run_Number\")]==3\n",
    "\n",
    "df = df[(mask_NotDuplicate) |  (mask_Dataset2)]\n",
    "\n",
    "\n",
    "\n",
    "\n",
    "# Remove certain passages which should not be in training or inference (these are duplicates that had to be manually found by a human)\n",
    "values_to_remove = [3252, 33681, 6758, 10104]\n",
    "df = df[~df[('CULTURE','Passage Number')].isin(values_to_remove)]\n",
    "\n",
    "print(\"Duplicate Passages:\",sum((df.duplicated((\"CULTURE\",\"Passage\")))))\n",
    "df[(\"CODER\",\"Run_Number\")].value_counts()"
   ]
  },
  {
   "cell_type": "code",
   "execution_count": 147,
   "metadata": {},
   "outputs": [
    {
     "data": {
      "text/html": [
       "<div>\n",
       "<style scoped>\n",
       "    .dataframe tbody tr th:only-of-type {\n",
       "        vertical-align: middle;\n",
       "    }\n",
       "\n",
       "    .dataframe tbody tr th {\n",
       "        vertical-align: top;\n",
       "    }\n",
       "\n",
       "    .dataframe thead tr th {\n",
       "        text-align: left;\n",
       "    }\n",
       "</style>\n",
       "<table border=\"1\" class=\"dataframe\">\n",
       "  <thead>\n",
       "    <tr>\n",
       "      <th></th>\n",
       "      <th colspan=\"10\" halign=\"left\">CULTURE</th>\n",
       "      <th>...</th>\n",
       "      <th colspan=\"3\" halign=\"left\">ACTION</th>\n",
       "      <th>OTHER</th>\n",
       "      <th colspan=\"3\" halign=\"left\">CODER</th>\n",
       "      <th>OTHER</th>\n",
       "      <th colspan=\"2\" halign=\"left\">CODER</th>\n",
       "    </tr>\n",
       "    <tr>\n",
       "      <th></th>\n",
       "      <th>Passage Number</th>\n",
       "      <th>Region</th>\n",
       "      <th>SubRegion</th>\n",
       "      <th>Culture</th>\n",
       "      <th>DocTitle</th>\n",
       "      <th>Section</th>\n",
       "      <th>Author</th>\n",
       "      <th>Page</th>\n",
       "      <th>Year</th>\n",
       "      <th>OCM</th>\n",
       "      <th>...</th>\n",
       "      <th>Other</th>\n",
       "      <th>Description</th>\n",
       "      <th>Local_terms</th>\n",
       "      <th>Other_Comments</th>\n",
       "      <th>Run_Number</th>\n",
       "      <th>Finished</th>\n",
       "      <th>Coder</th>\n",
       "      <th>Other_Comments.1</th>\n",
       "      <th>Dataset</th>\n",
       "      <th>Info</th>\n",
       "    </tr>\n",
       "  </thead>\n",
       "  <tbody>\n",
       "    <tr>\n",
       "      <th>0</th>\n",
       "      <td>1392</td>\n",
       "      <td>Asia</td>\n",
       "      <td>South Asia</td>\n",
       "      <td>Andamans</td>\n",
       "      <td>Hygiene and medical practices among the Onge (...</td>\n",
       "      <td>1. Habitation</td>\n",
       "      <td>Cipriani, Lidio</td>\n",
       "      <td>484</td>\n",
       "      <td>1961</td>\n",
       "      <td>['171', '301', '727', '751', '765', '775', '777']</td>\n",
       "      <td>...</td>\n",
       "      <td>1</td>\n",
       "      <td>Several customs are believed to connect with t...</td>\n",
       "      <td>ibidanghe: made from decorated human jawbone ...</td>\n",
       "      <td>General note of this spreadsheet - many of the...</td>\n",
       "      <td>1</td>\n",
       "      <td>True</td>\n",
       "      <td>YM</td>\n",
       "      <td>NaN</td>\n",
       "      <td>1</td>\n",
       "      <td>Dataset 1: ['750', '751', '752', '753']   Coun...</td>\n",
       "    </tr>\n",
       "    <tr>\n",
       "      <th>1</th>\n",
       "      <td>1393</td>\n",
       "      <td>Asia</td>\n",
       "      <td>South Asia</td>\n",
       "      <td>Andamans</td>\n",
       "      <td>Hygiene and medical practices among the Onge (...</td>\n",
       "      <td>3. Food</td>\n",
       "      <td>Cipriani, Lidio</td>\n",
       "      <td>487</td>\n",
       "      <td>1961</td>\n",
       "      <td>['136', '231', '271', '312', '415', '516', '751']</td>\n",
       "      <td>...</td>\n",
       "      <td>0</td>\n",
       "      <td>No action is mentioned</td>\n",
       "      <td>0</td>\n",
       "      <td>NaN</td>\n",
       "      <td>1</td>\n",
       "      <td>True</td>\n",
       "      <td>YM</td>\n",
       "      <td>NaN</td>\n",
       "      <td>1</td>\n",
       "      <td>Dataset 2: ['784', '731', '732', '777', '791',...</td>\n",
       "    </tr>\n",
       "    <tr>\n",
       "      <th>2</th>\n",
       "      <td>1395</td>\n",
       "      <td>Asia</td>\n",
       "      <td>South Asia</td>\n",
       "      <td>Andamans</td>\n",
       "      <td>Hygiene and medical practices among the Onge (...</td>\n",
       "      <td>3. Food</td>\n",
       "      <td>Cipriani, Lidio</td>\n",
       "      <td>490</td>\n",
       "      <td>1961</td>\n",
       "      <td>['114', '137', '164', '262', '273', '751', '825']</td>\n",
       "      <td>...</td>\n",
       "      <td>0</td>\n",
       "      <td>Certain foods, such as Pteropus (giant bat) an...</td>\n",
       "      <td>Pteropus: a giant bat  eaten by the Andaman Is...</td>\n",
       "      <td>NaN</td>\n",
       "      <td>1</td>\n",
       "      <td>True</td>\n",
       "      <td>YM</td>\n",
       "      <td>NaN</td>\n",
       "      <td>1</td>\n",
       "      <td>Run 1: Spring 2023 Coding of Sickness dataset ...</td>\n",
       "    </tr>\n",
       "    <tr>\n",
       "      <th>3</th>\n",
       "      <td>1396</td>\n",
       "      <td>Asia</td>\n",
       "      <td>South Asia</td>\n",
       "      <td>Andamans</td>\n",
       "      <td>Hygiene and medical practices among the Onge (...</td>\n",
       "      <td>II. Effects on the People's Lives</td>\n",
       "      <td>Cipriani, Lidio</td>\n",
       "      <td>491</td>\n",
       "      <td>1961</td>\n",
       "      <td>['171', '751', '753', '824', '832', '834', '841']</td>\n",
       "      <td>...</td>\n",
       "      <td>0</td>\n",
       "      <td>primitive remedies are applied during menstrua...</td>\n",
       "      <td>0</td>\n",
       "      <td>NaN</td>\n",
       "      <td>1</td>\n",
       "      <td>True</td>\n",
       "      <td>YM</td>\n",
       "      <td>NaN</td>\n",
       "      <td>1</td>\n",
       "      <td>Run 2: Summer 2023 Recoding of Sickness datase...</td>\n",
       "    </tr>\n",
       "    <tr>\n",
       "      <th>4</th>\n",
       "      <td>1397</td>\n",
       "      <td>Asia</td>\n",
       "      <td>South Asia</td>\n",
       "      <td>Andamans</td>\n",
       "      <td>Hygiene and medical practices among the Onge (...</td>\n",
       "      <td>II. Effects on the People's Lives</td>\n",
       "      <td>Cipriani, Lidio</td>\n",
       "      <td>492</td>\n",
       "      <td>1961</td>\n",
       "      <td>['751', '844']</td>\n",
       "      <td>...</td>\n",
       "      <td>0</td>\n",
       "      <td>Clay is used to stop bleeding, prevent infecti...</td>\n",
       "      <td>0</td>\n",
       "      <td>NaN</td>\n",
       "      <td>1</td>\n",
       "      <td>True</td>\n",
       "      <td>YM</td>\n",
       "      <td>NaN</td>\n",
       "      <td>1</td>\n",
       "      <td>Run 3: Fall 2023-Spring 2024 recoding of Sickn...</td>\n",
       "    </tr>\n",
       "    <tr>\n",
       "      <th>...</th>\n",
       "      <td>...</td>\n",
       "      <td>...</td>\n",
       "      <td>...</td>\n",
       "      <td>...</td>\n",
       "      <td>...</td>\n",
       "      <td>...</td>\n",
       "      <td>...</td>\n",
       "      <td>...</td>\n",
       "      <td>...</td>\n",
       "      <td>...</td>\n",
       "      <td>...</td>\n",
       "      <td>...</td>\n",
       "      <td>...</td>\n",
       "      <td>...</td>\n",
       "      <td>...</td>\n",
       "      <td>...</td>\n",
       "      <td>...</td>\n",
       "      <td>...</td>\n",
       "      <td>...</td>\n",
       "      <td>...</td>\n",
       "      <td>...</td>\n",
       "    </tr>\n",
       "    <tr>\n",
       "      <th>11000</th>\n",
       "      <td>120736</td>\n",
       "      <td>North-America</td>\n",
       "      <td>Northwest Coast and California</td>\n",
       "      <td>Tlingit</td>\n",
       "      <td>The Tlingit Indians: results of a trip to the ...</td>\n",
       "      <td>4. Villages, Houses, and Inhabitants</td>\n",
       "      <td>Krause, Aurel, 1848-</td>\n",
       "      <td>103</td>\n",
       "      <td>1956</td>\n",
       "      <td>['164', '732', '736']</td>\n",
       "      <td>...</td>\n",
       "      <td>0</td>\n",
       "      <td>blackening of the face can shade eyes slightly</td>\n",
       "      <td>0</td>\n",
       "      <td>NaN</td>\n",
       "      <td>3</td>\n",
       "      <td>True</td>\n",
       "      <td>JM</td>\n",
       "      <td>NaN</td>\n",
       "      <td>2</td>\n",
       "      <td>NaN</td>\n",
       "    </tr>\n",
       "    <tr>\n",
       "      <th>11001</th>\n",
       "      <td>120820</td>\n",
       "      <td>North-America</td>\n",
       "      <td>Northwest Coast and California</td>\n",
       "      <td>Tlingit</td>\n",
       "      <td>Social structure and social life of the Tlingi...</td>\n",
       "      <td>THE MAN WHO KILLED HIS OWN SLEEP</td>\n",
       "      <td>Olson, Ronald L. (Ronald LeRoy), 1895-</td>\n",
       "      <td>[p.28-b]</td>\n",
       "      <td>1967</td>\n",
       "      <td>['173', '539', '614', '777']</td>\n",
       "      <td>...</td>\n",
       "      <td>0</td>\n",
       "      <td>no mention of action on misfortune</td>\n",
       "      <td>0</td>\n",
       "      <td>NaN</td>\n",
       "      <td>3</td>\n",
       "      <td>True</td>\n",
       "      <td>JM</td>\n",
       "      <td>NaN</td>\n",
       "      <td>2</td>\n",
       "      <td>NaN</td>\n",
       "    </tr>\n",
       "    <tr>\n",
       "      <th>11002</th>\n",
       "      <td>120847</td>\n",
       "      <td>North-America</td>\n",
       "      <td>Northwest Coast and California</td>\n",
       "      <td>Tlingit</td>\n",
       "      <td>Social structure and social life of the Tlingi...</td>\n",
       "      <td>Slavery</td>\n",
       "      <td>Olson, Ronald L. (Ronald LeRoy), 1895-</td>\n",
       "      <td>[55-a]</td>\n",
       "      <td>1967</td>\n",
       "      <td>['159', '237', '563', '567', '777']</td>\n",
       "      <td>...</td>\n",
       "      <td>0</td>\n",
       "      <td>no action taken to save the captured</td>\n",
       "      <td>0</td>\n",
       "      <td>NaN</td>\n",
       "      <td>3</td>\n",
       "      <td>True</td>\n",
       "      <td>JM</td>\n",
       "      <td>NaN</td>\n",
       "      <td>2</td>\n",
       "      <td>NaN</td>\n",
       "    </tr>\n",
       "    <tr>\n",
       "      <th>11003</th>\n",
       "      <td>120945</td>\n",
       "      <td>North-America</td>\n",
       "      <td>Northwest Coast and California</td>\n",
       "      <td>Tlingit</td>\n",
       "      <td>Social structure and social life of the Tlingi...</td>\n",
       "      <td>THE KLAWAK PEOPLE OF DRIFTED ASHORE HOUSE</td>\n",
       "      <td>Olson, Ronald L. (Ronald LeRoy), 1895-</td>\n",
       "      <td>[p.109-b]</td>\n",
       "      <td>1967</td>\n",
       "      <td>['173', '224', '261', '539', '777']</td>\n",
       "      <td>...</td>\n",
       "      <td>0</td>\n",
       "      <td>no mention on how bad luck was dealt with</td>\n",
       "      <td>0</td>\n",
       "      <td>NaN</td>\n",
       "      <td>3</td>\n",
       "      <td>True</td>\n",
       "      <td>JM</td>\n",
       "      <td>NaN</td>\n",
       "      <td>2</td>\n",
       "      <td>NaN</td>\n",
       "    </tr>\n",
       "    <tr>\n",
       "      <th>11004</th>\n",
       "      <td>121050</td>\n",
       "      <td>North-America</td>\n",
       "      <td>Northwest Coast and California</td>\n",
       "      <td>Tlingit</td>\n",
       "      <td>Culture summary: Tlingit</td>\n",
       "      <td>CEREMONIES</td>\n",
       "      <td>Tollefson, Kenneth D.</td>\n",
       "      <td>6</td>\n",
       "      <td>1997</td>\n",
       "      <td>['171', '791', '796']</td>\n",
       "      <td>...</td>\n",
       "      <td>0</td>\n",
       "      <td>no mention of action on misfortune</td>\n",
       "      <td>0</td>\n",
       "      <td>NaN</td>\n",
       "      <td>3</td>\n",
       "      <td>True</td>\n",
       "      <td>JM</td>\n",
       "      <td>NaN</td>\n",
       "      <td>2</td>\n",
       "      <td>NaN</td>\n",
       "    </tr>\n",
       "  </tbody>\n",
       "</table>\n",
       "<p>10367 rows × 43 columns</p>\n",
       "</div>"
      ],
      "text/plain": [
       "             CULTURE                                                           \\\n",
       "      Passage Number         Region                       SubRegion   Culture   \n",
       "0               1392           Asia                      South Asia  Andamans   \n",
       "1               1393           Asia                      South Asia  Andamans   \n",
       "2               1395           Asia                      South Asia  Andamans   \n",
       "3               1396           Asia                      South Asia  Andamans   \n",
       "4               1397           Asia                      South Asia  Andamans   \n",
       "...              ...            ...                             ...       ...   \n",
       "11000         120736  North-America  Northwest Coast and California   Tlingit   \n",
       "11001         120820  North-America  Northwest Coast and California   Tlingit   \n",
       "11002         120847  North-America  Northwest Coast and California   Tlingit   \n",
       "11003         120945  North-America  Northwest Coast and California   Tlingit   \n",
       "11004         121050  North-America  Northwest Coast and California   Tlingit   \n",
       "\n",
       "                                                          \\\n",
       "                                                DocTitle   \n",
       "0      Hygiene and medical practices among the Onge (...   \n",
       "1      Hygiene and medical practices among the Onge (...   \n",
       "2      Hygiene and medical practices among the Onge (...   \n",
       "3      Hygiene and medical practices among the Onge (...   \n",
       "4      Hygiene and medical practices among the Onge (...   \n",
       "...                                                  ...   \n",
       "11000  The Tlingit Indians: results of a trip to the ...   \n",
       "11001  Social structure and social life of the Tlingi...   \n",
       "11002  Social structure and social life of the Tlingi...   \n",
       "11003  Social structure and social life of the Tlingi...   \n",
       "11004                           Culture summary: Tlingit   \n",
       "\n",
       "                                                  \\\n",
       "                                         Section   \n",
       "0                                  1. Habitation   \n",
       "1                                        3. Food   \n",
       "2                                        3. Food   \n",
       "3              II. Effects on the People's Lives   \n",
       "4              II. Effects on the People's Lives   \n",
       "...                                          ...   \n",
       "11000       4. Villages, Houses, and Inhabitants   \n",
       "11001           THE MAN WHO KILLED HIS OWN SLEEP   \n",
       "11002                                    Slavery   \n",
       "11003  THE KLAWAK PEOPLE OF DRIFTED ASHORE HOUSE   \n",
       "11004                                 CEREMONIES   \n",
       "\n",
       "                                                                \\\n",
       "                                       Author       Page  Year   \n",
       "0                             Cipriani, Lidio        484  1961   \n",
       "1                             Cipriani, Lidio        487  1961   \n",
       "2                             Cipriani, Lidio        490  1961   \n",
       "3                             Cipriani, Lidio        491  1961   \n",
       "4                             Cipriani, Lidio        492  1961   \n",
       "...                                       ...        ...   ...   \n",
       "11000                    Krause, Aurel, 1848-        103  1956   \n",
       "11001  Olson, Ronald L. (Ronald LeRoy), 1895-   [p.28-b]  1967   \n",
       "11002  Olson, Ronald L. (Ronald LeRoy), 1895-     [55-a]  1967   \n",
       "11003  Olson, Ronald L. (Ronald LeRoy), 1895-  [p.109-b]  1967   \n",
       "11004                   Tollefson, Kenneth D.          6  1997   \n",
       "\n",
       "                                                          ... ACTION  \\\n",
       "                                                     OCM  ...  Other   \n",
       "0      ['171', '301', '727', '751', '765', '775', '777']  ...      1   \n",
       "1      ['136', '231', '271', '312', '415', '516', '751']  ...      0   \n",
       "2      ['114', '137', '164', '262', '273', '751', '825']  ...      0   \n",
       "3      ['171', '751', '753', '824', '832', '834', '841']  ...      0   \n",
       "4                                         ['751', '844']  ...      0   \n",
       "...                                                  ...  ...    ...   \n",
       "11000                              ['164', '732', '736']  ...      0   \n",
       "11001                       ['173', '539', '614', '777']  ...      0   \n",
       "11002                ['159', '237', '563', '567', '777']  ...      0   \n",
       "11003                ['173', '224', '261', '539', '777']  ...      0   \n",
       "11004                              ['171', '791', '796']  ...      0   \n",
       "\n",
       "                                                          \\\n",
       "                                             Description   \n",
       "0      Several customs are believed to connect with t...   \n",
       "1                                 No action is mentioned   \n",
       "2      Certain foods, such as Pteropus (giant bat) an...   \n",
       "3      primitive remedies are applied during menstrua...   \n",
       "4      Clay is used to stop bleeding, prevent infecti...   \n",
       "...                                                  ...   \n",
       "11000     blackening of the face can shade eyes slightly   \n",
       "11001                 no mention of action on misfortune   \n",
       "11002               no action taken to save the captured   \n",
       "11003          no mention on how bad luck was dealt with   \n",
       "11004                 no mention of action on misfortune   \n",
       "\n",
       "                                                          \\\n",
       "                                             Local_terms   \n",
       "0       ibidanghe: made from decorated human jawbone ...   \n",
       "1                                                      0   \n",
       "2      Pteropus: a giant bat  eaten by the Andaman Is...   \n",
       "3                                                      0   \n",
       "4                                                      0   \n",
       "...                                                  ...   \n",
       "11000                                                  0   \n",
       "11001                                                  0   \n",
       "11002                                                  0   \n",
       "11003                                                  0   \n",
       "11004                                                  0   \n",
       "\n",
       "                                                   OTHER      CODER           \\\n",
       "                                          Other_Comments Run_Number Finished   \n",
       "0      General note of this spreadsheet - many of the...          1     True   \n",
       "1                                                    NaN          1     True   \n",
       "2                                                    NaN          1     True   \n",
       "3                                                    NaN          1     True   \n",
       "4                                                    NaN          1     True   \n",
       "...                                                  ...        ...      ...   \n",
       "11000                                                NaN          3     True   \n",
       "11001                                                NaN          3     True   \n",
       "11002                                                NaN          3     True   \n",
       "11003                                                NaN          3     True   \n",
       "11004                                                NaN          3     True   \n",
       "\n",
       "                       OTHER   CODER  \\\n",
       "      Coder Other_Comments.1 Dataset   \n",
       "0        YM              NaN       1   \n",
       "1        YM              NaN       1   \n",
       "2        YM              NaN       1   \n",
       "3        YM              NaN       1   \n",
       "4        YM              NaN       1   \n",
       "...     ...              ...     ...   \n",
       "11000    JM              NaN       2   \n",
       "11001    JM              NaN       2   \n",
       "11002    JM              NaN       2   \n",
       "11003    JM              NaN       2   \n",
       "11004    JM              NaN       2   \n",
       "\n",
       "                                                          \n",
       "                                                    Info  \n",
       "0      Dataset 1: ['750', '751', '752', '753']   Coun...  \n",
       "1      Dataset 2: ['784', '731', '732', '777', '791',...  \n",
       "2      Run 1: Spring 2023 Coding of Sickness dataset ...  \n",
       "3      Run 2: Summer 2023 Recoding of Sickness datase...  \n",
       "4      Run 3: Fall 2023-Spring 2024 recoding of Sickn...  \n",
       "...                                                  ...  \n",
       "11000                                                NaN  \n",
       "11001                                                NaN  \n",
       "11002                                                NaN  \n",
       "11003                                                NaN  \n",
       "11004                                                NaN  \n",
       "\n",
       "[10367 rows x 43 columns]"
      ]
     },
     "execution_count": 147,
     "metadata": {},
     "output_type": "execute_result"
    }
   ],
   "source": [
    "df"
   ]
  },
  {
   "cell_type": "markdown",
   "metadata": {},
   "source": [
    "### Set up Dataset\n"
   ]
  },
  {
   "cell_type": "code",
   "execution_count": 148,
   "metadata": {},
   "outputs": [
    {
     "name": "stdout",
     "output_type": "stream",
     "text": [
      "Columns excluded:\n",
      " {('CODER', 'Coder'), ('CODER', 'Run_Number'), ('CODER', 'Finished'), ('CAUSE', 'Description'), ('CULTURE', 'Section'), ('EVENT', 'Local_Terms'), ('CULTURE', 'Year'), ('CULTURE', 'OCM'), ('CAUSE', 'Local_Terms'), ('ACTION', 'No_Info'), ('CULTURE', 'Culture'), ('EVENT', 'No_Info'), ('CAUSE', 'Just_Happens'), ('CULTURE', 'SubRegion'), ('CAUSE', 'No_Info'), ('CODER', 'Dataset'), ('CULTURE', 'OWC'), ('ACTION', 'Other'), ('CULTURE', 'DocTitle'), ('CULTURE', 'Region'), ('OTHER', 'Other_Comments'), ('CULTURE', 'Author'), ('CAUSE', 'Other'), ('ACTION', 'Local_terms'), ('CULTURE', 'Page'), ('CODER', 'Info'), ('EVENT', 'Description'), ('OTHER', 'Other_Comments.1'), ('ACTION', 'Description')} \n",
      "\n",
      "Columns included:\n",
      "ID\n",
      "passage\n",
      "EVENT_Illness\n",
      "EVENT_Accident\n",
      "EVENT_Other\n",
      "CAUSE_Material_Physical\n",
      "CAUSE_Spirits_Gods\n",
      "CAUSE_Witchcraft_Sorcery\n",
      "CAUSE_Rule_Violation_Taboo\n",
      "ACTION_Physical_Material\n",
      "ACTION_Technical_Specialist\n",
      "ACTION_Divination\n",
      "ACTION_Shaman_Medium_Healer\n",
      "ACTION_Priest_High_Religion\n"
     ]
    }
   ],
   "source": [
    "#Construct col list\n",
    "cols = list(df.columns)\n",
    "id_index = cols.index(('CULTURE', \"Passage Number\"))\n",
    "passage_index = cols.index(('CULTURE', \"Passage\"))\n",
    "event_index =  cols.index(('EVENT', \"No_Info\"))\n",
    "cause_index = cols.index(('CAUSE', \"No_Info\"))\n",
    "action_index = cols.index(('ACTION', \"No_Info\"))\n",
    "# get a list of all the multi-indexed column names we want to evaluate\n",
    "# col_list = [cols[id_index]] + [cols[passage_index]] + cols[event_index:event_index+4] + cols[cause_index:cause_index+7] + cols[action_index:action_index+7] #to include all columns including No_info\n",
    "col_list = [cols[id_index]] + [cols[passage_index]] + cols[event_index+1:event_index+4] + cols[cause_index+1:cause_index+7] + cols[action_index+1:action_index+7] # to include al columns BUT No_info\n",
    "\n",
    "\n",
    "## Remove the following columns from the dataset. Based on the results of previous models ran and the bias of the categories, remove the following columns from the dataset\n",
    "remv_cols = [(\"CAUSE\",\"Just_Happens\"),(\"CAUSE\",\"Other\"),(\"ACTION\",\"Other\")]\n",
    "for remv in remv_cols:\n",
    "    col_list.remove(remv)\n",
    "\n",
    "\n",
    "\n",
    "# get column names to ascribe to the new data frame\n",
    "colNames = [\"ID\",\"passage\"]\n",
    "for category, sub_cat in col_list:\n",
    "    # skip passage and id which have already been added\n",
    "    # print(category, sub_cat)\n",
    "    if category == \"CULTURE\":\n",
    "        continue\n",
    "    if sub_cat == \"No_Info\":\n",
    "        colNames += [category]#this to include main classes, we will hold off on that\n",
    "        pass\n",
    "    else:\n",
    "        colNames += [f'{category}_{sub_cat}']\n",
    "\n",
    "print(\"Columns excluded:\\n\", set(cols)-set(col_list),\"\\n\")\n",
    "# for col in col_list\n",
    "print(\"Columns included:\")\n",
    "for col in colNames:\n",
    "    print(col)\n",
    "# colNames\n"
   ]
  },
  {
   "cell_type": "markdown",
   "metadata": {},
   "source": [
    "### Create Huggingface Dataset and do splits"
   ]
  },
  {
   "cell_type": "code",
   "execution_count": 149,
   "metadata": {},
   "outputs": [
    {
     "data": {
      "text/plain": [
       "DatasetDict({\n",
       "    train: Dataset({\n",
       "        features: ['ID', 'passage', 'EVENT_Illness', 'EVENT_Accident', 'EVENT_Other', 'CAUSE_Material_Physical', 'CAUSE_Spirits_Gods', 'CAUSE_Witchcraft_Sorcery', 'CAUSE_Rule_Violation_Taboo', 'ACTION_Physical_Material', 'ACTION_Technical_Specialist', 'ACTION_Divination', 'ACTION_Shaman_Medium_Healer', 'ACTION_Priest_High_Religion'],\n",
       "        num_rows: 8293\n",
       "    })\n",
       "    test: Dataset({\n",
       "        features: ['ID', 'passage', 'EVENT_Illness', 'EVENT_Accident', 'EVENT_Other', 'CAUSE_Material_Physical', 'CAUSE_Spirits_Gods', 'CAUSE_Witchcraft_Sorcery', 'CAUSE_Rule_Violation_Taboo', 'ACTION_Physical_Material', 'ACTION_Technical_Specialist', 'ACTION_Divination', 'ACTION_Shaman_Medium_Healer', 'ACTION_Priest_High_Religion'],\n",
       "        num_rows: 2074\n",
       "    })\n",
       "})"
      ]
     },
     "execution_count": 149,
     "metadata": {},
     "output_type": "execute_result"
    }
   ],
   "source": [
    "# subdivide into just passage and outcome\n",
    "df_small = pd.DataFrame()\n",
    "df_small[colNames] = df[col_list]\n",
    "# Flip the lable of \"no_info\"\n",
    "# df_small[[\"EVENT\",\"CAUSE\",\"ACTION\"]]  = df_small[[\"EVENT\",\"CAUSE\",\"ACTION\"]].replace({0:1, 1:0})\n",
    "\n",
    "\n",
    "# create train and validation/test sets\n",
    "train_val, test = train_test_split(df_small, test_size=0.2, random_state=10)\n",
    "\n",
    "\n",
    "# Create an NLP friendly dataset\n",
    "Hraf = DatasetDict(\n",
    "    {'train':Dataset.from_dict(train_val.to_dict(orient= 'list')),\n",
    "     'test':Dataset.from_dict(test.to_dict(orient= 'list'))})\n",
    "Hraf"
   ]
  },
  {
   "cell_type": "code",
   "execution_count": 115,
   "metadata": {},
   "outputs": [],
   "source": [
    "# # # Delete, simply for quick filing of cleaned RA code for other analysis\n",
    "\n",
    "# #Construct col list\n",
    "# cols = list(df.columns)\n",
    "# id_index = cols.index(('CULTURE', \"Passage Number\"))\n",
    "# culture_index = cols.index(('CULTURE', \"Culture\"))\n",
    "# passage_index = cols.index(('CULTURE', \"Passage\"))\n",
    "# event_index =  cols.index(('EVENT', \"No_Info\"))\n",
    "# cause_index = cols.index(('CAUSE', \"No_Info\"))\n",
    "# action_index = cols.index(('ACTION', \"No_Info\"))\n",
    "# # get a list of all the multi-indexed column names we want to evaluate\n",
    "# # col_list = [cols[id_index]] + [cols[passage_index]] + cols[event_index:event_index+4] + cols[cause_index:cause_index+7] + cols[action_index:action_index+7] #to include all columns including No_info\n",
    "# col_list = [cols[id_index]] + [cols[culture_index]] +  [cols[passage_index]] + cols[event_index+1:event_index+4] + cols[cause_index+1:cause_index+7] + cols[action_index+1:action_index+7] # to include al columns BUT No_info\n",
    "\n",
    "\n",
    "# # get column names to ascribe to the new data frame\n",
    "# colNames = [\"ID\",\"passage\",\"Culture\"]\n",
    "# for category, sub_cat in col_list:\n",
    "#     # skip passage and id which have already been added\n",
    "#     # print(category, sub_cat)\n",
    "#     if category == \"CULTURE\":\n",
    "#         continue\n",
    "#     if sub_cat == \"No_Info\":\n",
    "#         colNames += [category]#this to include main classes, we will hold off on that\n",
    "#         pass\n",
    "#     else:\n",
    "#         colNames += [f'{category}_{sub_cat}']\n",
    "\n",
    "# # subdivide into just passage and outcome\n",
    "# df_small = pd.DataFrame()\n",
    "# df_small[colNames] = df[col_list]\n",
    "\n",
    "# df_path = \"../../NLP Predictions Analysis\"\n",
    "# df_path = f\"{df_path}/_CleanedRACode.xlsx\"\n",
    "# df_small.to_excel(df_path)"
   ]
  },
  {
   "cell_type": "markdown",
   "metadata": {},
   "source": [
    "#### Show class bias\n"
   ]
  },
  {
   "cell_type": "markdown",
   "metadata": {},
   "source": [
    "\"Raw\" is the actual percentage of times a label was selected (label_N / TOTAL) <br>\n",
    "\"Adj.\" is the proportional percentage of times within a category (EVENT, CAUSE, ACTION) that a label was selected (label_N / Category_TOTAL).<br>\n",
    "Note that since multiple labels even within a category can be selected, the total Adj. amount for a category will be >=100%"
   ]
  },
  {
   "cell_type": "code",
   "execution_count": 150,
   "metadata": {},
   "outputs": [
    {
     "name": "stdout",
     "output_type": "stream",
     "text": [
      "BIAS FOR ANSWERING 'PRESENT'\n",
      "Passage Count:  10367\n",
      "                                       Raw          Adj.\n",
      "____________________________________________________________\n",
      "\n",
      "EVENT:                                 0.63\n",
      "\tIllness:                       0.41        0.64\n",
      "\tAccident:                      0.07        0.1\n",
      "\tOther:                         0.26        0.41\n",
      "\n",
      "CAUSE:                                 0.47\n",
      "\tJust_Happens:                  0.02        0.05\n",
      "\tMaterial_Physical:             0.17        0.37\n",
      "\tSpirits_Gods:                  0.19        0.4\n",
      "\tWitchcraft_Sorcery:            0.06        0.14\n",
      "\tRule_Violation_Taboo:          0.1         0.22\n",
      "\tOther:                         0.05        0.11\n",
      "\n",
      "ACTION:                                0.48\n",
      "\tPhysical_Material:             0.32        0.68\n",
      "\tTechnical_Specialist:          0.07        0.14\n",
      "\tDivination:                    0.02        0.05\n",
      "\tShaman_Medium_Healer:          0.08        0.16\n",
      "\tPriest_High_Religion:          0.03        0.07\n",
      "\tOther:                         0.07        0.15\n"
     ]
    },
    {
     "name": "stderr",
     "output_type": "stream",
     "text": [
      "C:\\Users\\Ericc\\AppData\\Local\\Temp\\ipykernel_22600\\3362410003.py:22: FutureWarning: The behavior of DataFrame concatenation with empty or all-NA entries is deprecated. In a future version, this will no longer exclude empty or all-NA columns when determining the result dtypes. To retain the old behavior, exclude the relevant entries before the concat operation.\n",
      "  df_biases = pd.concat([df_biases, pd.DataFrame({\"Class\":[col[0]],\"Raw_Bias\":[proportion]})])\n",
      "C:\\Users\\Ericc\\AppData\\Local\\Temp\\ipykernel_22600\\3362410003.py:28: FutureWarning: The behavior of DataFrame concatenation with empty or all-NA entries is deprecated. In a future version, this will no longer exclude empty or all-NA columns when determining the result dtypes. To retain the old behavior, exclude the relevant entries before the concat operation.\n",
      "  df_biases = pd.concat([df_biases, pd.DataFrame({\"Class\":[col[1]],\"Raw_Bias\":[proportion], \"Adj__Bias\":[adj_proportion]})])\n"
     ]
    }
   ],
   "source": [
    "multiCol = list(df.columns)\n",
    "valuecountCol = []\n",
    "for col in multiCol:\n",
    "    if col[0] in [\"CULTURE\", \"OTHER\", \"CODER\"] or col[1] in [\"Description\", \"Local_terms\", \"Local_Terms\"]:\n",
    "        continue\n",
    "    else:\n",
    "        valuecountCol.append(col)\n",
    "        \n",
    "# set up dataframe for easy saving\n",
    "df_biases = pd.DataFrame(columns=[\"Class\",\"Raw_Bias\",\"Adj__Bias\"])\n",
    "\n",
    "# Get proportions and show table. 'raw' is just number of present divided by total while 'adj' is within main category proportion present divided by total main class present\n",
    "print(\"BIAS FOR ANSWERING \\'PRESENT\\'\")\n",
    "print(\"Passage Count: \", len(df))\n",
    "print(f\"{' '*39}Raw{' '*10}Adj.\") \n",
    "print(f\"{'_'*60}\")\n",
    "for col in valuecountCol:\n",
    "    if col[1] == \"No_Info\":\n",
    "        proportion = 1-np.mean(df[col])\n",
    "        mainCat_proportion = proportion\n",
    "        proportion = round(proportion,2)\n",
    "        df_biases = pd.concat([df_biases, pd.DataFrame({\"Class\":[col[0]],\"Raw_Bias\":[proportion]})])\n",
    "        print(f\"\\n{col[0]}:{(38-len(col[0]))*' '}{proportion}\")\n",
    "    else:\n",
    "        proportion = np.mean(df[col])\n",
    "        adj_proportion = round(proportion / mainCat_proportion,2) # get adjusted proportion within category\n",
    "        proportion = round(proportion,2)\n",
    "        df_biases = pd.concat([df_biases, pd.DataFrame({\"Class\":[col[1]],\"Raw_Bias\":[proportion], \"Adj__Bias\":[adj_proportion]})])\n",
    "        print(f\"\\t{col[1]}:{(30-len(col[1]))*' '}{proportion}{' '*(12-len(str(proportion)))}{adj_proportion}\")\n",
    "\n",
    " "
   ]
  },
  {
   "attachments": {},
   "cell_type": "markdown",
   "metadata": {},
   "source": [
    "#### Make sure the train, validation, and test sets are as biased as our total input data (we want each to match more or less with the total) <br>"
   ]
  },
  {
   "cell_type": "code",
   "execution_count": 117,
   "metadata": {},
   "outputs": [
    {
     "name": "stdout",
     "output_type": "stream",
     "text": [
      "                                TOTAL     train     test\n",
      "____________________________________________________________\n",
      "EVENT_Illness:                  40.58     48.79     40.41     \n",
      "EVENT_Accident:                 6.56      7.73      6.54      \n",
      "EVENT_Other:                    26.04     22.22     26.12     \n",
      "CAUSE_Material_Physical:        17.04     16.91     17.05     \n",
      "CAUSE_Spirits_Gods:             18.72     24.15     18.61     \n",
      "CAUSE_Witchcraft_Sorcery:       6.33      9.66      6.26      \n",
      "CAUSE_Rule_Violation_Taboo:     10.19     10.14     10.19     \n",
      "ACTION_Physical_Material:       32.21     33.33     32.19     \n",
      "ACTION_Technical_Specialist:    6.9       8.21      6.87      \n",
      "ACTION_Divination:              2.22      1.93      2.22      \n",
      "ACTION_Shaman_Medium_Healer:    7.72      6.76      7.74      \n",
      "ACTION_Priest_High_Religion:    3.44      3.38      3.44      \n"
     ]
    }
   ],
   "source": [
    "# extract the total proportion\n",
    "def totalProportion(df, col, present=1):\n",
    "    value_counts = df[col].value_counts()\n",
    "    percentage = round(value_counts[present]/len(df)*100,2)\n",
    "    return percentage\n",
    "\n",
    "# extracts percentages per datafaframe\n",
    "def colProportion(Hraf, col):\n",
    "    percentage_list = []\n",
    "    for dataframe in Hraf.keys():\n",
    "        percentage_list += [round(sum(Hraf[dataframe][col]) / (len(Hraf[dataframe]))*100,2)]\n",
    "    return percentage_list\n",
    "\n",
    "\n",
    "\n",
    "# print bias per label\n",
    "dataframe_keys= Hraf.keys()\n",
    "labels = [label for label in Hraf['train'].features.keys() if label not in ['ID', 'passage']]\n",
    "header = \"                                TOTAL\"\n",
    "for key in dataframe_keys:\n",
    "    header += f\"     {key}\"\n",
    "print(header)\n",
    "print('_'*(len(header)+4))\n",
    "for col in labels:\n",
    "    totalPercentage =  totalProportion(df_small, col)\n",
    "    percentage_list =  colProportion(Hraf, col)\n",
    "    spacing = 10\n",
    "    percentage_str = f\"{totalPercentage}{' '* (spacing-len(str(totalPercentage)))}\"\n",
    "    for index, key in enumerate(dataframe_keys):\n",
    "        percentage_str += f\"{(len(key)-5)*' '}{percentage_list[index]}{' '* (spacing-len(str(percentage_list[index])))}\"\n",
    "    print(f\"{col}:{' ' * (30- len(col))} {percentage_str}\")"
   ]
  },
  {
   "attachments": {},
   "cell_type": "markdown",
   "metadata": {},
   "source": [
    "### Labeling\n"
   ]
  },
  {
   "attachments": {},
   "cell_type": "markdown",
   "metadata": {},
   "source": [
    "Create labels for training and preprocessing"
   ]
  },
  {
   "cell_type": "code",
   "execution_count": 118,
   "metadata": {},
   "outputs": [
    {
     "data": {
      "text/plain": [
       "{0: 'EVENT_Illness',\n",
       " 1: 'EVENT_Accident',\n",
       " 2: 'EVENT_Other',\n",
       " 3: 'CAUSE_Material_Physical',\n",
       " 4: 'CAUSE_Spirits_Gods',\n",
       " 5: 'CAUSE_Witchcraft_Sorcery',\n",
       " 6: 'CAUSE_Rule_Violation_Taboo',\n",
       " 7: 'ACTION_Physical_Material',\n",
       " 8: 'ACTION_Technical_Specialist',\n",
       " 9: 'ACTION_Divination',\n",
       " 10: 'ACTION_Shaman_Medium_Healer',\n",
       " 11: 'ACTION_Priest_High_Religion'}"
      ]
     },
     "execution_count": 118,
     "metadata": {},
     "output_type": "execute_result"
    }
   ],
   "source": [
    "\n",
    "labels = [label for label in Hraf['train'].features.keys() if label not in ['ID', 'passage']]\n",
    "id2label = {idx:label for idx, label in enumerate(labels)}\n",
    "label2id = {label:idx for idx, label in enumerate(labels)}\n",
    "id2label"
   ]
  },
  {
   "attachments": {},
   "cell_type": "markdown",
   "metadata": {},
   "source": [
    "load a tokenizer to preprocess the text field: <br>"
   ]
  },
  {
   "attachments": {},
   "cell_type": "markdown",
   "metadata": {},
   "source": [
    "Create a preprocessing function to tokenize text and truncate sequences to be no longer than DistilBERT’s maximum input length:<br>\n",
    "Guidelines were followed from NielsRogge found <a href= \"https://github.com/NielsRogge/Transformers-Tutorials/blob/master/BERT/Fine_tuning_BERT_(and_friends)_for_multi_label_text_classification.ipynb\"> here </a>"
   ]
  },
  {
   "cell_type": "code",
   "execution_count": 131,
   "metadata": {},
   "outputs": [],
   "source": [
    "from transformers import AutoTokenizer\n",
    "import numpy as np\n",
    "\n",
    "\n",
    "# tokenizer = AutoTokenizer.from_pretrained('distilbert-base-uncased')\n",
    "tokenizer = AutoTokenizer.from_pretrained('roberta-base')\n",
    "\n",
    "def preprocess_data(examples):\n",
    "  # take a batch of texts\n",
    "  text = examples[\"passage\"]\n",
    "  # encode them\n",
    "  encoding = tokenizer(text, max_length=512, truncation=True) #max length for BERT is 512\n",
    "  # add labels\n",
    "  labels_batch = {k: examples[k] for k in examples.keys() if k in labels}\n",
    "  # create numpy array of shape (batch_size, num_labels)\n",
    "  labels_matrix = np.zeros((len(text), len(labels)))\n",
    "  # fill numpy array\n",
    "  for idx, label in enumerate(labels):\n",
    "    labels_matrix[:, idx] = labels_batch[label]\n",
    "\n",
    "  encoding[\"labels\"] = labels_matrix.tolist()\n",
    "\n",
    "  return encoding"
   ]
  },
  {
   "attachments": {},
   "cell_type": "markdown",
   "metadata": {},
   "source": [
    "To apply the preprocessing function over the entire dataset, use 🤗 Datasets map function. You can speed up map by setting batched=True to process multiple elements of the dataset at once:"
   ]
  },
  {
   "cell_type": "code",
   "execution_count": 132,
   "metadata": {},
   "outputs": [
    {
     "data": {
      "application/vnd.jupyter.widget-view+json": {
       "model_id": "78896bd182eb45f585098fd0c2ecbce9",
       "version_major": 2,
       "version_minor": 0
      },
      "text/plain": [
       "Map:   0%|          | 0/207 [00:00<?, ? examples/s]"
      ]
     },
     "metadata": {},
     "output_type": "display_data"
    },
    {
     "data": {
      "application/vnd.jupyter.widget-view+json": {
       "model_id": "caf0c360528d4b93a5859ff3e37f1b0e",
       "version_major": 2,
       "version_minor": 0
      },
      "text/plain": [
       "Map:   0%|          | 0/10160 [00:00<?, ? examples/s]"
      ]
     },
     "metadata": {},
     "output_type": "display_data"
    }
   ],
   "source": [
    "# Tokenize data, remove all columns and give new ones\n",
    "tokenized_Hraf = Hraf.map(preprocess_data, batched=True, remove_columns=Hraf['train'].column_names)"
   ]
  },
  {
   "cell_type": "code",
   "execution_count": 133,
   "metadata": {},
   "outputs": [
    {
     "data": {
      "text/plain": [
       "DatasetDict({\n",
       "    train: Dataset({\n",
       "        features: ['input_ids', 'attention_mask', 'labels'],\n",
       "        num_rows: 207\n",
       "    })\n",
       "    test: Dataset({\n",
       "        features: ['input_ids', 'attention_mask', 'labels'],\n",
       "        num_rows: 10160\n",
       "    })\n",
       "})"
      ]
     },
     "execution_count": 133,
     "metadata": {},
     "output_type": "execute_result"
    }
   ],
   "source": [
    "# Set tokenized passages to PyTorch Tensor\n",
    "tokenized_Hraf.set_format(\"torch\")\n",
    "tokenized_Hraf"
   ]
  },
  {
   "cell_type": "code",
   "execution_count": 134,
   "metadata": {},
   "outputs": [
    {
     "name": "stdout",
     "output_type": "stream",
     "text": [
      "dict_keys(['input_ids', 'attention_mask', 'labels'])\n",
      "<s>The Pox Spirit is said to be a member of the kin group of the Datoe /dato/ of Loewoe’; his children are the masters of other diseases: Sorisi (chicken pox), Koemobo (dropsy), Gampa (measles), Boeti (?), and Dato (?). When the Pox Spirit is not visiting human beings, he lives on one of the spirit mountains: Tamoengkoe ntana, Watoe mora’a, or Liwoeto.</s>\n",
      "tensor([1., 0., 0., 0., 1., 0., 0., 0., 0., 0., 0., 0.])\n"
     ]
    },
    {
     "data": {
      "text/plain": [
       "['EVENT_Illness', 'CAUSE_Spirits_Gods']"
      ]
     },
     "execution_count": 134,
     "metadata": {},
     "output_type": "execute_result"
    }
   ],
   "source": [
    "example = tokenized_Hraf['train'][1]\n",
    "print(example.keys())\n",
    "print(tokenizer.decode(example['input_ids']))\n",
    "print(example['labels'])\n",
    "[id2label[idx] for idx, label in enumerate(example['labels']) if label == 1.0]\n"
   ]
  },
  {
   "cell_type": "code",
   "execution_count": 135,
   "metadata": {},
   "outputs": [
    {
     "name": "stdout",
     "output_type": "stream",
     "text": [
      "Number Truncated:  4\n",
      "Percentage Truncated: 1.9%\n",
      "[68, 71, 93, 165]\n"
     ]
    }
   ],
   "source": [
    "# Show number of passages longer than 512 tokens (and therefore truncated)\n",
    "sequence_i = []\n",
    "for i, tx in enumerate(tokenized_Hraf['train']):\n",
    "    if len(tx['input_ids']) == 512:\n",
    "        sequence_i.append(i)\n",
    "print('Number Truncated: ', len(sequence_i))\n",
    "print(f'Percentage Truncated: {round(len(sequence_i)/len(tokenized_Hraf[\"train\"])*100,1)}%')\n",
    "print(sequence_i)"
   ]
  },
  {
   "attachments": {},
   "cell_type": "markdown",
   "metadata": {},
   "source": [
    "Now create a batch of examples using <a href=\"https://huggingface.co/docs/transformers/v4.29.0/en/main_classes/data_collator#transformers.DataCollatorWithPadding\"> DataCollatorWithPadding</a>. It’s more efficient to dynamically pad the sentences to the longest length in a batch during collation, instead of padding the whole dataset to the maximum length."
   ]
  },
  {
   "cell_type": "markdown",
   "metadata": {},
   "source": [
    "### Create Splits"
   ]
  },
  {
   "cell_type": "markdown",
   "metadata": {},
   "source": [
    " Stratification using multilabels is a difficult process as the number of unique bins of stratification increases exponentially by the number of labels (see more info and potential ways to conduct multilabel sttratification sampling <a href=\"https://dl.acm.org/doi/10.5555/2034161.2034172\"> HERE  </a>). We will currently disregard focusing on stratification of all the labels/classifications and just use a single label for stratification. Currently, this is still giving decent splits that do not deviate far from the true proportion or between n_splits. Still, one should check the proportional deviation of each label to make sure"
   ]
  },
  {
   "cell_type": "code",
   "execution_count": 136,
   "metadata": {},
   "outputs": [
    {
     "data": {
      "text/html": [
       "<div>\n",
       "<style scoped>\n",
       "    .dataframe tbody tr th:only-of-type {\n",
       "        vertical-align: middle;\n",
       "    }\n",
       "\n",
       "    .dataframe tbody tr th {\n",
       "        vertical-align: top;\n",
       "    }\n",
       "\n",
       "    .dataframe thead th {\n",
       "        text-align: right;\n",
       "    }\n",
       "</style>\n",
       "<table border=\"1\" class=\"dataframe\">\n",
       "  <thead>\n",
       "    <tr style=\"text-align: right;\">\n",
       "      <th></th>\n",
       "      <th>EVENT_Illness</th>\n",
       "      <th>EVENT_Accident</th>\n",
       "      <th>EVENT_Other</th>\n",
       "      <th>CAUSE_Material_Physical</th>\n",
       "      <th>CAUSE_Spirits_Gods</th>\n",
       "      <th>CAUSE_Witchcraft_Sorcery</th>\n",
       "      <th>CAUSE_Rule_Violation_Taboo</th>\n",
       "      <th>ACTION_Physical_Material</th>\n",
       "      <th>ACTION_Technical_Specialist</th>\n",
       "      <th>ACTION_Divination</th>\n",
       "      <th>ACTION_Shaman_Medium_Healer</th>\n",
       "      <th>ACTION_Priest_High_Religion</th>\n",
       "    </tr>\n",
       "  </thead>\n",
       "  <tbody>\n",
       "    <tr>\n",
       "      <th>Fold 1</th>\n",
       "      <td>0.51</td>\n",
       "      <td>0.08</td>\n",
       "      <td>0.22</td>\n",
       "      <td>0.18</td>\n",
       "      <td>0.25</td>\n",
       "      <td>0.10</td>\n",
       "      <td>0.12</td>\n",
       "      <td>0.33</td>\n",
       "      <td>0.08</td>\n",
       "      <td>0.02</td>\n",
       "      <td>0.07</td>\n",
       "      <td>0.03</td>\n",
       "    </tr>\n",
       "    <tr>\n",
       "      <th>Fold 2</th>\n",
       "      <td>0.48</td>\n",
       "      <td>0.08</td>\n",
       "      <td>0.22</td>\n",
       "      <td>0.15</td>\n",
       "      <td>0.24</td>\n",
       "      <td>0.10</td>\n",
       "      <td>0.09</td>\n",
       "      <td>0.32</td>\n",
       "      <td>0.07</td>\n",
       "      <td>0.02</td>\n",
       "      <td>0.05</td>\n",
       "      <td>0.03</td>\n",
       "    </tr>\n",
       "    <tr>\n",
       "      <th>Fold 3</th>\n",
       "      <td>0.49</td>\n",
       "      <td>0.10</td>\n",
       "      <td>0.21</td>\n",
       "      <td>0.17</td>\n",
       "      <td>0.25</td>\n",
       "      <td>0.09</td>\n",
       "      <td>0.11</td>\n",
       "      <td>0.33</td>\n",
       "      <td>0.07</td>\n",
       "      <td>0.02</td>\n",
       "      <td>0.07</td>\n",
       "      <td>0.04</td>\n",
       "    </tr>\n",
       "    <tr>\n",
       "      <th>Fold 4</th>\n",
       "      <td>0.48</td>\n",
       "      <td>0.06</td>\n",
       "      <td>0.22</td>\n",
       "      <td>0.18</td>\n",
       "      <td>0.23</td>\n",
       "      <td>0.09</td>\n",
       "      <td>0.10</td>\n",
       "      <td>0.34</td>\n",
       "      <td>0.09</td>\n",
       "      <td>0.02</td>\n",
       "      <td>0.07</td>\n",
       "      <td>0.04</td>\n",
       "    </tr>\n",
       "    <tr>\n",
       "      <th>Fold 5</th>\n",
       "      <td>0.48</td>\n",
       "      <td>0.07</td>\n",
       "      <td>0.24</td>\n",
       "      <td>0.16</td>\n",
       "      <td>0.24</td>\n",
       "      <td>0.10</td>\n",
       "      <td>0.09</td>\n",
       "      <td>0.35</td>\n",
       "      <td>0.09</td>\n",
       "      <td>0.01</td>\n",
       "      <td>0.08</td>\n",
       "      <td>0.04</td>\n",
       "    </tr>\n",
       "  </tbody>\n",
       "</table>\n",
       "</div>"
      ],
      "text/plain": [
       "        EVENT_Illness  EVENT_Accident  EVENT_Other  CAUSE_Material_Physical  \\\n",
       "Fold 1           0.51            0.08         0.22                     0.18   \n",
       "Fold 2           0.48            0.08         0.22                     0.15   \n",
       "Fold 3           0.49            0.10         0.21                     0.17   \n",
       "Fold 4           0.48            0.06         0.22                     0.18   \n",
       "Fold 5           0.48            0.07         0.24                     0.16   \n",
       "\n",
       "        CAUSE_Spirits_Gods  CAUSE_Witchcraft_Sorcery  \\\n",
       "Fold 1                0.25                      0.10   \n",
       "Fold 2                0.24                      0.10   \n",
       "Fold 3                0.25                      0.09   \n",
       "Fold 4                0.23                      0.09   \n",
       "Fold 5                0.24                      0.10   \n",
       "\n",
       "        CAUSE_Rule_Violation_Taboo  ACTION_Physical_Material  \\\n",
       "Fold 1                        0.12                      0.33   \n",
       "Fold 2                        0.09                      0.32   \n",
       "Fold 3                        0.11                      0.33   \n",
       "Fold 4                        0.10                      0.34   \n",
       "Fold 5                        0.09                      0.35   \n",
       "\n",
       "        ACTION_Technical_Specialist  ACTION_Divination  \\\n",
       "Fold 1                         0.08               0.02   \n",
       "Fold 2                         0.07               0.02   \n",
       "Fold 3                         0.07               0.02   \n",
       "Fold 4                         0.09               0.02   \n",
       "Fold 5                         0.09               0.01   \n",
       "\n",
       "        ACTION_Shaman_Medium_Healer  ACTION_Priest_High_Religion  \n",
       "Fold 1                         0.07                         0.03  \n",
       "Fold 2                         0.05                         0.03  \n",
       "Fold 3                         0.07                         0.04  \n",
       "Fold 4                         0.07                         0.04  \n",
       "Fold 5                         0.08                         0.04  "
      ]
     },
     "execution_count": 136,
     "metadata": {},
     "output_type": "execute_result"
    }
   ],
   "source": [
    "#  Splitting\n",
    "from sklearn.model_selection import StratifiedKFold\n",
    "fold_n =5\n",
    "\n",
    "# folds = StratifiedKFold(n_splits=5)\n",
    "folds = StratifiedKFold(n_splits=fold_n, shuffle= True, random_state=10)\n",
    "cols = Hraf['train'].column_names\n",
    "splits = folds.split(np.zeros(Hraf['train'].num_rows), Hraf['train'][cols[-1]])\n",
    "# preconstruct dataframe to show\n",
    "fold_str = [\"Fold \"+str(x) for x in range(1,fold_n+1)]\n",
    "df_foldPerc = pd.DataFrame(data=np.zeros((fold_n,len(labels))),columns=labels, index=fold_str)\n",
    "\n",
    "train_list = []\n",
    "val_list = []\n",
    "\n",
    "for fold, (train_idxs, val_idxs) in enumerate(splits, start=1):\n",
    "    train_list += [train_idxs]\n",
    "    val_list += [val_idxs]\n",
    "    train_hub = Hraf['train'][train_idxs]\n",
    "    # print(len(Hraf['train'][train_idxs][\"EVENT_Illness\"]))\n",
    "    df_foldPerc.iloc[fold-1] = [np.round(np.mean(train_hub[col]),2) for col in cols[2:]]\n",
    "    \n",
    "df_foldPerc"
   ]
  },
  {
   "cell_type": "markdown",
   "metadata": {},
   "source": [
    "### Save Paritioned Datasets"
   ]
  },
  {
   "cell_type": "code",
   "execution_count": 82,
   "metadata": {},
   "outputs": [],
   "source": [
    "# # Save datasets for later inference (SKIP IF YOU DO NOT WANT TO OVERWRITE DATASET FILES)\n",
    "\n",
    "# def make_dir(path):\n",
    "#     import os\n",
    "#     # Check whether the specified path exists or not\n",
    "#     isExist = os.path.exists(path)\n",
    "#     if not isExist:\n",
    "#     # Create a new directory because it does not exist\n",
    "#         os.makedirs(path)\n",
    "\n",
    "# # make folder if it does not exist yet\n",
    "# path_datasets = os.getcwd() + '/Datasets'\n",
    "# make_dir(path_datasets)\n",
    "# # save to Json\n",
    "# for key in Hraf.keys():\n",
    "#     Hraf_dict = Hraf[key].to_dict()\n",
    "#     file_path = f\"{path_datasets}/{key}_dataset.json\"\n",
    "#     with open(file_path, \"w\") as outfile:\n",
    "#         json.dump(Hraf_dict, outfile)\n",
    "#         print(len(Hraf_dict['ID']), f\"Rows for \\'{key}\\' succesfully saved to {file_path}\")"
   ]
  },
  {
   "attachments": {},
   "cell_type": "markdown",
   "metadata": {},
   "source": [
    "## Evaluate"
   ]
  },
  {
   "attachments": {},
   "cell_type": "markdown",
   "metadata": {},
   "source": [
    "Obtain F1 score for evaluation"
   ]
  },
  {
   "cell_type": "code",
   "execution_count": 137,
   "metadata": {},
   "outputs": [],
   "source": [
    "from sklearn.metrics import f1_score, roc_auc_score, accuracy_score\n",
    "from transformers import EvalPrediction, TrainerCallback\n",
    "import torch\n",
    "\n",
    "# Get Metric performance\n",
    "# source: https://jesusleal.io/2021/04/21/Longformer-multilabel-classification/\n",
    "def multi_label_metrics(predictions, labels, threshold=0.5):\n",
    "    # first, apply sigmoid on predictions which are of shape (batch_size, num_labels)\n",
    "    sigmoid = torch.nn.Sigmoid()\n",
    "    probs = sigmoid(torch.Tensor(predictions))\n",
    "    # next, use threshold to turn them into integer predictions\n",
    "    y_pred = np.zeros(probs.shape)\n",
    "    y_pred[np.where(probs >= threshold)] = 1\n",
    "    # finally, compute metrics\n",
    "    y_true = labels\n",
    "    f1_micro_average = f1_score(y_true=y_true, y_pred=y_pred, average='micro')\n",
    "    roc_auc = roc_auc_score(y_true, y_pred, average = 'micro')\n",
    "    accuracy = accuracy_score(y_true, y_pred)\n",
    "    # return as dictionary\n",
    "    metrics = {'f1': f1_micro_average,\n",
    "               'roc_auc': roc_auc,\n",
    "               'accuracy': accuracy}\n",
    "    return metrics\n",
    "\n",
    "# Compute evaluation\n",
    "def compute_metrics(p: EvalPrediction):\n",
    "    preds = p.predictions[0] if isinstance(p.predictions, \n",
    "            tuple) else p.predictions\n",
    "    result = multi_label_metrics(\n",
    "        predictions=preds, \n",
    "        labels=p.label_ids)\n",
    "    return result\n",
    "\n"
   ]
  },
  {
   "attachments": {},
   "cell_type": "markdown",
   "metadata": {},
   "source": [
    "## Train\n"
   ]
  },
  {
   "cell_type": "markdown",
   "metadata": {},
   "source": [
    "Before you start training your model, create a map of the expected ids to their labels with id2label and label2id:<br>\n",
    "You may need to log into huggingface to load transformer models"
   ]
  },
  {
   "cell_type": "code",
   "execution_count": 138,
   "metadata": {},
   "outputs": [
    {
     "name": "stderr",
     "output_type": "stream",
     "text": [
      "Some weights of RobertaForSequenceClassification were not initialized from the model checkpoint at roberta-base and are newly initialized: ['classifier.dense.bias', 'classifier.dense.weight', 'classifier.out_proj.bias', 'classifier.out_proj.weight']\n",
      "You should probably TRAIN this model on a down-stream task to be able to use it for predictions and inference.\n"
     ]
    }
   ],
   "source": [
    "from transformers import AutoModelForSequenceClassification, TrainingArguments, Trainer, DistilBertForSequenceClassification, RobertaModel\n",
    "# (you may ned to log into Hugging face at the top to load models)\n",
    "\n",
    "# # DistilBert\n",
    "# model = AutoModelForSequenceClassification.from_pretrained(\n",
    "#     \"distilbert-base-uncased\", \n",
    "#     problem_type='multi_label_classification',\n",
    "#     num_labels = len(labels), \n",
    "#     id2label=id2label, \n",
    "#     label2id=label2id\n",
    "# )\n",
    "\n",
    "# Roberta \n",
    "model = AutoModelForSequenceClassification.from_pretrained(\n",
    "    'roberta-base', \n",
    "    problem_type='multi_label_classification',\n",
    "    num_labels = len(labels), \n",
    "    id2label=id2label, \n",
    "    label2id=label2id\n",
    ")\n",
    "\n",
    "\n",
    "\n",
    "\n",
    "from transformers import DataCollatorWithPadding\n",
    "# Set up data collator\n",
    "data_collator = DataCollatorWithPadding(tokenizer=tokenizer)\n",
    "\n",
    "# Get initial state (this is for kfolds loops which appear to have data leakage)\n",
    "initial_model_state = {name: param.data.clone() for name, param in model.named_parameters()}"
   ]
  },
  {
   "cell_type": "code",
   "execution_count": 140,
   "metadata": {},
   "outputs": [
    {
     "data": {
      "text/plain": [
       "SequenceClassifierOutput(loss=tensor(0.7218, grad_fn=<BinaryCrossEntropyWithLogitsBackward0>), logits=tensor([[ 0.0840,  0.1574, -0.0211,  0.1920,  0.1195, -0.1052,  0.0659,  0.0181,\n",
       "          0.0213,  0.1400,  0.0996,  0.2233]], grad_fn=<AddmmBackward0>), hidden_states=None, attentions=None)"
      ]
     },
     "execution_count": 140,
     "metadata": {},
     "output_type": "execute_result"
    }
   ],
   "source": [
    "#forward pass (NOT IMPLEMENTED YET, JUST A TEST)\n",
    "outputs = model(input_ids=tokenized_Hraf['train']['input_ids'][0].unsqueeze(0), labels=tokenized_Hraf['train'][0]['labels'].unsqueeze(0))\n",
    "outputs"
   ]
  },
  {
   "cell_type": "markdown",
   "metadata": {},
   "source": [
    "### Training"
   ]
  },
  {
   "cell_type": "code",
   "execution_count": 141,
   "metadata": {},
   "outputs": [],
   "source": [
    "# Save evaluation dataframe\n",
    "def eval_save(eval_df, directory=\"\", overwrite_training=True):\n",
    "    # Augment Evaluation File \n",
    "    from datetime import date\n",
    "\n",
    "    file_path = f\"{directory}/Evaluation.xlsx\"\n",
    "\n",
    "    today = date.today()\n",
    "    date_tm = today.strftime(\"%y/%m/%d\")\n",
    "\n",
    "    #reorganize columns\n",
    "    cols = list(eval_df.columns.values) \n",
    "    remove_list = [\"fold\", \"epoch\",\"weight_decay\", \"learning_rate\"]\n",
    "    for removal in remove_list:\n",
    "        cols.remove(removal)\n",
    "    cols = remove_list+cols\n",
    "    eval_df = eval_df[cols]\n",
    "\n",
    "\n",
    "    trainingStatus = 'Initial Training' if overwrite_training == True else 'Continue Training'\n",
    "\n",
    "    info_df  = pd.DataFrame({\"Date\":len(eval_df)*[date_tm],\"Train_status\":len(eval_df)*[trainingStatus]})\n",
    "    eval_df = eval_df.reset_index(drop=True)\n",
    "    eval_df = pd.concat([info_df, eval_df], axis=1)\n",
    "\n",
    "\n",
    "    # import evaluation if it exists\n",
    "    if os.path.exists(file_path):\n",
    "        old_eval = pd.read_excel(file_path, sheet_name=\"Sheet1\", index_col=0)\n",
    "        eval_df = pd.concat([old_eval, eval_df])\n",
    "\n",
    "    eval_df.to_excel(file_path)\n",
    "\n",
    "# combine the history output the model gives into a more digestable list format within a dictionary for val and train\n",
    "def epochDictCreator(history_list:list) -> dict:\n",
    "    epochHistory = dict() \n",
    "\n",
    "    #get train and Val and put them in a dictionary\n",
    "    for train_or_val in [\"train\",\"val\"]:\n",
    "        if train_or_val== 'val':\n",
    "            epochHistory_list = [x for x in history_list if (x.get(\"eval_loss\", 'a') !='a')] # get only validation epochs (will have eval_loss)\n",
    "        elif train_or_val == 'train':\n",
    "            epochHistory_list = [x for x in history_list if (x.get(\"loss\", 'a') !='a')] # get only training epochs (will have loss and typically the epoch will be a non-integer)\n",
    "        else:\n",
    "            raise Exception(\"Must enter train or val\")\n",
    "        # Create dictionary of values for val or train\n",
    "        epochHistory_dict = dict()\n",
    "        count=0\n",
    "        for epoch in epochHistory_list:\n",
    "            if count == 0:\n",
    "                epochHistory_dict = {key:[val] for key, val in epoch.items()}\n",
    "            else:\n",
    "                for key, val in epoch.items():\n",
    "                    try:\n",
    "                        epochHistory_dict[key].append(val)\n",
    "                    except:\n",
    "                        print(\"train or Val:\",train_or_val,\"Count:\", count)\n",
    "            count +=1\n",
    "        epochHistory[train_or_val] = epochHistory_dict\n",
    "    return epochHistory\n",
    "\n",
    "# save epoch dicts to a file (append if already exists)\n",
    "def epochDictSave(directory, History_list:list):\n",
    "    import json\n",
    "    import os\n",
    "    directory = f\"{directory}/HistoryLog.json\"\n",
    "    if os.path.exists(directory):\n",
    "        with open(directory, 'r') as openfile:\n",
    "            oldHistory = json.load(openfile)\n",
    "            History_list = oldHistory+History_list\n",
    "            \n",
    "    with open(directory, \"w\") as outfile:\n",
    "        json.dump(History_list, outfile, indent=4)\n",
    "        # outfile.write(json_object)\n",
    "\n",
    "# Create Parameter JSON file\n",
    "def saveParam(output_dir, param_dict:dict):\n",
    "    import json\n",
    "    import os\n",
    "    # Check if param file already exists, if so, warn the user.\n",
    "    if os.path.exists(f\"{output_dir}/Model_Params.json\"):\n",
    "        print('\\033[91m'+ \"WARNING model parameter file overwritten\" + '\\033[0m')\n",
    "        with open(f\"{output_dir}/Model_Params.json\", \"r\") as openfile:\n",
    "            oldParam = json.load(openfile)\n",
    "            flag = 0\n",
    "            for key, val in param_dict.items():\n",
    "                try:\n",
    "                    if oldParam[key] != val:\n",
    "                        flag = 1\n",
    "                        print(f\"{key}: {oldParam[key]} != {val}\")\n",
    "                except:\n",
    "                    print(f\"{key} not found in old file\")\n",
    "            if flag == 0:\n",
    "                print(\"All parameters match\")\n",
    "    # save file\n",
    "    with open(f\"{output_dir}/Model_Params.json\", \"w\") as outfile:\n",
    "        json.dump(param_dict, outfile)\n",
    "# create descending folders, give list of folders from parent to lowest child\n",
    "def createFolders(paths:list):\n",
    "    current_path = \"\"\n",
    "    for path in paths:\n",
    "        if len(path) == 0 or path == '/': # Skip blank paths (here to work with both google colab and vscode local notebooks)\n",
    "            continue\n",
    "        current_path += f\"{path}/\"\n",
    "        os.mkdir(current_path) if not os.path.exists(current_path) else None"
   ]
  },
  {
   "cell_type": "code",
   "execution_count": 142,
   "metadata": {},
   "outputs": [],
   "source": [
    "from transformers import AdamW, get_linear_schedule_with_warmup\n",
    "\n",
    "optimizer = torch.optim.AdamW(model.parameters(), lr=2e-5, weight_decay=0.01)  # L2 Regularization\n",
    "scheduler = get_linear_schedule_with_warmup(\n",
    "    optimizer, num_warmup_steps=100, num_training_steps=1000\n",
    ")"
   ]
  },
  {
   "cell_type": "markdown",
   "metadata": {},
   "source": [
    "#### Run training"
   ]
  },
  {
   "cell_type": "code",
   "execution_count": 143,
   "metadata": {},
   "outputs": [
    {
     "name": "stdout",
     "output_type": "stream",
     "text": [
      "------Fold 1/5--------\n",
      "\n"
     ]
    },
    {
     "data": {
      "application/vnd.jupyter.widget-view+json": {
       "model_id": "ee9f762bd1c64274aa88bac6b52a56a1",
       "version_major": 2,
       "version_minor": 0
      },
      "text/plain": [
       "  0%|          | 0/210 [00:00<?, ?it/s]"
      ]
     },
     "metadata": {},
     "output_type": "display_data"
    },
    {
     "data": {
      "application/vnd.jupyter.widget-view+json": {
       "model_id": "2770136ae809440a90eb341c0ec32145",
       "version_major": 2,
       "version_minor": 0
      },
      "text/plain": [
       "  0%|          | 0/6 [00:00<?, ?it/s]"
      ]
     },
     "metadata": {},
     "output_type": "display_data"
    },
    {
     "name": "stdout",
     "output_type": "stream",
     "text": [
      "{'eval_loss': 0.7125087380409241, 'eval_f1': 0.2472885032537961, 'eval_roc_auc': 0.5115740740740741, 'eval_accuracy': 0.0, 'eval_runtime': 2.1494, 'eval_samples_per_second': 19.541, 'eval_steps_per_second': 2.792, 'epoch': 1.0}\n"
     ]
    },
    {
     "data": {
      "application/vnd.jupyter.widget-view+json": {
       "model_id": "8002c9e7ef52447c8821eedba8eee1c9",
       "version_major": 2,
       "version_minor": 0
      },
      "text/plain": [
       "  0%|          | 0/6 [00:00<?, ?it/s]"
      ]
     },
     "metadata": {},
     "output_type": "display_data"
    },
    {
     "name": "stdout",
     "output_type": "stream",
     "text": [
      "{'eval_loss': 0.6451041102409363, 'eval_f1': 0.2716049382716049, 'eval_roc_auc': 0.5740740740740741, 'eval_accuracy': 0.023809523809523808, 'eval_runtime': 2.1432, 'eval_samples_per_second': 19.596, 'eval_steps_per_second': 2.799, 'epoch': 2.0}\n"
     ]
    },
    {
     "data": {
      "application/vnd.jupyter.widget-view+json": {
       "model_id": "a868a49c81ba407db95d94e7ca82e3d2",
       "version_major": 2,
       "version_minor": 0
      },
      "text/plain": [
       "  0%|          | 0/6 [00:00<?, ?it/s]"
      ]
     },
     "metadata": {},
     "output_type": "display_data"
    },
    {
     "name": "stdout",
     "output_type": "stream",
     "text": [
      "{'eval_loss': 0.39997732639312744, 'eval_f1': 0.2982456140350877, 'eval_roc_auc': 0.5891203703703703, 'eval_accuracy': 0.047619047619047616, 'eval_runtime': 2.2922, 'eval_samples_per_second': 18.323, 'eval_steps_per_second': 2.618, 'epoch': 3.0}\n"
     ]
    },
    {
     "data": {
      "application/vnd.jupyter.widget-view+json": {
       "model_id": "b30280872faf49f8b3e20df30961276c",
       "version_major": 2,
       "version_minor": 0
      },
      "text/plain": [
       "  0%|          | 0/6 [00:00<?, ?it/s]"
      ]
     },
     "metadata": {},
     "output_type": "display_data"
    },
    {
     "name": "stdout",
     "output_type": "stream",
     "text": [
      "{'eval_loss': 0.36909452080726624, 'eval_f1': 0.2982456140350877, 'eval_roc_auc': 0.5891203703703703, 'eval_accuracy': 0.047619047619047616, 'eval_runtime': 2.3289, 'eval_samples_per_second': 18.034, 'eval_steps_per_second': 2.576, 'epoch': 4.0}\n",
      "{'loss': 0.5528, 'grad_norm': 0.642957866191864, 'learning_rate': 2e-05, 'epoch': 4.76}\n"
     ]
    },
    {
     "data": {
      "application/vnd.jupyter.widget-view+json": {
       "model_id": "46f55d5f3dc74949b067e64286da70bc",
       "version_major": 2,
       "version_minor": 0
      },
      "text/plain": [
       "  0%|          | 0/6 [00:00<?, ?it/s]"
      ]
     },
     "metadata": {},
     "output_type": "display_data"
    },
    {
     "name": "stdout",
     "output_type": "stream",
     "text": [
      "{'eval_loss': 0.3568505644798279, 'eval_f1': 0.1728395061728395, 'eval_roc_auc': 0.5462962962962964, 'eval_accuracy': 0.35714285714285715, 'eval_runtime': 2.0907, 'eval_samples_per_second': 20.089, 'eval_steps_per_second': 2.87, 'epoch': 5.0}\n"
     ]
    },
    {
     "data": {
      "application/vnd.jupyter.widget-view+json": {
       "model_id": "c728bff414814aaf893237b71b56d6f5",
       "version_major": 2,
       "version_minor": 0
      },
      "text/plain": [
       "  0%|          | 0/6 [00:00<?, ?it/s]"
      ]
     },
     "metadata": {},
     "output_type": "display_data"
    },
    {
     "name": "stdout",
     "output_type": "stream",
     "text": [
      "{'eval_loss': 0.33689084649086, 'eval_f1': 0.3111111111111111, 'eval_roc_auc': 0.5925925925925926, 'eval_accuracy': 0.38095238095238093, 'eval_runtime': 2.0932, 'eval_samples_per_second': 20.065, 'eval_steps_per_second': 2.866, 'epoch': 6.0}\n"
     ]
    },
    {
     "data": {
      "application/vnd.jupyter.widget-view+json": {
       "model_id": "20577b8a9c4e469296507fea86dc37c1",
       "version_major": 2,
       "version_minor": 0
      },
      "text/plain": [
       "  0%|          | 0/6 [00:00<?, ?it/s]"
      ]
     },
     "metadata": {},
     "output_type": "display_data"
    },
    {
     "name": "stdout",
     "output_type": "stream",
     "text": [
      "{'eval_loss': 0.3232324719429016, 'eval_f1': 0.3673469387755102, 'eval_roc_auc': 0.6157407407407407, 'eval_accuracy': 0.38095238095238093, 'eval_runtime': 2.196, 'eval_samples_per_second': 19.126, 'eval_steps_per_second': 2.732, 'epoch': 7.0}\n"
     ]
    },
    {
     "data": {
      "application/vnd.jupyter.widget-view+json": {
       "model_id": "76925f1431c6425abb460c55167b8ff4",
       "version_major": 2,
       "version_minor": 0
      },
      "text/plain": [
       "  0%|          | 0/6 [00:00<?, ?it/s]"
      ]
     },
     "metadata": {},
     "output_type": "display_data"
    },
    {
     "name": "stdout",
     "output_type": "stream",
     "text": [
      "{'eval_loss': 0.31979015469551086, 'eval_f1': 0.48214285714285715, 'eval_roc_auc': 0.6724537037037037, 'eval_accuracy': 0.40476190476190477, 'eval_runtime': 2.0762, 'eval_samples_per_second': 20.229, 'eval_steps_per_second': 2.89, 'epoch': 8.0}\n"
     ]
    },
    {
     "data": {
      "application/vnd.jupyter.widget-view+json": {
       "model_id": "2072bb3e21054304955081996ef6b71f",
       "version_major": 2,
       "version_minor": 0
      },
      "text/plain": [
       "  0%|          | 0/6 [00:00<?, ?it/s]"
      ]
     },
     "metadata": {},
     "output_type": "display_data"
    },
    {
     "name": "stdout",
     "output_type": "stream",
     "text": [
      "{'eval_loss': 0.31381866335868835, 'eval_f1': 0.45454545454545453, 'eval_roc_auc': 0.6585648148148149, 'eval_accuracy': 0.38095238095238093, 'eval_runtime': 2.2669, 'eval_samples_per_second': 18.527, 'eval_steps_per_second': 2.647, 'epoch': 9.0}\n",
      "{'loss': 0.3293, 'grad_norm': 1.0343998670578003, 'learning_rate': 1.7777777777777777e-05, 'epoch': 9.52}\n"
     ]
    },
    {
     "data": {
      "application/vnd.jupyter.widget-view+json": {
       "model_id": "505bc6cefdc74d82982aea53ea5886bb",
       "version_major": 2,
       "version_minor": 0
      },
      "text/plain": [
       "  0%|          | 0/6 [00:00<?, ?it/s]"
      ]
     },
     "metadata": {},
     "output_type": "display_data"
    },
    {
     "name": "stdout",
     "output_type": "stream",
     "text": [
      "{'eval_loss': 0.31735917925834656, 'eval_f1': 0.4158415841584158, 'eval_roc_auc': 0.6365740740740742, 'eval_accuracy': 0.35714285714285715, 'eval_runtime': 2.2392, 'eval_samples_per_second': 18.756, 'eval_steps_per_second': 2.679, 'epoch': 10.0}\n",
      "{'train_runtime': 516.5806, 'train_samples_per_second': 3.194, 'train_steps_per_second': 0.407, 'train_loss': 0.43191017082759314, 'epoch': 10.0}\n"
     ]
    },
    {
     "data": {
      "application/vnd.jupyter.widget-view+json": {
       "model_id": "dfe0d52d8c7c47919577da4d2a2fab93",
       "version_major": 2,
       "version_minor": 0
      },
      "text/plain": [
       "  0%|          | 0/6 [00:00<?, ?it/s]"
      ]
     },
     "metadata": {},
     "output_type": "display_data"
    },
    {
     "name": "stdout",
     "output_type": "stream",
     "text": [
      "Fold 1 F1: 0.48214285714285715\n",
      "Best Model Checkpoint Model_00_TEST_DELETE/Hierarchy_test_fold_1/checkpoint-168\n"
     ]
    }
   ],
   "source": [
    "\n",
    "# Kfolds trainer\n",
    "#CHANGE for inputs\n",
    "weight_decay = .01\n",
    "learning_rate= .00002\n",
    "dropout_list = []\n",
    "batch_size = 8 # should be multiples of 8\n",
    "epochs = 10\n",
    "\n",
    "\n",
    "model_folder = \"Model_00_TEST_DELETE\" #this is where the output folders will be created and where a centralized model is made.\n",
    "maxFolds = 1 # Set to 1 if you do not want to use kfolds, otherwise, set to any other fold number, including ones which you might want to stop early.\n",
    "\n",
    "\n",
    "\n",
    "# model_path = f\"{path}/{model_folder}\"\n",
    "model_path = f\"{model_folder}\"\n",
    "eval_df = pd.DataFrame()\n",
    "\n",
    "# # Train the model\n",
    "for fold, (train_idxs, val_idxs) in enumerate(zip(train_list, val_list), start=1): # K-fold loop\n",
    "\n",
    "\n",
    "    # skip folds if desired\n",
    "    if fold > maxFolds:\n",
    "        continue\n",
    "    output_folder = f\"Hierarchy_test_fold_{fold}/\"\n",
    "    output_dir = f\"{model_path}/{output_folder}\"\n",
    "    resume_bool = False\n",
    "\n",
    "    #Skip folds already completed\n",
    "    if os.path.exists(f\"{output_dir}\"):\n",
    "        if os.path.exists(f\"{output_dir}/finished.txt\"):\n",
    "            print('\\033[93m'+ f\"Skipping {output_dir} as it is indicated as finished\" + '\\033[0m')\n",
    "            continue\n",
    "        else:\n",
    "            print('\\033[93m'+ f\"Starting from last checkpoint {output_dir}\"+ '\\033[0m')\n",
    "            resume_bool = True # resume from the last checkpoint if there is an output folder but it is not finished.\n",
    "\n",
    "    # Create Parameter JSON file\n",
    "    param_dict = {\n",
    "        \"learning_rate\":learning_rate,\n",
    "        \"weight_decay\":weight_decay,\n",
    "        \"batch_size\":batch_size,\n",
    "        \"epochs\":epochs,\n",
    "        \"Fold\":fold,\n",
    "        \"model_name\": model_folder,\n",
    "    }\n",
    "    createFolders(paths=[path, model_folder, output_folder])\n",
    "    saveParam(output_dir=output_dir, param_dict=param_dict)\n",
    "\n",
    "\n",
    "\n",
    "    print(f\"------Fold {fold}/{len(train_list)}--------\\n\")\n",
    "\n",
    "    #reinitialize the model (since it appears to be dataleaking over loops)\n",
    "    model.load_state_dict(initial_model_state)\n",
    "    for name, param in model.named_parameters():\n",
    "            try:\n",
    "                assert (np.array(initial_model_state[name]) == np.array(param.data)).all(), \"Parameters differ from original model\"\n",
    "            except:\n",
    "                print(name, \"Differs from initial model\")\n",
    "    model.load_state_dict(initial_model_state)\n",
    "\n",
    "    train_ds = tokenized_Hraf[\"train\"].select(train_idxs)\n",
    "    val_ds = tokenized_Hraf[\"train\"].select(val_idxs)\n",
    "\n",
    "\n",
    "    training_args = TrainingArguments(\n",
    "        output_dir=output_dir,\n",
    "        learning_rate=learning_rate,\n",
    "        per_device_train_batch_size=batch_size,  # should be multiples of 8\n",
    "        per_device_eval_batch_size=batch_size, # should be multiples of 8\n",
    "        num_train_epochs=epochs,\n",
    "        weight_decay=weight_decay,\n",
    "        evaluation_strategy=\"epoch\",\n",
    "        save_strategy=\"epoch\",\n",
    "        metric_for_best_model='f1',\n",
    "        push_to_hub=False,\n",
    "        save_total_limit=3, #Save only three checkpoints\n",
    "        load_best_model_at_end = True, # retain the best model regardless of if it is beyond the save limit\n",
    "        logging_dir=f\"{output_dir}/logs\",\n",
    "        logging_steps=100,\n",
    "        use_cpu=False, # set True or False depending on if you want ot use the GPU, which is faster but has been unreliable on Macs\n",
    "    )\n",
    "\n",
    "\n",
    "    trainer = Trainer(\n",
    "        model=model,\n",
    "        args=training_args,\n",
    "        train_dataset=train_ds,\n",
    "        eval_dataset=val_ds,\n",
    "        tokenizer=tokenizer,\n",
    "        data_collator=data_collator,\n",
    "        optimizers=(optimizer, scheduler),\n",
    "        # callbacks=[best_checkpoint_callback], \n",
    "        compute_metrics=compute_metrics,\n",
    "        \n",
    "    )\n",
    "    try:\n",
    "        train_result = trainer.train(resume_from_checkpoint = resume_bool) \n",
    "    except Exception as e:\n",
    "        print(f\"An unexpected error occurred: {e}\")\n",
    "        print('\\033[91m'+ f\"A crash occurred, restarting fold from checkpoint\"+ '\\033[0m')\n",
    "        train_result = trainer.train(resume_from_checkpoint=True) #This is the same thing above but often restarting can make all the difference so let's try it\n",
    "    finally:\n",
    "        #save logging\n",
    "        epochDictSave(directory=output_dir, History_list=trainer.state.log_history)\n",
    "        \n",
    "\n",
    "\n",
    "\n",
    "    # Evaluate and then concatinate results to a dataframe\n",
    "\n",
    "    # Evaluate on validation set for this fold\n",
    "    eval_dict = trainer.evaluate(val_ds)\n",
    "    fold_f1 = eval_dict['eval_f1']\n",
    "    # fold_f1s.append(fold_f1)\n",
    "    print(f\"Fold {fold} F1: {fold_f1}\")\n",
    "\n",
    "    eval_df_line = pd.DataFrame([eval_dict])\n",
    "    eval_df_line[\"model_name\"] = output_dir\n",
    "    eval_df_line[\"fold\"] = fold\n",
    "    eval_df_line[\"weight_decay\"] = weight_decay\n",
    "    eval_df_line[\"learning_rate\"] = learning_rate\n",
    "    eval_df_line[\"fold_f1\"] = fold_f1\n",
    "    eval_df_line[\"train_count\"] = len(train_ds)\n",
    "    eval_df_line[\"val_count\"] = len(val_ds)\n",
    "    eval_df_line[\"total_count\"] = eval_df_line[\"val_count\"] + eval_df_line[\"train_count\"]\n",
    "    #Save evaluation File\n",
    "    eval_save(eval_df=eval_df_line, directory=f\"{model_folder}\")\n",
    "\n",
    "    # Have a centralized eval_df For manual investiagtion when loops are done\n",
    "    eval_df = pd.concat([eval_df, eval_df_line])\n",
    "\n",
    "    # # Get best model and then finish\n",
    "    # best_checkpoint = best_checkpoint_callback.best_checkpoint\n",
    "    # print(\"Best Checkpoint:\", best_checkpoint)\n",
    "    \n",
    "    # Save Best model\n",
    "    trainer.save_model()\n",
    "    f = open(f\"{output_dir}/finished.txt\", \"w\")\n",
    "    f.write(f\"Best Model: {trainer.state.best_model_checkpoint}\")\n",
    "    f.close()\n",
    "\n",
    "    print(\"Best Model Checkpoint\", trainer.state.best_model_checkpoint)\n",
    "\n",
    "    \n",
    "\n",
    "\n",
    "\n",
    "\n",
    "\n",
    "\n"
   ]
  },
  {
   "cell_type": "code",
   "execution_count": null,
   "metadata": {},
   "outputs": [
    {
     "data": {
      "application/vnd.jupyter.widget-view+json": {
       "model_id": "a3366b84e0ca4c838d6587ff74b8f20a",
       "version_major": 2,
       "version_minor": 0
      },
      "text/plain": [
       "  0%|          | 0/190 [00:00<?, ?it/s]"
      ]
     },
     "metadata": {},
     "output_type": "display_data"
    },
    {
     "data": {
      "text/plain": [
       "{'eval_loss': 0.35033050179481506,\n",
       " 'eval_f1': 0.044402156676181415,\n",
       " 'eval_roc_auc': 0.5110482408869506,\n",
       " 'eval_accuracy': 0.3095709570957096,\n",
       " 'eval_runtime': 393.1301,\n",
       " 'eval_samples_per_second': 3.854,\n",
       " 'eval_steps_per_second': 0.483,\n",
       " 'epoch': 5.0}"
      ]
     },
     "execution_count": 146,
     "metadata": {},
     "output_type": "execute_result"
    }
   ],
   "source": [
    "#Evaluate on test set (uncomment if you want to evaluate on test set after kfolds training)\n",
    "# trainer.evaluate()"
   ]
  },
  {
   "cell_type": "markdown",
   "metadata": {},
   "source": [
    "## Explore model"
   ]
  },
  {
   "cell_type": "markdown",
   "metadata": {},
   "source": [
    "#### (OPTIONAL) Correct google collab output"
   ]
  },
  {
   "cell_type": "markdown",
   "metadata": {},
   "source": [
    "This code below is meant to extract a table from google colab eroneously not saved. Likely, if things go correctly, this code will never be needed again and can be deleted. DO NOT RUN THIS CODE IF THE ABOVE TRAINING MODEL WORKED NORMALLY AND YOU HAVE A EPOCH OUTPUT SAVED"
   ]
  },
  {
   "cell_type": "code",
   "execution_count": 7,
   "metadata": {},
   "outputs": [
    {
     "data": {
      "text/html": [
       "<div>\n",
       "<style scoped>\n",
       "    .dataframe tbody tr th:only-of-type {\n",
       "        vertical-align: middle;\n",
       "    }\n",
       "\n",
       "    .dataframe tbody tr th {\n",
       "        vertical-align: top;\n",
       "    }\n",
       "\n",
       "    .dataframe thead th {\n",
       "        text-align: right;\n",
       "    }\n",
       "</style>\n",
       "<table border=\"1\" class=\"dataframe\">\n",
       "  <thead>\n",
       "    <tr style=\"text-align: right;\">\n",
       "      <th></th>\n",
       "      <th>Epoch</th>\n",
       "      <th>Training Loss</th>\n",
       "      <th>Validation Loss</th>\n",
       "      <th>F1</th>\n",
       "      <th>Roc Auc</th>\n",
       "      <th>Accuracy</th>\n",
       "    </tr>\n",
       "  </thead>\n",
       "  <tbody>\n",
       "    <tr>\n",
       "      <th>0</th>\n",
       "      <td>1</td>\n",
       "      <td>0.3923</td>\n",
       "      <td>0.383872</td>\n",
       "      <td>0.000000</td>\n",
       "      <td>0.50000</td>\n",
       "      <td>0.300965</td>\n",
       "    </tr>\n",
       "    <tr>\n",
       "      <th>1</th>\n",
       "      <td>2</td>\n",
       "      <td>0.3537</td>\n",
       "      <td>0.350515</td>\n",
       "      <td>0.000000</td>\n",
       "      <td>0.50000</td>\n",
       "      <td>0.300965</td>\n",
       "    </tr>\n",
       "    <tr>\n",
       "      <th>2</th>\n",
       "      <td>3</td>\n",
       "      <td>0.3369</td>\n",
       "      <td>0.336832</td>\n",
       "      <td>0.223168</td>\n",
       "      <td>0.56179</td>\n",
       "      <td>0.258944</td>\n",
       "    </tr>\n",
       "  </tbody>\n",
       "</table>\n",
       "</div>"
      ],
      "text/plain": [
       "   Epoch  Training Loss  Validation Loss        F1  Roc Auc  Accuracy\n",
       "0      1         0.3923         0.383872  0.000000  0.50000  0.300965\n",
       "1      2         0.3537         0.350515  0.000000  0.50000  0.300965\n",
       "2      3         0.3369         0.336832  0.223168  0.56179  0.258944"
      ]
     },
     "execution_count": 7,
     "metadata": {},
     "output_type": "execute_result"
    }
   ],
   "source": [
    "import pandas as pd\n",
    "#Load File\n",
    "codiedTable_path = \"HRAF_Model_MultiLabel_SubClasses/Copied_colab_table.xlsx\"\n",
    "df_colab = pd.read_excel(codiedTable_path)\n",
    "df_colab.head(3)\n",
    "#Rename column headers"
   ]
  },
  {
   "cell_type": "code",
   "execution_count": 17,
   "metadata": {},
   "outputs": [],
   "source": [
    "#initialize epoch History\n",
    "epochHistory = {\"train\":dict(), \"val\":dict()}\n",
    "epochHistory['train'] = {'epoch':list(df_colab['Epoch']), 'loss':list(df_colab['Training Loss'])}\n",
    "epochHistory['val'] = {'epoch':list(df_colab['Epoch']), 'eval_loss':list(df_colab['Validation Loss']), 'eval_f1':list(df_colab['F1']), 'eval_accuracy':list(df_colab['Accuracy'])}\n"
   ]
  },
  {
   "cell_type": "markdown",
   "metadata": {},
   "source": [
    "### Graph Plots"
   ]
  },
  {
   "cell_type": "code",
   "execution_count": 3,
   "metadata": {},
   "outputs": [],
   "source": [
    "import json\n",
    "import matplotlib.pyplot as plt\n",
    "import os\n",
    "import re"
   ]
  },
  {
   "cell_type": "markdown",
   "metadata": {},
   "source": [
    "#### Single Model Investgation\n"
   ]
  },
  {
   "cell_type": "markdown",
   "metadata": {},
   "source": [
    "##### Get History"
   ]
  },
  {
   "cell_type": "code",
   "execution_count": 2,
   "metadata": {},
   "outputs": [
    {
     "ename": "NameError",
     "evalue": "name 'json' is not defined",
     "output_type": "error",
     "traceback": [
      "\u001b[0;31m---------------------------------------------------------------------------\u001b[0m",
      "\u001b[0;31mNameError\u001b[0m                                 Traceback (most recent call last)",
      "Cell \u001b[0;32mIn[2], line 12\u001b[0m\n\u001b[1;32m     10\u001b[0m \u001b[38;5;66;03m#Load history from file\u001b[39;00m\n\u001b[1;32m     11\u001b[0m f \u001b[38;5;241m=\u001b[39m \u001b[38;5;28mopen\u001b[39m(history_path\u001b[38;5;241m+\u001b[39m\u001b[38;5;124m\"\u001b[39m\u001b[38;5;124m/HistoryLog.json\u001b[39m\u001b[38;5;124m\"\u001b[39m)\n\u001b[0;32m---> 12\u001b[0m history_list \u001b[38;5;241m=\u001b[39m \u001b[43mjson\u001b[49m\u001b[38;5;241m.\u001b[39mload(f)\n\u001b[1;32m     13\u001b[0m f\u001b[38;5;241m.\u001b[39mclose()\n\u001b[1;32m     14\u001b[0m epochHistory\u001b[38;5;241m=\u001b[39m epochDictCreator(history_list)\n",
      "\u001b[0;31mNameError\u001b[0m: name 'json' is not defined"
     ]
    }
   ],
   "source": [
    "# Optional, Reinitialize pathways shown above (copied and pasted, you must CHANGE if they do not match)\n",
    "model_name = \"HRAF_MultiLabel_SubClasses_Kfolds\"\n",
    "path = f\"\" #Path to centralized file locations\n",
    "model_folder = \"Model_3_LearningRates\" #this is where the output folders will be created and where a centralized model is made.\n",
    "model_path = f\"{model_folder}\"\n",
    "outputFolder= \"Learning_Rate_2e-05_fold_1\"\n",
    "\n",
    "\n",
    "history_path = f\"{model_path}/{outputFolder}\"\n",
    "#Load history from file\n",
    "f = open(history_path+\"/HistoryLog.json\")\n",
    "history_list = json.load(f)\n",
    "f.close()\n",
    "epochHistory= epochDictCreator(history_list)"
   ]
  },
  {
   "cell_type": "markdown",
   "metadata": {},
   "source": [
    "##### Load from loaded trainer"
   ]
  },
  {
   "cell_type": "code",
   "execution_count": null,
   "metadata": {},
   "outputs": [],
   "source": [
    "# #initialize epochHistory from loaded trainer\n",
    "# history_list = trainer.state.log_history\n",
    "# epochHistory = epochDictCreator(history_list)"
   ]
  },
  {
   "cell_type": "markdown",
   "metadata": {},
   "source": [
    "##### Graph"
   ]
  },
  {
   "cell_type": "code",
   "execution_count": 1,
   "metadata": {},
   "outputs": [
    {
     "ename": "NameError",
     "evalue": "name 'epochHistory' is not defined",
     "output_type": "error",
     "traceback": [
      "\u001b[0;31m---------------------------------------------------------------------------\u001b[0m",
      "\u001b[0;31mNameError\u001b[0m                                 Traceback (most recent call last)",
      "Cell \u001b[0;32mIn[1], line 2\u001b[0m\n\u001b[1;32m      1\u001b[0m \u001b[38;5;66;03m# Graph Training Loss\u001b[39;00m\n\u001b[0;32m----> 2\u001b[0m train_loss \u001b[38;5;241m=\u001b[39m \u001b[43mepochHistory\u001b[49m[\u001b[38;5;124m'\u001b[39m\u001b[38;5;124mtrain\u001b[39m\u001b[38;5;124m'\u001b[39m][\u001b[38;5;124m'\u001b[39m\u001b[38;5;124mloss\u001b[39m\u001b[38;5;124m'\u001b[39m]\n\u001b[1;32m      3\u001b[0m train_epoch \u001b[38;5;241m=\u001b[39m epochHistory[\u001b[38;5;124m'\u001b[39m\u001b[38;5;124mtrain\u001b[39m\u001b[38;5;124m'\u001b[39m][\u001b[38;5;124m'\u001b[39m\u001b[38;5;124mepoch\u001b[39m\u001b[38;5;124m'\u001b[39m]\n\u001b[1;32m      4\u001b[0m val_loss \u001b[38;5;241m=\u001b[39m epochHistory[\u001b[38;5;124m'\u001b[39m\u001b[38;5;124mval\u001b[39m\u001b[38;5;124m'\u001b[39m][\u001b[38;5;124m'\u001b[39m\u001b[38;5;124meval_loss\u001b[39m\u001b[38;5;124m'\u001b[39m]\n",
      "\u001b[0;31mNameError\u001b[0m: name 'epochHistory' is not defined"
     ]
    }
   ],
   "source": [
    "# Graph Training Loss\n",
    "train_loss = epochHistory['train']['loss']\n",
    "train_epoch = epochHistory['train']['epoch']\n",
    "val_loss = epochHistory['val']['eval_loss']\n",
    "val_epoch = epochHistory['val']['epoch']\n",
    "\n",
    "\n",
    "\n",
    "# \"ro\" is for \"red dot\"\n",
    "plt.plot(train_epoch, train_loss, 'ro', label='Training loss')\n",
    "# b is for \"solid blue line\"\n",
    "plt.plot(val_epoch, val_loss, 'b', label='Validation loss')\n",
    "plt.title('Training and validation loss')\n",
    "plt.xlabel('Epochs')\n",
    "plt.ylabel('Loss')\n",
    "plt.legend()\n",
    "\n",
    "plt.show()"
   ]
  },
  {
   "cell_type": "code",
   "execution_count": 73,
   "metadata": {},
   "outputs": [
    {
     "data": {
      "image/png": "[encoded data removed]",
      "text/plain": [
       "<Figure size 640x480 with 1 Axes>"
      ]
     },
     "metadata": {},
     "output_type": "display_data"
    }
   ],
   "source": [
    "# train_loss = epochHistory['train']['loss']\n",
    "# train_epoch = epochHistory['train']['epoch']\n",
    "val_acc = epochHistory['val']['eval_accuracy']\n",
    "val_epoch = epochHistory['val']['epoch']\n",
    "\n",
    "\n",
    "# b is for \"solid blue line\"\n",
    "plt.plot(val_epoch, val_acc, 'b', label='Validation accuracy')\n",
    "plt.title('Validation Accuracy')\n",
    "plt.xlabel('Epochs')\n",
    "plt.ylabel('Accuracy')\n",
    "plt.legend()\n",
    "\n",
    "plt.show()"
   ]
  },
  {
   "cell_type": "code",
   "execution_count": 74,
   "metadata": {},
   "outputs": [
    {
     "data": {
      "image/png": "[encoded data removed]",
      "text/plain": [
       "<Figure size 640x480 with 1 Axes>"
      ]
     },
     "metadata": {},
     "output_type": "display_data"
    }
   ],
   "source": [
    "# train_loss = epochHistory['train']['loss']\n",
    "# train_epoch = epochHistory['train']['epoch']\n",
    "val_f1 = epochHistory['val']['eval_f1']\n",
    "val_epoch = epochHistory['val']['epoch']\n",
    "\n",
    "\n",
    "\n",
    "# b is for \"solid blue line\"\n",
    "plt.plot(val_epoch, val_f1, 'b', label='Validation F1')\n",
    "plt.title('Validation F1')\n",
    "plt.xlabel('Epochs')\n",
    "plt.ylabel('F1')\n",
    "plt.legend()\n",
    "\n",
    "plt.show()"
   ]
  },
  {
   "cell_type": "code",
   "execution_count": null,
   "metadata": {},
   "outputs": [],
   "source": [
    "epochHistory['val'].keys()\n",
    "import re\n",
    "\n",
    "val_f1 = epochHistory['val']['eval_f1']\n",
    "val_epoch = epochHistory['val']['epoch']\n",
    "plt.plot(val_epoch, val_f1, 'b', linewidth=3, label='Overall Validation F1')\n",
    "\n",
    "for key, value in epochHistory['val'].items():\n",
    "  if not key.endswith('metrics'):\n",
    "    continue\n",
    "  title = re.findall(r'eval_(.*)_',key)[0]\n",
    "  #get values into a single dict\n",
    "  concatenated_dict = {}\n",
    "  for dictionary in epochHistory['val'][key]:\n",
    "      for key, value in dictionary.items():\n",
    "          if key not in concatenated_dict:\n",
    "              concatenated_dict[key] = []\n",
    "          concatenated_dict[key].append(value)\n",
    "  valCategories_f1 = concatenated_dict['f1']\n",
    "  plt.plot(val_epoch, valCategories_f1, label=f'{title} F1')\n",
    "\n",
    "\n",
    "plt.title('Validation F1 by Categories')\n",
    "plt.xlabel('Epochs')\n",
    "plt.ylabel('F1')\n",
    "plt.legend()\n",
    "\n",
    "plt.show()"
   ]
  },
  {
   "cell_type": "markdown",
   "metadata": {},
   "source": [
    "#### Multiple Model Investigation"
   ]
  },
  {
   "cell_type": "code",
   "execution_count": 51,
   "metadata": {},
   "outputs": [],
   "source": [
    "# Optional, Reinitialize pathways shown above (copied and pasted, you must CHANGE if they do not match)\n",
    "model_name = \"HRAF_MultiLabel_SubClasses_Kfolds\"\n",
    "path = f\"\" #Path to centralized file locations\n",
    "model_folder = \"Model_4_WeightByLearning\" #this is where the output folders will be created and where a centralized model is made.\n",
    "model_path = f\"{path}{model_folder}\"\n",
    "\n",
    "\n",
    "\n",
    "# Get list of models through common directory\n",
    "files_dir = [\n",
    "    f for f in os.listdir(model_path) if os.path.isdir(os.path.join(model_path, f))\n",
    "]\n",
    "\n",
    "### OPTIONAL CHANGE\n",
    "# Redo the text for the file names to better fit graphs (feel free to comment out)\n",
    "def lowNum(text):\n",
    "    startText =  'Learning_Rate_'\n",
    "    regx = fr'{startText}([a-zA-Z0-9\\.\\-]+)'\n",
    "    num = re.findall(regx,text)[0]\n",
    "    return float(num)\n",
    "files_dir.sort(reverse=True, key=lowNum)\n",
    "\n",
    "\n",
    "\n",
    "epochHistory_dict = {}\n",
    "for file in files_dir:\n",
    "\n",
    "    history_path = f\"{model_path}/{file}\"\n",
    "    f = open(history_path+\"/HistoryLog.json\")\n",
    "    history_list = json.load(f)\n",
    "    f.close()\n",
    "    epochHistory= epochDictCreator(history_list)\n",
    "    epochHistory_dict[file] = epochHistory\n",
    "    \n"
   ]
  },
  {
   "cell_type": "code",
   "execution_count": 52,
   "metadata": {},
   "outputs": [
    {
     "data": {
      "image/png": "[encoded data removed]",
      "text/plain": [
       "<Figure size 640x480 with 1 Axes>"
      ]
     },
     "metadata": {},
     "output_type": "display_data"
    }
   ],
   "source": [
    "# Show Validation error rate\n",
    "for key, epochHistory in epochHistory_dict.items():\n",
    "    val_loss = epochHistory['val']['eval_loss']\n",
    "    val_epoch = epochHistory['val']['epoch']\n",
    "    plt.plot(val_epoch, val_loss, label=key)\n",
    "plt.title('Training and validation loss')\n",
    "plt.xlabel('Epochs')\n",
    "plt.ylabel('Loss')\n",
    "plt.legend()\n",
    "\n",
    "plt.show()"
   ]
  },
  {
   "cell_type": "code",
   "execution_count": 53,
   "metadata": {},
   "outputs": [
    {
     "data": {
      "image/png": "[encoded data removed]",
      "text/plain": [
       "<Figure size 640x480 with 1 Axes>"
      ]
     },
     "metadata": {},
     "output_type": "display_data"
    }
   ],
   "source": [
    "# Show F1 score improvements\n",
    "for key, epochHistory in epochHistory_dict.items():\n",
    "    val_f1 = epochHistory['val']['eval_f1']\n",
    "    val_epoch = epochHistory['val']['epoch']\n",
    "    plt.plot(val_epoch, val_f1, label=key)\n",
    "plt.title('Validation F1')\n",
    "plt.xlabel('Epochs')\n",
    "plt.ylabel('F1')\n",
    "plt.legend()\n",
    "plt.show()"
   ]
  },
  {
   "cell_type": "code",
   "execution_count": null,
   "metadata": {},
   "outputs": [],
   "source": []
  }
 ],
 "metadata": {
  "kernelspec": {
   "display_name": "NLP",
   "language": "python",
   "name": "python3"
  },
  "language_info": {
   "codemirror_mode": {
    "name": "ipython",
    "version": 3
   },
   "file_extension": ".py",
   "mimetype": "text/x-python",
   "name": "python",
   "nbconvert_exporter": "python",
   "pygments_lexer": "ipython3",
   "version": "3.12.3"
  },
  "orig_nbformat": 4
 },
 "nbformat": 4,
 "nbformat_minor": 2
}
