{
 "cells": [
  {
   "cell_type": "code",
   "execution_count": 4,
   "metadata": {},
   "outputs": [],
   "source": [
    "import pandas as pd\n",
    "import os\n",
    "import numpy as np\n",
    "import nltk"
   ]
  },
  {
   "attachments": {},
   "cell_type": "markdown",
   "metadata": {},
   "source": [
    "# RA Code Cleaning"
   ]
  },
  {
   "attachments": {},
   "cell_type": "markdown",
   "metadata": {},
   "source": [
    "This notebook is meant to combine individual culture codings from the research assistants and do small exploratory analysis on them. This file is meant to be used within the original dropbox otherwise it will not work. If you are viewing this file from a GitHub repository, know that the files this notebook references are not meant to be accessed and that this notebook is merely included for the ease of analysis (and should be removed from the github later)"
   ]
  },
  {
   "cell_type": "code",
   "execution_count": 6,
   "metadata": {},
   "outputs": [
    {
     "name": "stdout",
     "output_type": "stream",
     "text": [
      "Used: ../../MEM-DEV-RA/Coding/AH/Mataco.xlsx\n",
      "Used: ../../MEM-DEV-RA/Coding/AH/Taiwan Hokkien.xlsx\n",
      "Used: ../../MEM-DEV-RA/Coding/AH/Finished/Blackfoot.xlsx\n",
      "Used: ../../MEM-DEV-RA/Coding/AH/Finished/Saami.xlsx\n",
      "Used: ../../MEM-DEV-RA/Coding/HL/Finished/Lozi.xlsx\n",
      "Used: ../../MEM-DEV-RA/Coding/HL/Finished/Yakut.xlsx\n",
      "Used: ../../MEM-DEV-RA/Coding/HL/Finished/Aymara.xlsx\n",
      "Used: ../../MEM-DEV-RA/Coding/HL/Finished/Somali.xlsx\n",
      "Used: ../../MEM-DEV-RA/Coding/HL/Finished/Bororo.xlsx\n",
      "Used: ../../MEM-DEV-RA/Coding/HL/Finished/Trobriands.xlsx\n",
      "Used: ../../MEM-DEV-RA/Coding/KK/Finished/Aranda.xlsx\n",
      "Used: ../../MEM-DEV-RA/Coding/KK/Finished/Tzeltal.xlsx\n",
      "Used: ../../MEM-DEV-RA/Coding/KY/Iban.xlsx\n",
      "Used: ../../MEM-DEV-RA/Coding/KY/Finished/Ganda.xlsx\n",
      "Used: ../../MEM-DEV-RA/Coding/KY/Finished/Maasai.xlsx\n",
      "Used: ../../MEM-DEV-RA/Coding/KY/Finished/Hausa.xlsx\n",
      "Used: ../../MEM-DEV-RA/Coding/LG/Libyan Bedouin_2ndRun.xlsx\n",
      "Used: ../../MEM-DEV-RA/Coding/LG/Lozi_2ndRun.xlsx\n",
      "Used: ../../MEM-DEV-RA/Coding/LG/Finished/Kurds.xlsx\n",
      "Used: ../../MEM-DEV-RA/Coding/LG/Finished/Tukano.xlsx\n",
      "Used: ../../MEM-DEV-RA/Coding/LG/Finished/Yanoama.xlsx\n",
      "Used: ../../MEM-DEV-RA/Coding/LG/Finished/Copper Inuit.xlsx\n",
      "Used: ../../MEM-DEV-RA/Coding/LG/Finished/Santal.xlsx\n",
      "Used: ../../MEM-DEV-RA/Coding/LG/Finished/Kogi.xlsx\n",
      "Used: ../../MEM-DEV-RA/Coding/LG/Finished/Pawnee.xlsx\n",
      "Used: ../../MEM-DEV-RA/Coding/YM/Pawnee_2ndRun.xlsx\n",
      "Used: ../../MEM-DEV-RA/Coding/YM/Kogi_2ndRun.xlsx\n",
      "Used: ../../MEM-DEV-RA/Coding/YM/Finished/Ona.xlsx\n",
      "Used: ../../MEM-DEV-RA/Coding/YM/Finished/Chukchee.xlsx\n",
      "Used: ../../MEM-DEV-RA/Coding/YM/Finished/Libyan Bedouin.xlsx\n",
      "Used: ../../MEM-DEV-RA/Coding/YM/Finished/Andamans.xlsx\n",
      "Used: ../../MEM-DEV-RA/Coding/YM/Finished/Lau Fijians.xlsx\n",
      "Used: ../../MEM-DEV-RA/Coding/YM/Finished/Tikopia.xlsx\n",
      "Used: ../../MEM-DEV-RA/Coding/YM/Finished/Copper Inuit_2ndRun.xlsx\n",
      "Unfinished Cultures: 7\n",
      "Finished Cultures: 26\n",
      "DATAFRAME ROWS: 2393\n"
     ]
    }
   ],
   "source": [
    "# Load and Append dataframe for all finished cultures by RA's\n",
    "RA_list = [\"AH\",\"HL\",\"KK\",\"KY\",\"LG\",\"YM\"]\n",
    "localDir = '../../MEM-DEV-RA/Coding/'\n",
    "\n",
    "df = pd.DataFrame()\n",
    "count = 0\n",
    "for RA in RA_list:\n",
    "    # Extract unfinished \n",
    "    df_RA_unfin = pd.DataFrame()\n",
    "    directory = localDir + RA\n",
    "    for filename in os.listdir(directory):\n",
    "        f = os.path.join(directory, filename)\n",
    "        # checking if it is a file\n",
    "        if os.path.isfile(f) and not f.__contains__(\"Eric\") and f.endswith(\".xlsx\") :\n",
    "            df_culture = pd.read_excel(f, header=[0,1])\n",
    "            # Mark if 1st of 2nd run\n",
    "            if f.__contains__(\"_2ndRun\"):\n",
    "                df_culture[(\"CODER\",\"Run_Number\")] = 2\n",
    "            else:\n",
    "                df_culture[(\"CODER\",\"Run_Number\")] = 1\n",
    "            df_RA_unfin = pd.concat([df_RA_unfin, df_culture], ignore_index=True)\n",
    "            count +=1\n",
    "            print(f\"Used: {f}\")\n",
    "\n",
    "    \n",
    "    if len(df_RA_unfin) > 0:\n",
    "        df_RA_unfin[(\"CODER\",\"Finished\")] = False\n",
    "\n",
    "    # Extract Finished\n",
    "    directory += '/Finished'\n",
    "    df_RA_fin = pd.DataFrame()\n",
    "    for filename in os.listdir(directory):\n",
    "        f = os.path.join(directory, filename)\n",
    "        # checking if it is a file\n",
    "        if os.path.isfile(f) and not f.__contains__(\"Eric\") and f.endswith(\".xlsx\") :\n",
    "            df_culture = pd.read_excel(f, header=[0,1])\n",
    "            # Mark if 1st of 2nd run\n",
    "            if f.__contains__(\"_2ndRun\"):\n",
    "                df_culture[(\"CODER\",\"Run_Number\")] = 2\n",
    "            else:\n",
    "                df_culture[(\"CODER\",\"Run_Number\")] = 1\n",
    "            df_RA_fin = pd.concat([df_RA_fin, df_culture], ignore_index=True)\n",
    "            count +=1\n",
    "            print(f\"Used: {f}\")\n",
    "    if len(df_RA_fin) > 0:\n",
    "        df_RA_fin[(\"CODER\",\"Finished\")] = True\n",
    "\n",
    "    # concatinate the finished and unfinished then set the column by name\n",
    "    df_RA_fin = pd.concat([df_RA_fin, df_RA_unfin], ignore_index=True)\n",
    "    df_RA_fin[(\"CODER\",\"Coder\")] = RA\n",
    "    df = pd.concat([df, df_RA_fin], ignore_index=True)\n",
    "    \n",
    "# Drop empty first column and empty first row(s)\n",
    "df = df.drop(columns=df.columns[0])\n",
    "df = df.dropna(subset=[(\"CULTURE\",\"Passage Number\")])\n",
    "print(f\"Unfinished Cultures: {len(set(df[~df[('CODER','Finished')]][('CULTURE','Culture')]))}\")\n",
    "print(f\"Finished Cultures: {len(set(df[df[('CODER','Finished')]][('CULTURE','Culture')]))}\")\n",
    "print(f\"DATAFRAME ROWS: {len(df)}\")"
   ]
  },
  {
   "cell_type": "code",
   "execution_count": 7,
   "metadata": {},
   "outputs": [
    {
     "data": {
      "text/plain": [
       "(EVENT, No_Info)\n",
       "0      1659\n",
       "NaN     385\n",
       "1       285\n",
       "/        64\n",
       "Name: count, dtype: int64"
      ]
     },
     "execution_count": 7,
     "metadata": {},
     "output_type": "execute_result"
    }
   ],
   "source": [
    "# Check No_info for counts\n",
    "df[(\"EVENT\",\"No_Info\")].value_counts(dropna=False)"
   ]
  },
  {
   "cell_type": "code",
   "execution_count": 8,
   "metadata": {},
   "outputs": [
    {
     "data": {
      "text/plain": [
       "(EVENT, No_Info)\n",
       "0    1654\n",
       "1     284\n",
       "Name: count, dtype: int64"
      ]
     },
     "execution_count": 8,
     "metadata": {},
     "output_type": "execute_result"
    }
   ],
   "source": [
    "#remove \"/\" and NaN rows\n",
    "df = df[df[(\"EVENT\",\"No_Info\")] != \"/\"]\n",
    "# remove all rows which have empty \"No_Info\" Note that some of these rows were recoded by EC if they ahd partial information enough to glean. Check comments\n",
    "df = df.dropna(subset=[(\"EVENT\",\"No_Info\"), (\"CAUSE\",\"No_Info\"), (\"ACTION\",\"No_Info\")]) \n",
    "df[(\"EVENT\",\"No_Info\")].value_counts(dropna=False)"
   ]
  },
  {
   "cell_type": "code",
   "execution_count": 9,
   "metadata": {},
   "outputs": [
    {
     "name": "stdout",
     "output_type": "stream",
     "text": [
      "('EVENT', 'No_Info')                           CORRECTLY contains ONLY 2 values\n",
      "('EVENT', 'Illness')                           CORRECTLY contains ONLY 2 values\n",
      "('EVENT', 'Accident')                          CORRECTLY contains ONLY 2 values\n",
      "('EVENT', 'Other')                             CORRECTLY contains ONLY 2 values\n",
      "('CAUSE', 'No_Info')                           CORRECTLY contains ONLY 2 values\n",
      "('CAUSE', 'Just_Happens')                      CORRECTLY contains ONLY 2 values\n",
      "('CAUSE', 'Material_Physical')                 CORRECTLY contains ONLY 2 values\n",
      "('CAUSE', 'Spirits_Gods')                      CORRECTLY contains ONLY 2 values\n",
      "('CAUSE', 'Witchcraft_Sorcery')                CORRECTLY contains ONLY 2 values\n",
      "('CAUSE', 'Rule_Violation_Taboo')              CORRECTLY contains ONLY 2 values\n",
      "('CAUSE', 'Jealousy_Evil_Eye')                 CORRECTLY contains ONLY 2 values\n",
      "('ACTION', 'No_Info')                          CORRECTLY contains ONLY 2 values\n",
      "('ACTION', 'Physical_Material')                CORRECTLY contains ONLY 2 values\n",
      "('ACTION', 'Technical_Specialist')             CORRECTLY contains ONLY 2 values\n",
      "('ACTION', 'Divination')                       CORRECTLY contains ONLY 2 values\n",
      "('ACTION', 'Shaman_Medium_Healer')             CORRECTLY contains ONLY 2 values\n",
      "('ACTION', 'Priest_High_Religion')             CORRECTLY contains ONLY 2 values\n",
      "('ACTION', 'Other')                            CORRECTLY contains ONLY 2 values\n"
     ]
    }
   ],
   "source": [
    "multiCol = list(df.columns)\n",
    "valuecountCol = []\n",
    "for col in multiCol:\n",
    "    if col[0] in [\"CULTURE\", \"OTHER\", \"CODER\"] or col[1] in [\"Description\", \"Local_terms\", \"Local_Terms\"]:\n",
    "        continue\n",
    "    else:\n",
    "        valuecountCol.append(col)\n",
    "\n",
    "# look through and make sure each column only has a 1 or 0\n",
    "for col in valuecountCol:\n",
    "    Counts = df[col].value_counts()\n",
    "    if len(Counts) >2:\n",
    "        print(Counts)\n",
    "    else:\n",
    "        print(f\"{col}  {(45 - len(str(col))) * ' '}CORRECTLY contains ONLY 2 values\")\n"
   ]
  },
  {
   "cell_type": "code",
   "execution_count": 10,
   "metadata": {},
   "outputs": [
    {
     "data": {
      "text/html": [
       "<div>\n",
       "<style scoped>\n",
       "    .dataframe tbody tr th:only-of-type {\n",
       "        vertical-align: middle;\n",
       "    }\n",
       "\n",
       "    .dataframe tbody tr th {\n",
       "        vertical-align: top;\n",
       "    }\n",
       "\n",
       "    .dataframe thead tr th {\n",
       "        text-align: left;\n",
       "    }\n",
       "</style>\n",
       "<table border=\"1\" class=\"dataframe\">\n",
       "  <thead>\n",
       "    <tr>\n",
       "      <th></th>\n",
       "      <th colspan=\"2\" halign=\"left\">CULTURE</th>\n",
       "      <th colspan=\"4\" halign=\"left\">EVENT</th>\n",
       "      <th colspan=\"7\" halign=\"left\">CAUSE</th>\n",
       "      <th colspan=\"7\" halign=\"left\">ACTION</th>\n",
       "      <th>CODER</th>\n",
       "    </tr>\n",
       "    <tr>\n",
       "      <th></th>\n",
       "      <th>Culture</th>\n",
       "      <th>Passage Number</th>\n",
       "      <th>No_Info</th>\n",
       "      <th>Illness</th>\n",
       "      <th>Accident</th>\n",
       "      <th>Other</th>\n",
       "      <th>No_Info</th>\n",
       "      <th>Just_Happens</th>\n",
       "      <th>Material_Physical</th>\n",
       "      <th>Spirits_Gods</th>\n",
       "      <th>...</th>\n",
       "      <th>Rule_Violation_Taboo</th>\n",
       "      <th>Jealousy_Evil_Eye</th>\n",
       "      <th>No_Info</th>\n",
       "      <th>Physical_Material</th>\n",
       "      <th>Technical_Specialist</th>\n",
       "      <th>Divination</th>\n",
       "      <th>Shaman_Medium_Healer</th>\n",
       "      <th>Priest_High_Religion</th>\n",
       "      <th>Other</th>\n",
       "      <th>Coder</th>\n",
       "    </tr>\n",
       "  </thead>\n",
       "  <tbody>\n",
       "  </tbody>\n",
       "</table>\n",
       "<p>0 rows × 21 columns</p>\n",
       "</div>"
      ],
      "text/plain": [
       "Empty DataFrame\n",
       "Columns: [(CULTURE, Culture), (CULTURE, Passage Number), (EVENT, No_Info), (EVENT, Illness), (EVENT, Accident), (EVENT, Other), (CAUSE, No_Info), (CAUSE, Just_Happens), (CAUSE, Material_Physical), (CAUSE, Spirits_Gods), (CAUSE, Witchcraft_Sorcery), (CAUSE, Rule_Violation_Taboo), (CAUSE, Jealousy_Evil_Eye), (ACTION, No_Info), (ACTION, Physical_Material), (ACTION, Technical_Specialist), (ACTION, Divination), (ACTION, Shaman_Medium_Healer), (ACTION, Priest_High_Religion), (ACTION, Other), (CODER, Coder)]\n",
       "Index: []\n",
       "\n",
       "[0 rows x 21 columns]"
      ]
     },
     "execution_count": 10,
     "metadata": {},
     "output_type": "execute_result"
    }
   ],
   "source": [
    "# Save mistakes in a dataframe and check\n",
    "df_mistakes = pd.DataFrame()\n",
    "for col in valuecountCol:\n",
    "    df_mistakesRA = df[(df[col] != 1) & (df[col] != 0)]\n",
    "    df_mistakes = pd.concat([df_mistakes, df_mistakesRA], ignore_index=True)\n",
    "df_mistakes.sort_values(by=[(\"CODER\",\"Coder\"), (\"CULTURE\",\"Passage Number\")], ascending=True)[ [(\"CULTURE\",\"Culture\"), (\"CULTURE\",\"Passage Number\")]+ valuecountCol + [(\"CODER\",\"Coder\")]]"
   ]
  },
  {
   "attachments": {},
   "cell_type": "markdown",
   "metadata": {},
   "source": [
    "20 values were corrected for typing errors and interpretated based on Research assistant descriptions and Research manager's final word. a good number were merely NaN values and were recoded as being 0's <br>\n",
    "Rows were also removed which have a missing no_info value as these tended to be completely blank <br>\n",
    "Codings found that were clearly wrong were not chnaged for the sake of not interfering with coder's reliability or decision."
   ]
  },
  {
   "cell_type": "code",
   "execution_count": 11,
   "metadata": {},
   "outputs": [
    {
     "data": {
      "text/html": [
       "<div>\n",
       "<style scoped>\n",
       "    .dataframe tbody tr th:only-of-type {\n",
       "        vertical-align: middle;\n",
       "    }\n",
       "\n",
       "    .dataframe tbody tr th {\n",
       "        vertical-align: top;\n",
       "    }\n",
       "\n",
       "    .dataframe thead tr th {\n",
       "        text-align: left;\n",
       "    }\n",
       "</style>\n",
       "<table border=\"1\" class=\"dataframe\">\n",
       "  <thead>\n",
       "    <tr>\n",
       "      <th></th>\n",
       "      <th colspan=\"10\" halign=\"left\">CULTURE</th>\n",
       "      <th>...</th>\n",
       "      <th colspan=\"6\" halign=\"left\">ACTION</th>\n",
       "      <th>OTHER</th>\n",
       "      <th colspan=\"3\" halign=\"left\">CODER</th>\n",
       "    </tr>\n",
       "    <tr>\n",
       "      <th></th>\n",
       "      <th>Passage Number</th>\n",
       "      <th>Region</th>\n",
       "      <th>SubRegion</th>\n",
       "      <th>Culture</th>\n",
       "      <th>DocTitle</th>\n",
       "      <th>Section</th>\n",
       "      <th>Author</th>\n",
       "      <th>Page</th>\n",
       "      <th>Year</th>\n",
       "      <th>OCM</th>\n",
       "      <th>...</th>\n",
       "      <th>Divination</th>\n",
       "      <th>Shaman_Medium_Healer</th>\n",
       "      <th>Priest_High_Religion</th>\n",
       "      <th>Other</th>\n",
       "      <th>Description</th>\n",
       "      <th>Local_terms</th>\n",
       "      <th>Other_Comments</th>\n",
       "      <th>Run_Number</th>\n",
       "      <th>Finished</th>\n",
       "      <th>Coder</th>\n",
       "    </tr>\n",
       "  </thead>\n",
       "  <tbody>\n",
       "    <tr>\n",
       "      <th>1</th>\n",
       "      <td>5153.0</td>\n",
       "      <td>North-America</td>\n",
       "      <td>Plains and Plateau</td>\n",
       "      <td>Blackfoot</td>\n",
       "      <td>Ceremonial bundles of the Blackfoot Indians</td>\n",
       "      <td>( e )</td>\n",
       "      <td>Wissler, Clark, 1870-1947</td>\n",
       "      <td>74</td>\n",
       "      <td>1912.0</td>\n",
       "      <td>['159', '493', '751', '756', '776', '778']</td>\n",
       "      <td>...</td>\n",
       "      <td>0</td>\n",
       "      <td>0</td>\n",
       "      <td>0</td>\n",
       "      <td>0</td>\n",
       "      <td>narrator recalls seing in a dream that by usin...</td>\n",
       "      <td>0</td>\n",
       "      <td>not sure how to code this one, misfortune is n...</td>\n",
       "      <td>1</td>\n",
       "      <td>True</td>\n",
       "      <td>AH</td>\n",
       "    </tr>\n",
       "    <tr>\n",
       "      <th>4</th>\n",
       "      <td>5206.0</td>\n",
       "      <td>North-America</td>\n",
       "      <td>Plains and Plateau</td>\n",
       "      <td>Blackfoot</td>\n",
       "      <td>Ceremonial bundles of the Blackfoot Indians</td>\n",
       "      <td>Untitled Section</td>\n",
       "      <td>Wissler, Clark, 1870-1947</td>\n",
       "      <td>88</td>\n",
       "      <td>1912.0</td>\n",
       "      <td>['177', '436', '750', '756', '778', '832']</td>\n",
       "      <td>...</td>\n",
       "      <td>0</td>\n",
       "      <td>0</td>\n",
       "      <td>0</td>\n",
       "      <td>0</td>\n",
       "      <td>injury by Cree medicine can be removed by oth...</td>\n",
       "      <td>0</td>\n",
       "      <td>0</td>\n",
       "      <td>1</td>\n",
       "      <td>True</td>\n",
       "      <td>AH</td>\n",
       "    </tr>\n",
       "    <tr>\n",
       "      <th>5</th>\n",
       "      <td>5208.0</td>\n",
       "      <td>North-America</td>\n",
       "      <td>Plains and Plateau</td>\n",
       "      <td>Blackfoot</td>\n",
       "      <td>Ceremonial bundles of the Blackfoot Indians</td>\n",
       "      <td>Untitled Section</td>\n",
       "      <td>Wissler, Clark, 1870-1947</td>\n",
       "      <td>90</td>\n",
       "      <td>1912.0</td>\n",
       "      <td>['177', '609', '753', '755', '761']</td>\n",
       "      <td>...</td>\n",
       "      <td>0</td>\n",
       "      <td>0</td>\n",
       "      <td>0</td>\n",
       "      <td>1</td>\n",
       "      <td>preemptive action: treat all visiting Cree car...</td>\n",
       "      <td>0</td>\n",
       "      <td>not sure if \"treating someone carefully\" is co...</td>\n",
       "      <td>1</td>\n",
       "      <td>True</td>\n",
       "      <td>AH</td>\n",
       "    </tr>\n",
       "    <tr>\n",
       "      <th>6</th>\n",
       "      <td>5216.0</td>\n",
       "      <td>North-America</td>\n",
       "      <td>Plains and Plateau</td>\n",
       "      <td>Blackfoot</td>\n",
       "      <td>Ceremonial bundles of the Blackfoot Indians</td>\n",
       "      <td>Origins of Rituals.</td>\n",
       "      <td>Wissler, Clark, 1870-1947</td>\n",
       "      <td>101</td>\n",
       "      <td>1912.0</td>\n",
       "      <td>['121', '150', '159', '174', '753', '787']</td>\n",
       "      <td>...</td>\n",
       "      <td>0</td>\n",
       "      <td>0</td>\n",
       "      <td>0</td>\n",
       "      <td>0</td>\n",
       "      <td>no preemptive or consequent actions stated</td>\n",
       "      <td>0</td>\n",
       "      <td>0</td>\n",
       "      <td>1</td>\n",
       "      <td>True</td>\n",
       "      <td>AH</td>\n",
       "    </tr>\n",
       "    <tr>\n",
       "      <th>7</th>\n",
       "      <td>5217.0</td>\n",
       "      <td>North-America</td>\n",
       "      <td>Plains and Plateau</td>\n",
       "      <td>Blackfoot</td>\n",
       "      <td>Ceremonial bundles of the Blackfoot Indians</td>\n",
       "      <td>War Bridles.</td>\n",
       "      <td>Wissler, Clark, 1870-1947</td>\n",
       "      <td>110</td>\n",
       "      <td>1912.0</td>\n",
       "      <td>['224', '276', '283', '302', '721', '752', '75...</td>\n",
       "      <td>...</td>\n",
       "      <td>0</td>\n",
       "      <td>1</td>\n",
       "      <td>0</td>\n",
       "      <td>0</td>\n",
       "      <td>horse medicinemen use their powers to prevent ...</td>\n",
       "      <td>0</td>\n",
       "      <td>0</td>\n",
       "      <td>1</td>\n",
       "      <td>True</td>\n",
       "      <td>AH</td>\n",
       "    </tr>\n",
       "  </tbody>\n",
       "</table>\n",
       "<p>5 rows × 40 columns</p>\n",
       "</div>"
      ],
      "text/plain": [
       "         CULTURE                                                 \n",
       "  Passage Number         Region           SubRegion    Culture   \n",
       "1         5153.0  North-America  Plains and Plateau  Blackfoot  \\\n",
       "4         5206.0  North-America  Plains and Plateau  Blackfoot   \n",
       "5         5208.0  North-America  Plains and Plateau  Blackfoot   \n",
       "6         5216.0  North-America  Plains and Plateau  Blackfoot   \n",
       "7         5217.0  North-America  Plains and Plateau  Blackfoot   \n",
       "\n",
       "                                                                      \n",
       "                                      DocTitle              Section   \n",
       "1  Ceremonial bundles of the Blackfoot Indians                ( e )  \\\n",
       "4  Ceremonial bundles of the Blackfoot Indians     Untitled Section   \n",
       "5  Ceremonial bundles of the Blackfoot Indians     Untitled Section   \n",
       "6  Ceremonial bundles of the Blackfoot Indians  Origins of Rituals.   \n",
       "7  Ceremonial bundles of the Blackfoot Indians         War Bridles.   \n",
       "\n",
       "                                            \n",
       "                      Author Page    Year   \n",
       "1  Wissler, Clark, 1870-1947   74  1912.0  \\\n",
       "4  Wissler, Clark, 1870-1947   88  1912.0   \n",
       "5  Wissler, Clark, 1870-1947   90  1912.0   \n",
       "6  Wissler, Clark, 1870-1947  101  1912.0   \n",
       "7  Wissler, Clark, 1870-1947  110  1912.0   \n",
       "\n",
       "                                                      ...     ACTION   \n",
       "                                                 OCM  ... Divination   \n",
       "1         ['159', '493', '751', '756', '776', '778']  ...          0  \\\n",
       "4         ['177', '436', '750', '756', '778', '832']  ...          0   \n",
       "5                ['177', '609', '753', '755', '761']  ...          0   \n",
       "6         ['121', '150', '159', '174', '753', '787']  ...          0   \n",
       "7  ['224', '276', '283', '302', '721', '752', '75...  ...          0   \n",
       "\n",
       "                                                    \n",
       "  Shaman_Medium_Healer Priest_High_Religion Other   \n",
       "1                    0                    0     0  \\\n",
       "4                    0                    0     0   \n",
       "5                    0                    0     1   \n",
       "6                    0                    0     0   \n",
       "7                    1                    0     0   \n",
       "\n",
       "                                                                   \n",
       "                                         Description Local_terms   \n",
       "1  narrator recalls seing in a dream that by usin...           0  \\\n",
       "4   injury by Cree medicine can be removed by oth...           0   \n",
       "5  preemptive action: treat all visiting Cree car...           0   \n",
       "6         no preemptive or consequent actions stated           0   \n",
       "7  horse medicinemen use their powers to prevent ...           0   \n",
       "\n",
       "                                               OTHER      CODER                 \n",
       "                                      Other_Comments Run_Number Finished Coder  \n",
       "1  not sure how to code this one, misfortune is n...          1     True    AH  \n",
       "4                                                  0          1     True    AH  \n",
       "5  not sure if \"treating someone carefully\" is co...          1     True    AH  \n",
       "6                                                  0          1     True    AH  \n",
       "7                                                  0          1     True    AH  \n",
       "\n",
       "[5 rows x 40 columns]"
      ]
     },
     "execution_count": 11,
     "metadata": {},
     "output_type": "execute_result"
    }
   ],
   "source": [
    "df.head(5)"
   ]
  },
  {
   "cell_type": "code",
   "execution_count": 12,
   "metadata": {},
   "outputs": [
    {
     "name": "stdout",
     "output_type": "stream",
     "text": [
      "BIAS FOR ANSWERING 'PRESENT'\n",
      "\n",
      "EVENT:                                 0.85\n",
      "\tIllness:                       0.66\n",
      "\tAccident:                      0.07\n",
      "\tOther:                         0.27\n",
      "\n",
      "CAUSE:                                 0.68\n",
      "\tJust_Happens:                  0.06\n",
      "\tMaterial_Physical:             0.24\n",
      "\tSpirits_Gods:                  0.35\n",
      "\tWitchcraft_Sorcery:            0.12\n",
      "\tRule_Violation_Taboo:          0.12\n",
      "\tJealousy_Evil_Eye:             0.03\n",
      "\n",
      "ACTION:                                0.68\n",
      "\tPhysical_Material:             0.41\n",
      "\tTechnical_Specialist:          0.08\n",
      "\tDivination:                    0.06\n",
      "\tShaman_Medium_Healer:          0.18\n",
      "\tPriest_High_Religion:          0.03\n",
      "\tOther:                         0.17\n"
     ]
    }
   ],
   "source": [
    "# Calculate response bias (unbalanced 1 vs. 0, a perfectly balanced one would be .5 or 50%)\n",
    "def colProportion(df, col, present=1):\n",
    "    value_counts = df[col].value_counts()\n",
    "    proportion = round(value_counts[present]/len(df),2)\n",
    "    return proportion\n",
    "\n",
    "print(\"BIAS FOR ANSWERING \\'PRESENT\\'\")\n",
    "for col in valuecountCol:\n",
    "    if col[1] == \"No_Info\":\n",
    "        proportion = colProportion(df, col, present=0)\n",
    "        print(f\"\\n{col[0]}:{(38-len(col[0]))*' '}{proportion}\")\n",
    "    else:\n",
    "        proportion = colProportion(df, col, present=1)\n",
    "        print(f\"\\t{col[1]}:{(30-len(col[1]))*' '}{proportion}\")\n",
    "\n"
   ]
  },
  {
   "cell_type": "code",
   "execution_count": 13,
   "metadata": {},
   "outputs": [
    {
     "name": "stdout",
     "output_type": "stream",
     "text": [
      "YM 530 5.43 Passages per hour         74398   762.27   Words Per Hour\n",
      "LG 371 7.65 Passages per hour         65884   1358.43  Words Per Hour\n",
      "HL 312 5.45 Passages per hour         48172   842.17   Words Per Hour\n",
      "KY 294 7.28 Passages per hour         59371   1469.58  Words Per Hour\n",
      "AH 287 5.51 Passages per hour         48859   937.79   Words Per Hour\n",
      "KK 144 5.16 Passages per hour         20049   718.6    Words Per Hour\n",
      "mean speed 6.08 Passages per hour\n"
     ]
    }
   ],
   "source": [
    "from datetime import date\n",
    "today = date.today() #get date\n",
    "\n",
    "\n",
    "# Passages per hour list (Includes finished and unfinished)\n",
    "PPH_list = []\n",
    "df_RA = pd.DataFrame({\"RA\":[], \"Passages\":[], \"Hours\":[], 'PassPerHour':[], 'Words':[], 'WordsPerHour':[], 'Date':[]})\n",
    "hours_dict = {'LG':48.5, 'AH':52.1, 'KK':27.9, 'HL':57.2, 'YM':97.6, 'KY':40.4}\n",
    "code_count = df[(\"CODER\",\"Coder\")].value_counts()\n",
    "for key, val in code_count.items():\n",
    "    PPH = round(val/hours_dict[key], 2)\n",
    "    PPH_list.append(PPH)\n",
    "    df_word_Count = df.loc[df[(\"CODER\",\"Coder\")]==key]\n",
    "    word_count = df_word_Count[(\"CULTURE\",\"Passage\")].str.split().str.len().sum()\n",
    "    WPH = round(word_count/hours_dict[key], 2)\n",
    "    print(f\"{key} {val}{(4-len(str(val)))*' '}{PPH} Passages per hour         {word_count}{(8-len(str(word_count)))*' '}{WPH}{(8-len(str(WPH)))*' '} Words Per Hour\")\n",
    "    df_RA.loc[len(df_RA.index)] = [key, val, hours_dict[key], PPH, word_count, WPH, today ]\n",
    "print(f\"mean speed {round(np.mean(PPH_list),2)} Passages per hour\")"
   ]
  },
  {
   "cell_type": "code",
   "execution_count": 14,
   "metadata": {},
   "outputs": [],
   "source": [
    "# dummy code for later use\n",
    "# df_word_Count[(\"CULTURE\",\"Passage\")].str.split().str.len()"
   ]
  },
  {
   "cell_type": "code",
   "execution_count": 15,
   "metadata": {},
   "outputs": [],
   "source": [
    "# Save Progress\n",
    "\n",
    "fileName = \"RA_Progress.xlsx\"\n",
    "\n",
    "\n",
    "if os.path.isfile(fileName):\n",
    "    df_RA_old = pd.read_excel(fileName, index_col=False)\n",
    "    df_RA = pd.concat([df_RA, df_RA_old], ignore_index=True)\n",
    "    df_RA = df_RA.astype({'Date':'datetime64[ns]'})\n",
    "    df_RA = df_RA.sort_values(by=['Date','RA'], ascending=[True,False])\n",
    "    df_RA = df_RA.drop_duplicates(subset=[\"RA\",\"Date\"], keep=\"last\") #may work to allow updating the old rows, not sure, haven't tested\n",
    "    df_RA = df_RA.reset_index(drop=True)\n",
    "df_RA.to_excel(fileName, index=False)\n"
   ]
  },
  {
   "cell_type": "code",
   "execution_count": 16,
   "metadata": {},
   "outputs": [
    {
     "name": "stdout",
     "output_type": "stream",
     "text": [
      "Unfinished but started (unique) Cultures: 5\n",
      "Unfinished Culture Passage count: 252\n",
      "\n",
      "Finished (unique) Cultures: 26\n",
      "Finished Culture Passage Count: 1686\n",
      "\n",
      "Total (unique) Cultures: 29\n",
      "Total Passages: 1938\n"
     ]
    }
   ],
   "source": [
    "# Counts\n",
    "print(f\"Unfinished but started (unique) Cultures: {len(set(df[~df[('CODER','Finished')]][('CULTURE','Culture')]))}\")\n",
    "print(f\"Unfinished Culture Passage count: {len(df[~df[('CODER','Finished')]][('CULTURE','Culture')])}\\n\")\n",
    "print(f\"Finished (unique) Cultures: {len(set(df[df[('CODER','Finished')]][('CULTURE','Culture')]))}\")\n",
    "print(f\"Finished Culture Passage Count: {len(df[df[('CODER','Finished')]][('CULTURE','Culture')])}\\n\")\n",
    "print(f\"Total (unique) Cultures: {len(set(df[('CULTURE','Culture')]))}\")\n",
    "print(f\"Total Passages: {len(df)}\")"
   ]
  },
  {
   "cell_type": "code",
   "execution_count": 17,
   "metadata": {},
   "outputs": [
    {
     "name": "stdout",
     "output_type": "stream",
     "text": [
      "1st Run Cultures: 29\n",
      "1st Run Culture Passage Count: 1890\n",
      "\n",
      "2nd Run Cultures: 3\n",
      "2nd Run Culture Passage Count: 48\n",
      "\n"
     ]
    }
   ],
   "source": [
    "print(f\"1st Run Cultures: {len(set(df[df[('CODER','Run_Number')]==1][('CULTURE','Culture')]))}\")\n",
    "print(f\"1st Run Culture Passage Count: {len(df[df[('CODER','Run_Number')]==1][('CULTURE','Culture')])}\\n\")\n",
    "print(f\"2nd Run Cultures: {len(set(df[df[('CODER','Run_Number')]==2][('CULTURE','Culture')]))}\")\n",
    "print(f\"2nd Run Culture Passage Count: {len(df[df[('CODER','Run_Number')]==2][('CULTURE','Culture')])}\\n\")"
   ]
  },
  {
   "cell_type": "code",
   "execution_count": 18,
   "metadata": {},
   "outputs": [],
   "source": [
    "# Save concatinated file\n",
    "df.to_excel(\"Culture_Coding.xlsx\")"
   ]
  },
  {
   "cell_type": "code",
   "execution_count": null,
   "metadata": {},
   "outputs": [],
   "source": []
  },
  {
   "attachments": {},
   "cell_type": "markdown",
   "metadata": {},
   "source": [
    "## Inter-Rater Reliability Coding"
   ]
  },
  {
   "attachments": {},
   "cell_type": "markdown",
   "metadata": {},
   "source": [
    "Check agreement between coders"
   ]
  },
  {
   "cell_type": "code",
   "execution_count": 19,
   "metadata": {},
   "outputs": [
    {
     "name": "stdout",
     "output_type": "stream",
     "text": [
      "['Blackfoot' 'Saami' 'Mataco' 'Taiwan Hokkien' 'Lozi' 'Yakut' 'Aymara'\n",
      " 'Somali' 'Bororo' 'Trobriands' 'Aranda' 'Tzeltal' 'Ganda' 'Maasai'\n",
      " 'Hausa' 'Iban' 'Kurds' 'Tukano' 'Yanoama' 'Copper Inuit' 'Santal' 'Kogi'\n",
      " 'Pawnee' 'Ona' 'Chukchee' 'Libyan Bedouin' 'Andamans' 'Lau Fijians'\n",
      " 'Tikopia']\n",
      "['Lozi' 'Copper Inuit' 'Pawnee']\n"
     ]
    }
   ],
   "source": [
    "# Cultures\n",
    "df_one = df.loc[df[(\"CODER\",\"Run_Number\")]==1]\n",
    "print(df_one[(\"CULTURE\",\"Culture\")].unique())\n",
    "df_two = df.loc[df[(\"CODER\",\"Run_Number\")]==2]\n",
    "print(df_two[(\"CULTURE\",\"Culture\")].unique())\n"
   ]
  },
  {
   "cell_type": "code",
   "execution_count": 73,
   "metadata": {},
   "outputs": [
    {
     "name": "stderr",
     "output_type": "stream",
     "text": [
      "/var/folders/r8/j6vx966d5rj6srtb4x895kvr0000gp/T/ipykernel_74508/2340595576.py:4: SettingWithCopyWarning: \n",
      "A value is trying to be set on a copy of a slice from a DataFrame.\n",
      "Try using .loc[row_indexer,col_indexer] = value instead\n",
      "\n",
      "See the caveats in the documentation: https://pandas.pydata.org/pandas-docs/stable/user_guide/indexing.html#returning-a-view-versus-a-copy\n",
      "  df_dummy.loc[:, \"Passage Number\"] = df_dummy[(\"CULTURE\", \"Passage Number\")]\n"
     ]
    },
    {
     "data": {
      "text/plain": [
       "(CODER, Run_Number)\n",
       "1    47\n",
       "2    47\n",
       "Name: count, dtype: int64"
      ]
     },
     "execution_count": 73,
     "metadata": {},
     "output_type": "execute_result"
    }
   ],
   "source": [
    "df_dummy = df[df.duplicated(subset=(\"CULTURE\",\"Passage Number\"), keep=False)]\n",
    "\n",
    "#Convert the passage numbers to the index\n",
    "df_dummy.loc[:, \"Passage Number\"] = df_dummy[(\"CULTURE\", \"Passage Number\")]\n",
    "df_dummy = df_dummy.drop(columns=[(\"CULTURE\", \"Passage Number\")])\n",
    "df_dummy = df_dummy.set_index(\"Passage Number\")\n",
    "\n",
    "# remove extraneous columns\n",
    "df_dummy = df_dummy.drop(columns=df_dummy.columns[df_dummy.columns.get_level_values(0).isin(['CULTURE','OTHER'])])\n",
    "df_dummy = df_dummy.iloc[:, :-2] # for some reason this does not allow me to drop all of the CODER column\n",
    "rem_cols = [i for i in df_dummy.columns if i[1] in ['Description', 'Local_Terms', 'Local_terms', 'Other_Comments']]\n",
    "df_dummy = df_dummy.drop(columns=rem_cols)\n",
    "\n",
    "# check if number match above numbers\n",
    "df_dummy[(\"CODER\",\"Run_Number\")].value_counts()"
   ]
  },
  {
   "cell_type": "code",
   "execution_count": 78,
   "metadata": {},
   "outputs": [
    {
     "data": {
      "text/plain": [
       "EVENT   No_Info                 0.893617\n",
       "        Illness                 0.829787\n",
       "        Accident                0.808511\n",
       "        Other                   0.468085\n",
       "CAUSE   No_Info                 0.765957\n",
       "        Just_Happens            0.744681\n",
       "        Material_Physical       0.702128\n",
       "        Spirits_Gods            0.787234\n",
       "        Witchcraft_Sorcery      0.851064\n",
       "        Rule_Violation_Taboo    0.851064\n",
       "        Jealousy_Evil_Eye       0.957447\n",
       "ACTION  No_Info                 0.808511\n",
       "        Physical_Material       0.574468\n",
       "        Technical_Specialist    0.851064\n",
       "        Divination              0.893617\n",
       "        Shaman_Medium_Healer    0.914894\n",
       "        Priest_High_Religion    1.000000\n",
       "        Other                   0.617021\n",
       "CODER   Run_Number              0.000000\n",
       "dtype: float64"
      ]
     },
     "execution_count": 78,
     "metadata": {},
     "output_type": "execute_result"
    }
   ],
   "source": [
    "df_one = df_dummy.loc[df_dummy[(\"CODER\",\"Run_Number\")]==1]\n",
    "df_two = df_dummy.loc[df_dummy[(\"CODER\",\"Run_Number\")]==2]\n",
    "\n",
    "df_comparison = df_one == df_two\n",
    "df_comparison.mean(axis=0)\n",
    "\n"
   ]
  }
 ],
 "metadata": {
  "kernelspec": {
   "display_name": "Python 3",
   "language": "python",
   "name": "python3"
  },
  "language_info": {
   "codemirror_mode": {
    "name": "ipython",
    "version": 3
   },
   "file_extension": ".py",
   "mimetype": "text/x-python",
   "name": "python",
   "nbconvert_exporter": "python",
   "pygments_lexer": "ipython3",
   "version": "3.11.3"
  },
  "orig_nbformat": 4
 },
 "nbformat": 4,
 "nbformat_minor": 2
}
