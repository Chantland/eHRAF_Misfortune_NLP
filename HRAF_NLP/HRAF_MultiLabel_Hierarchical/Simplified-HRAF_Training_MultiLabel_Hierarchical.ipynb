{
 "cells": [
  {
   "cell_type": "code",
   "execution_count": 1,
   "metadata": {},
   "outputs": [],
   "source": [
    "from datasets.dataset_dict import DatasetDict\n",
    "from datasets import Dataset, concatenate_datasets\n",
    "import os\n",
    "import json\n",
    "import pandas as pd\n",
    "import numpy as np\n",
    "\n",
    "from sklearn.model_selection import train_test_split \n"
   ]
  },
  {
   "attachments": {},
   "cell_type": "markdown",
   "metadata": {},
   "source": [
    "## Import the dataset"
   ]
  },
  {
   "cell_type": "code",
   "execution_count": 2,
   "metadata": {},
   "outputs": [
    {
     "data": {
      "text/html": [
       "<div>\n",
       "<style scoped>\n",
       "    .dataframe tbody tr th:only-of-type {\n",
       "        vertical-align: middle;\n",
       "    }\n",
       "\n",
       "    .dataframe tbody tr th {\n",
       "        vertical-align: top;\n",
       "    }\n",
       "\n",
       "    .dataframe thead tr th {\n",
       "        text-align: left;\n",
       "    }\n",
       "</style>\n",
       "<table border=\"1\" class=\"dataframe\">\n",
       "  <thead>\n",
       "    <tr>\n",
       "      <th></th>\n",
       "      <th colspan=\"10\" halign=\"left\">CULTURE</th>\n",
       "      <th>...</th>\n",
       "      <th colspan=\"3\" halign=\"left\">ACTION</th>\n",
       "      <th>OTHER</th>\n",
       "      <th colspan=\"3\" halign=\"left\">CODER</th>\n",
       "      <th>OTHER</th>\n",
       "      <th colspan=\"2\" halign=\"left\">CODER</th>\n",
       "    </tr>\n",
       "    <tr>\n",
       "      <th></th>\n",
       "      <th>Passage Number</th>\n",
       "      <th>Region</th>\n",
       "      <th>SubRegion</th>\n",
       "      <th>Culture</th>\n",
       "      <th>DocTitle</th>\n",
       "      <th>Section</th>\n",
       "      <th>Author</th>\n",
       "      <th>Page</th>\n",
       "      <th>Year</th>\n",
       "      <th>OCM</th>\n",
       "      <th>...</th>\n",
       "      <th>Other</th>\n",
       "      <th>Description</th>\n",
       "      <th>Local_terms</th>\n",
       "      <th>Other_Comments</th>\n",
       "      <th>Run_Number</th>\n",
       "      <th>Finished</th>\n",
       "      <th>Coder</th>\n",
       "      <th>Other_Comments.1</th>\n",
       "      <th>Dataset</th>\n",
       "      <th>Info</th>\n",
       "    </tr>\n",
       "  </thead>\n",
       "  <tbody>\n",
       "    <tr>\n",
       "      <th>0</th>\n",
       "      <td>1392</td>\n",
       "      <td>Asia</td>\n",
       "      <td>South Asia</td>\n",
       "      <td>Andamans</td>\n",
       "      <td>Hygiene and medical practices among the Onge (...</td>\n",
       "      <td>1. Habitation</td>\n",
       "      <td>Cipriani, Lidio</td>\n",
       "      <td>484</td>\n",
       "      <td>1961</td>\n",
       "      <td>['171', '301', '727', '751', '765', '775', '777']</td>\n",
       "      <td>...</td>\n",
       "      <td>1</td>\n",
       "      <td>Several customs are believed to connect with t...</td>\n",
       "      <td>ibidanghe: made from decorated human jawbone ...</td>\n",
       "      <td>General note of this spreadsheet - many of the...</td>\n",
       "      <td>1</td>\n",
       "      <td>True</td>\n",
       "      <td>YM</td>\n",
       "      <td>NaN</td>\n",
       "      <td>1</td>\n",
       "      <td>Dataset 1: ['750', '751', '752', '753']   Coun...</td>\n",
       "    </tr>\n",
       "    <tr>\n",
       "      <th>1</th>\n",
       "      <td>1393</td>\n",
       "      <td>Asia</td>\n",
       "      <td>South Asia</td>\n",
       "      <td>Andamans</td>\n",
       "      <td>Hygiene and medical practices among the Onge (...</td>\n",
       "      <td>3. Food</td>\n",
       "      <td>Cipriani, Lidio</td>\n",
       "      <td>487</td>\n",
       "      <td>1961</td>\n",
       "      <td>['136', '231', '271', '312', '415', '516', '751']</td>\n",
       "      <td>...</td>\n",
       "      <td>0</td>\n",
       "      <td>No action is mentioned</td>\n",
       "      <td>0</td>\n",
       "      <td>NaN</td>\n",
       "      <td>1</td>\n",
       "      <td>True</td>\n",
       "      <td>YM</td>\n",
       "      <td>NaN</td>\n",
       "      <td>1</td>\n",
       "      <td>Dataset 2: ['784', '731', '732', '777', '791',...</td>\n",
       "    </tr>\n",
       "    <tr>\n",
       "      <th>2</th>\n",
       "      <td>1395</td>\n",
       "      <td>Asia</td>\n",
       "      <td>South Asia</td>\n",
       "      <td>Andamans</td>\n",
       "      <td>Hygiene and medical practices among the Onge (...</td>\n",
       "      <td>3. Food</td>\n",
       "      <td>Cipriani, Lidio</td>\n",
       "      <td>490</td>\n",
       "      <td>1961</td>\n",
       "      <td>['114', '137', '164', '262', '273', '751', '825']</td>\n",
       "      <td>...</td>\n",
       "      <td>0</td>\n",
       "      <td>Certain foods, such as Pteropus (giant bat) an...</td>\n",
       "      <td>Pteropus: a giant bat  eaten by the Andaman Is...</td>\n",
       "      <td>NaN</td>\n",
       "      <td>1</td>\n",
       "      <td>True</td>\n",
       "      <td>YM</td>\n",
       "      <td>NaN</td>\n",
       "      <td>1</td>\n",
       "      <td>Run 1: Spring 2023 Coding of Sickness dataset ...</td>\n",
       "    </tr>\n",
       "  </tbody>\n",
       "</table>\n",
       "<p>3 rows × 43 columns</p>\n",
       "</div>"
      ],
      "text/plain": [
       "         CULTURE                               \\\n",
       "  Passage Number Region   SubRegion   Culture   \n",
       "0           1392   Asia  South Asia  Andamans   \n",
       "1           1393   Asia  South Asia  Andamans   \n",
       "2           1395   Asia  South Asia  Andamans   \n",
       "\n",
       "                                                                     \\\n",
       "                                            DocTitle        Section   \n",
       "0  Hygiene and medical practices among the Onge (...  1. Habitation   \n",
       "1  Hygiene and medical practices among the Onge (...        3. Food   \n",
       "2  Hygiene and medical practices among the Onge (...        3. Food   \n",
       "\n",
       "                               \\\n",
       "            Author Page  Year   \n",
       "0  Cipriani, Lidio  484  1961   \n",
       "1  Cipriani, Lidio  487  1961   \n",
       "2  Cipriani, Lidio  490  1961   \n",
       "\n",
       "                                                      ... ACTION  \\\n",
       "                                                 OCM  ...  Other   \n",
       "0  ['171', '301', '727', '751', '765', '775', '777']  ...      1   \n",
       "1  ['136', '231', '271', '312', '415', '516', '751']  ...      0   \n",
       "2  ['114', '137', '164', '262', '273', '751', '825']  ...      0   \n",
       "\n",
       "                                                      \\\n",
       "                                         Description   \n",
       "0  Several customs are believed to connect with t...   \n",
       "1                             No action is mentioned   \n",
       "2  Certain foods, such as Pteropus (giant bat) an...   \n",
       "\n",
       "                                                      \\\n",
       "                                         Local_terms   \n",
       "0   ibidanghe: made from decorated human jawbone ...   \n",
       "1                                                  0   \n",
       "2  Pteropus: a giant bat  eaten by the Andaman Is...   \n",
       "\n",
       "                                               OTHER      CODER           \\\n",
       "                                      Other_Comments Run_Number Finished   \n",
       "0  General note of this spreadsheet - many of the...          1     True   \n",
       "1                                                NaN          1     True   \n",
       "2                                                NaN          1     True   \n",
       "\n",
       "                   OTHER   CODER  \\\n",
       "  Coder Other_Comments.1 Dataset   \n",
       "0    YM              NaN       1   \n",
       "1    YM              NaN       1   \n",
       "2    YM              NaN       1   \n",
       "\n",
       "                                                      \n",
       "                                                Info  \n",
       "0  Dataset 1: ['750', '751', '752', '753']   Coun...  \n",
       "1  Dataset 2: ['784', '731', '732', '777', '791',...  \n",
       "2  Run 1: Spring 2023 Coding of Sickness dataset ...  \n",
       "\n",
       "[3 rows x 43 columns]"
      ]
     },
     "execution_count": 2,
     "metadata": {},
     "output_type": "execute_result"
    }
   ],
   "source": [
    "\n",
    "df_path = \"../../../eHRAF_Scraper-Analysis-and-Prep/Data/\"\n",
    "dataFolder = r\"(subjects-(contracts_OR_disabilities_OR_disasters_OR_friendships_OR_gift_giving_OR_infant_feeding_OR_lineages_OR_local_officials_OR_luck_and_chance_OR_magicians_and_diviners_OR_mortuary_specialists_OR_nuclear_family_OR_priesthood_OR_prophet/\"\n",
    "# dataFolder = r'subjects-(sickness)_FILTERS-culture_level_samples(PSF)'\n",
    "\n",
    "# Get model and centralized path if relevent\n",
    "model_name = \"HRAF_MultiLabel_Hierarchical\"\n",
    "path = f\"\" #Path to centralized file locations (leave blank if centralized location is here)\n",
    "\n",
    "\n",
    "\n",
    "#load df\n",
    "df = pd.read_excel(f\"{df_path}{dataFolder}/_Altogether_Dataset_RACoded_Combined.xlsx\", header=[0,1], index_col=0) # Spring 2023 - Spring 2024  sickness + nonsickness dataset\n",
    "df.head(3)"
   ]
  },
  {
   "cell_type": "markdown",
   "metadata": {},
   "source": [
    "## Preprocess"
   ]
  },
  {
   "cell_type": "markdown",
   "metadata": {},
   "source": [
    "### Remove Duplicates"
   ]
  },
  {
   "cell_type": "markdown",
   "metadata": {},
   "source": [
    "There were multiple iterations of Research Assistants labeling the data. <br>\n",
    "We will just use run number 1 and 3 with preference to 3 when there are duplicates (as it is the most recent and robust)\n"
   ]
  },
  {
   "cell_type": "code",
   "execution_count": 3,
   "metadata": {},
   "outputs": [
    {
     "data": {
      "text/plain": [
       "Run_Number  Dataset\n",
       "1           1          1926\n",
       "2           1            51\n",
       "3           1          4844\n",
       "            2          4184\n",
       "Name: count, dtype: int64"
      ]
     },
     "execution_count": 3,
     "metadata": {},
     "output_type": "execute_result"
    }
   ],
   "source": [
    "# Show run number and dataset\n",
    "df[\"CODER\"][[\"Run_Number\", \"Dataset\"]].value_counts(sort=False, dropna=False)"
   ]
  },
  {
   "cell_type": "code",
   "execution_count": 4,
   "metadata": {},
   "outputs": [
    {
     "name": "stdout",
     "output_type": "stream",
     "text": [
      "Duplicate Passages: 0\n"
     ]
    },
    {
     "data": {
      "text/plain": [
       "(CODER, Run_Number)\n",
       "3    9028\n",
       "1    1340\n",
       "Name: count, dtype: int64"
      ]
     },
     "execution_count": 4,
     "metadata": {},
     "output_type": "execute_result"
    }
   ],
   "source": [
    "\n",
    "mask_NotDuplicate = ~(df.duplicated((\"CULTURE\",\"Passage\"), keep=False)) \n",
    "mask_Dataset2 = df[(\"CODER\",\"Run_Number\")]==3\n",
    "\n",
    "\n",
    "df = df[(mask_NotDuplicate) |  (mask_Dataset2)]\n",
    "print(\"Duplicate Passages:\",sum((df.duplicated((\"CULTURE\",\"Passage\")))))\n",
    "df[(\"CODER\",\"Run_Number\")].value_counts()"
   ]
  },
  {
   "cell_type": "markdown",
   "metadata": {},
   "source": [
    "### Set up Dataset\n"
   ]
  },
  {
   "cell_type": "code",
   "execution_count": 5,
   "metadata": {},
   "outputs": [
    {
     "name": "stdout",
     "output_type": "stream",
     "text": [
      "Columns excluded:\n",
      " {('ACTION', 'Description'), ('CULTURE', 'Region'), ('CULTURE', 'Section'), ('CODER', 'Dataset'), ('CULTURE', 'Author'), ('OTHER', 'Other_Comments'), ('OTHER', 'Other_Comments.1'), ('CULTURE', 'DocTitle'), ('CODER', 'Coder'), ('CAUSE', 'Local_Terms'), ('CAUSE', 'Description'), ('ACTION', 'Local_terms'), ('CULTURE', 'OCM'), ('CODER', 'Run_Number'), ('CODER', 'Finished'), ('EVENT', 'Local_Terms'), ('EVENT', 'Description'), ('CULTURE', 'Year'), ('CULTURE', 'OWC'), ('CULTURE', 'Culture'), ('CULTURE', 'SubRegion'), ('CULTURE', 'Page'), ('CODER', 'Info')} \n",
      "\n",
      "Columns included:\n",
      "ID\n",
      "passage\n",
      "EVENT\n",
      "EVENT_Illness\n",
      "EVENT_Accident\n",
      "EVENT_Other\n",
      "CAUSE\n",
      "CAUSE_Just_Happens\n",
      "CAUSE_Material_Physical\n",
      "CAUSE_Spirits_Gods\n",
      "CAUSE_Witchcraft_Sorcery\n",
      "CAUSE_Rule_Violation_Taboo\n",
      "CAUSE_Other\n",
      "ACTION\n",
      "ACTION_Physical_Material\n",
      "ACTION_Technical_Specialist\n",
      "ACTION_Divination\n",
      "ACTION_Shaman_Medium_Healer\n",
      "ACTION_Priest_High_Religion\n",
      "ACTION_Other\n"
     ]
    }
   ],
   "source": [
    "#Construct col list\n",
    "cols = list(df.columns)\n",
    "id_index = cols.index(('CULTURE', \"Passage Number\"))\n",
    "passage_index = cols.index(('CULTURE', \"Passage\"))\n",
    "event_index =  cols.index(('EVENT', \"No_Info\"))\n",
    "cause_index = cols.index(('CAUSE', \"No_Info\"))\n",
    "action_index = cols.index(('ACTION', \"No_Info\"))\n",
    "\n",
    "# get a list of all the multi-indexed column names we want to evaluate\n",
    "col_list = [cols[id_index]] + [cols[passage_index]] + cols[event_index:event_index+4] + cols[cause_index:cause_index+7] + cols[action_index:action_index+7] #to include all columns including No_info\n",
    "\n",
    "\n",
    "# get column names to ascribe to the new data frame\n",
    "colNames = [\"ID\",\"passage\"]\n",
    "for category, sub_cat in col_list:\n",
    "    # skip passage and id which have already been added\n",
    "    # print(category, sub_cat)\n",
    "    if category == \"CULTURE\":\n",
    "        continue\n",
    "    if sub_cat == \"No_Info\":\n",
    "        colNames += [category]#this to include main classes, we will hold off on that\n",
    "        pass\n",
    "    else:\n",
    "        colNames += [f'{category}_{sub_cat}']\n",
    "\n",
    "print(\"Columns excluded:\\n\", set(cols)-set(col_list),\"\\n\")\n",
    "# for col in col_list\n",
    "print(\"Columns included:\")\n",
    "for col in colNames:\n",
    "    print(col)\n",
    "# colNames\n"
   ]
  },
  {
   "cell_type": "markdown",
   "metadata": {},
   "source": [
    "### Create Huggingface Dataset and do splits"
   ]
  },
  {
   "cell_type": "code",
   "execution_count": null,
   "metadata": {},
   "outputs": [
    {
     "data": {
      "text/plain": [
       "DatasetDict({\n",
       "    train: Dataset({\n",
       "        features: ['ID', 'passage', 'EVENT', 'EVENT_Illness', 'EVENT_Accident', 'EVENT_Other', 'CAUSE', 'CAUSE_Just_Happens', 'CAUSE_Material_Physical', 'CAUSE_Spirits_Gods', 'CAUSE_Witchcraft_Sorcery', 'CAUSE_Rule_Violation_Taboo', 'CAUSE_Other', 'ACTION', 'ACTION_Physical_Material', 'ACTION_Technical_Specialist', 'ACTION_Divination', 'ACTION_Shaman_Medium_Healer', 'ACTION_Priest_High_Religion', 'ACTION_Other'],\n",
       "        num_rows: 518\n",
       "    })\n",
       "    test: Dataset({\n",
       "        features: ['ID', 'passage', 'EVENT', 'EVENT_Illness', 'EVENT_Accident', 'EVENT_Other', 'CAUSE', 'CAUSE_Just_Happens', 'CAUSE_Material_Physical', 'CAUSE_Spirits_Gods', 'CAUSE_Witchcraft_Sorcery', 'CAUSE_Rule_Violation_Taboo', 'CAUSE_Other', 'ACTION', 'ACTION_Physical_Material', 'ACTION_Technical_Specialist', 'ACTION_Divination', 'ACTION_Shaman_Medium_Healer', 'ACTION_Priest_High_Religion', 'ACTION_Other'],\n",
       "        num_rows: 9849\n",
       "    })\n",
       "})"
      ]
     },
     "execution_count": 6,
     "metadata": {},
     "output_type": "execute_result"
    }
   ],
   "source": [
    "# subdivide into just passage and outcome\n",
    "df_small = pd.DataFrame()\n",
    "df_small[colNames] = df[col_list]\n",
    "# Flip the label of \"no_info\" to follow sub label's Present=1 Absent=0\n",
    "df_small[[\"EVENT\",\"CAUSE\",\"ACTION\"]]  = df_small[[\"EVENT\",\"CAUSE\",\"ACTION\"]].replace({0:1, 1:0})\n",
    "\n",
    "# Remove certain passages which should not be in training or inference (these are duplicates that had to be manually found by a human)\n",
    "values_to_remove = [3252, 33681, 6758, 10104]\n",
    "df_small = df_small[~df_small['ID'].isin(values_to_remove)]\n",
    "\n",
    "# create train and validation/test sets\n",
    "train_val, test = train_test_split(df_small, test_size=0.20, random_state=10)\n",
    "\n",
    "\n",
    "# Create an NLP friendly dataset\n",
    "Hraf = DatasetDict(\n",
    "    {'train':Dataset.from_dict(train_val.to_dict(orient= 'list')),\n",
    "     'test':Dataset.from_dict(test.to_dict(orient= 'list'))})\n",
    "Hraf"
   ]
  },
  {
   "attachments": {},
   "cell_type": "markdown",
   "metadata": {},
   "source": [
    "Make sure the train, validation, and test sets are as biased as our total input data (we want each to match more or less with the total) <br>"
   ]
  },
  {
   "cell_type": "code",
   "execution_count": 7,
   "metadata": {},
   "outputs": [
    {
     "name": "stdout",
     "output_type": "stream",
     "text": [
      "                                TOTAL     train     test\n",
      "____________________________________________________________\n",
      "EVENT:                          63.22     61.0      63.34     \n",
      "EVENT_Illness:                  40.58     41.89     40.51     \n",
      "EVENT_Accident:                 6.56      6.37      6.57      \n",
      "EVENT_Other:                    26.04     22.59     26.23     \n",
      "CAUSE:                          46.54     46.91     46.52     \n",
      "CAUSE_Just_Happens:             2.37      1.54      2.42      \n",
      "CAUSE_Material_Physical:        17.04     17.95     17.0      \n",
      "CAUSE_Spirits_Gods:             18.72     18.53     18.73     \n",
      "CAUSE_Witchcraft_Sorcery:       6.33      7.14      6.28      \n",
      "CAUSE_Rule_Violation_Taboo:     10.19     10.23     10.18     \n",
      "CAUSE_Other:                    5.28      5.02      5.29      \n",
      "ACTION:                         47.66     45.37     47.78     \n",
      "ACTION_Physical_Material:       32.21     30.89     32.28     \n",
      "ACTION_Technical_Specialist:    6.9       7.34      6.87      \n",
      "ACTION_Divination:              2.22      1.74      2.24      \n",
      "ACTION_Shaman_Medium_Healer:    7.72      6.56      7.78      \n",
      "ACTION_Priest_High_Religion:    3.44      3.67      3.43      \n",
      "ACTION_Other:                   7.12      6.18      7.17      \n"
     ]
    }
   ],
   "source": [
    "# extract the total proportion\n",
    "def totalProportion(df, col, present=1):\n",
    "    value_counts = df[col].value_counts()\n",
    "    percentage = round(value_counts[present]/len(df)*100,2)\n",
    "    return percentage\n",
    "\n",
    "# extracts percentages per datafaframe\n",
    "def colProportion(Hraf, col):\n",
    "    percentage_list = []\n",
    "    for dataframe in Hraf.keys():\n",
    "        percentage_list += [round(sum(Hraf[dataframe][col]) / (len(Hraf[dataframe]))*100,2)]\n",
    "    return percentage_list\n",
    "\n",
    "\n",
    "\n",
    "# print bias per label\n",
    "dataframe_keys= Hraf.keys()\n",
    "labels = [label for label in Hraf['train'].features.keys() if label not in ['ID', 'passage']]\n",
    "header = \"                                TOTAL\"\n",
    "for key in dataframe_keys:\n",
    "    header += f\"     {key}\"\n",
    "print(header)\n",
    "print('_'*(len(header)+4))\n",
    "for col in labels:\n",
    "    totalPercentage =  totalProportion(df_small, col)\n",
    "    percentage_list =  colProportion(Hraf, col)\n",
    "    spacing = 10\n",
    "    percentage_str = f\"{totalPercentage}{' '* (spacing-len(str(totalPercentage)))}\"\n",
    "    for index, key in enumerate(dataframe_keys):\n",
    "        percentage_str += f\"{(len(key)-5)*' '}{percentage_list[index]}{' '* (spacing-len(str(percentage_list[index])))}\"\n",
    "    print(f\"{col}:{' ' * (30- len(col))} {percentage_str}\")"
   ]
  },
  {
   "attachments": {},
   "cell_type": "markdown",
   "metadata": {},
   "source": [
    "Create labels for training and preprocessing"
   ]
  },
  {
   "cell_type": "code",
   "execution_count": 8,
   "metadata": {},
   "outputs": [
    {
     "data": {
      "text/plain": [
       "{0: 'EVENT',\n",
       " 1: 'EVENT_Illness',\n",
       " 2: 'EVENT_Accident',\n",
       " 3: 'EVENT_Other',\n",
       " 4: 'CAUSE',\n",
       " 5: 'CAUSE_Just_Happens',\n",
       " 6: 'CAUSE_Material_Physical',\n",
       " 7: 'CAUSE_Spirits_Gods',\n",
       " 8: 'CAUSE_Witchcraft_Sorcery',\n",
       " 9: 'CAUSE_Rule_Violation_Taboo',\n",
       " 10: 'CAUSE_Other',\n",
       " 11: 'ACTION',\n",
       " 12: 'ACTION_Physical_Material',\n",
       " 13: 'ACTION_Technical_Specialist',\n",
       " 14: 'ACTION_Divination',\n",
       " 15: 'ACTION_Shaman_Medium_Healer',\n",
       " 16: 'ACTION_Priest_High_Religion',\n",
       " 17: 'ACTION_Other'}"
      ]
     },
     "execution_count": 8,
     "metadata": {},
     "output_type": "execute_result"
    }
   ],
   "source": [
    "\n",
    "labels = [label for label in Hraf['train'].features.keys() if label not in ['ID', 'passage']]\n",
    "id2label = {idx:label for idx, label in enumerate(labels)}\n",
    "label2id = {label:idx for idx, label in enumerate(labels)}\n",
    "id2label"
   ]
  },
  {
   "cell_type": "markdown",
   "metadata": {},
   "source": [
    "### Tokenize Data"
   ]
  },
  {
   "attachments": {},
   "cell_type": "markdown",
   "metadata": {},
   "source": [
    "load a DistilBERT tokenizer to preprocess the text field: <br>"
   ]
  },
  {
   "attachments": {},
   "cell_type": "markdown",
   "metadata": {},
   "source": [
    "Create a preprocessing function to tokenize text and truncate sequences to be no longer than DistilBERT’s maximum input length:<br>\n",
    "Guidelines were followed from NielsRogge found <a href= \"https://github.com/NielsRogge/Transformers-Tutorials/blob/master/BERT/Fine_tuning_BERT_(and_friends)_for_multi_label_text_classification.ipynb\"> here </a>"
   ]
  },
  {
   "cell_type": "code",
   "execution_count": 9,
   "metadata": {},
   "outputs": [],
   "source": [
    "from transformers import AutoTokenizer\n",
    "\n",
    "\n",
    "\n",
    "# divide labels into categories for later training\n",
    "labels_dict = dict()\n",
    "main_labels = [\"EVENT\",\"CAUSE\",\"ACTION\"]\n",
    "labels_dict['main_labels'] = main_labels\n",
    "for main_label in main_labels:\n",
    "    main_label_text = main_label.lower()+'_labels'\n",
    "    labels_dict[main_label_text] = [x for x in labels if x.startswith(main_label+'_')]\n",
    "# Get tiered labels potentially for later custom_trainer recognization\n",
    "tieredLabels = list(labels_dict.keys())\n",
    "\n",
    "\n",
    "tokenizer = AutoTokenizer.from_pretrained('distilbert-base-uncased')\n",
    "\n",
    "def preprocess_data(examples):\n",
    "  # take a batch of texts\n",
    "  text = examples[\"passage\"]\n",
    "  # encode them\n",
    "  encoding = tokenizer(text, max_length=512, truncation=True) #max length for BERT is 512\n",
    "  # add labels\n",
    "  labels_batch = {k: examples[k] for k in examples.keys() if k in labels}\n",
    "\n",
    "  # LABELING Hierarchical machine learning label ascription\n",
    "  for label_category, label_list in labels_dict.items():\n",
    "    # create numpy array of shape (batch_size, num_labels)\n",
    "    labels_matrix = np.zeros((len(text), len(label_list)))\n",
    "    # fill numpy array\n",
    "    for idx, label in enumerate(label_list):\n",
    "      labels_matrix[:, idx] = labels_batch[label]\n",
    "    encoding[label_category] = labels_matrix.tolist()\n",
    "\n",
    "  return encoding"
   ]
  },
  {
   "attachments": {},
   "cell_type": "markdown",
   "metadata": {},
   "source": [
    "To apply the preprocessing function over the entire dataset, use 🤗 Datasets map function. You can speed up map by setting batched=True to process multiple elements of the dataset at once:"
   ]
  },
  {
   "cell_type": "code",
   "execution_count": 10,
   "metadata": {},
   "outputs": [
    {
     "data": {
      "application/vnd.jupyter.widget-view+json": {
       "model_id": "db34985d818d423da4179e435a3ebfa6",
       "version_major": 2,
       "version_minor": 0
      },
      "text/plain": [
       "Map:   0%|          | 0/518 [00:00<?, ? examples/s]"
      ]
     },
     "metadata": {},
     "output_type": "display_data"
    },
    {
     "data": {
      "application/vnd.jupyter.widget-view+json": {
       "model_id": "20b3a47f34754b3398eb956794fee4c8",
       "version_major": 2,
       "version_minor": 0
      },
      "text/plain": [
       "Map:   0%|          | 0/9849 [00:00<?, ? examples/s]"
      ]
     },
     "metadata": {},
     "output_type": "display_data"
    }
   ],
   "source": [
    "# Tokenize data, remove all columns and give new ones\n",
    "tokenized_Hraf = Hraf.map(preprocess_data, batched=True, remove_columns=Hraf['train'].column_names)"
   ]
  },
  {
   "cell_type": "code",
   "execution_count": 11,
   "metadata": {},
   "outputs": [
    {
     "data": {
      "text/plain": [
       "DatasetDict({\n",
       "    train: Dataset({\n",
       "        features: ['input_ids', 'attention_mask', 'main_labels', 'event_labels', 'cause_labels', 'action_labels'],\n",
       "        num_rows: 518\n",
       "    })\n",
       "    test: Dataset({\n",
       "        features: ['input_ids', 'attention_mask', 'main_labels', 'event_labels', 'cause_labels', 'action_labels'],\n",
       "        num_rows: 9849\n",
       "    })\n",
       "})"
      ]
     },
     "execution_count": 11,
     "metadata": {},
     "output_type": "execute_result"
    }
   ],
   "source": [
    "# Set tokenized passages to PyTorch Tensor\n",
    "tokenized_Hraf.set_format(\"torch\")\n",
    "tokenized_Hraf"
   ]
  },
  {
   "attachments": {},
   "cell_type": "markdown",
   "metadata": {},
   "source": [
    "Now create a batch of examples using <a href=\"https://huggingface.co/docs/transformers/v4.29.0/en/main_classes/data_collator#transformers.DataCollatorWithPadding\"> DataCollatorWithPadding</a>. It’s more efficient to dynamically pad the sentences to the longest length in a batch during collation, instead of padding the whole dataset to the maximum length."
   ]
  },
  {
   "cell_type": "markdown",
   "metadata": {},
   "source": [
    "### Create KFolds Splits"
   ]
  },
  {
   "cell_type": "markdown",
   "metadata": {},
   "source": [
    " Stratification using multilabels is a difficult process as the number of unique bins of stratification increases exponentially by the number of labels (see more info and potential ways to conduct multilabel sttratification sampling <a href=\"https://dl.acm.org/doi/10.5555/2034161.2034172\"> HERE  </a>). We will currently disregard focusing on stratification of all the labels/classifications and just use a single label for stratification. Currently, this is still giving decent splits that do not deviate far from the true proportion or between n_splits. Still, one should check the proportional deviation of each label to make sure"
   ]
  },
  {
   "cell_type": "code",
   "execution_count": 27,
   "metadata": {},
   "outputs": [
    {
     "data": {
      "text/html": [
       "<div>\n",
       "<style scoped>\n",
       "    .dataframe tbody tr th:only-of-type {\n",
       "        vertical-align: middle;\n",
       "    }\n",
       "\n",
       "    .dataframe tbody tr th {\n",
       "        vertical-align: top;\n",
       "    }\n",
       "\n",
       "    .dataframe thead th {\n",
       "        text-align: right;\n",
       "    }\n",
       "</style>\n",
       "<table border=\"1\" class=\"dataframe\">\n",
       "  <thead>\n",
       "    <tr style=\"text-align: right;\">\n",
       "      <th></th>\n",
       "      <th>EVENT</th>\n",
       "      <th>EVENT_Illness</th>\n",
       "      <th>EVENT_Accident</th>\n",
       "      <th>EVENT_Other</th>\n",
       "      <th>CAUSE</th>\n",
       "      <th>CAUSE_Just_Happens</th>\n",
       "      <th>CAUSE_Material_Physical</th>\n",
       "      <th>CAUSE_Spirits_Gods</th>\n",
       "      <th>CAUSE_Witchcraft_Sorcery</th>\n",
       "      <th>CAUSE_Rule_Violation_Taboo</th>\n",
       "      <th>CAUSE_Other</th>\n",
       "      <th>ACTION</th>\n",
       "      <th>ACTION_Physical_Material</th>\n",
       "      <th>ACTION_Technical_Specialist</th>\n",
       "      <th>ACTION_Divination</th>\n",
       "      <th>ACTION_Shaman_Medium_Healer</th>\n",
       "      <th>ACTION_Priest_High_Religion</th>\n",
       "      <th>ACTION_Other</th>\n",
       "    </tr>\n",
       "  </thead>\n",
       "  <tbody>\n",
       "    <tr>\n",
       "      <th>Fold 1</th>\n",
       "      <td>0.61</td>\n",
       "      <td>0.41</td>\n",
       "      <td>0.07</td>\n",
       "      <td>0.22</td>\n",
       "      <td>0.46</td>\n",
       "      <td>0.02</td>\n",
       "      <td>0.17</td>\n",
       "      <td>0.18</td>\n",
       "      <td>0.07</td>\n",
       "      <td>0.10</td>\n",
       "      <td>0.06</td>\n",
       "      <td>0.45</td>\n",
       "      <td>0.31</td>\n",
       "      <td>0.07</td>\n",
       "      <td>0.02</td>\n",
       "      <td>0.06</td>\n",
       "      <td>0.04</td>\n",
       "      <td>0.06</td>\n",
       "    </tr>\n",
       "    <tr>\n",
       "      <th>Fold 2</th>\n",
       "      <td>0.61</td>\n",
       "      <td>0.43</td>\n",
       "      <td>0.06</td>\n",
       "      <td>0.22</td>\n",
       "      <td>0.47</td>\n",
       "      <td>0.01</td>\n",
       "      <td>0.17</td>\n",
       "      <td>0.20</td>\n",
       "      <td>0.06</td>\n",
       "      <td>0.10</td>\n",
       "      <td>0.05</td>\n",
       "      <td>0.47</td>\n",
       "      <td>0.32</td>\n",
       "      <td>0.07</td>\n",
       "      <td>0.02</td>\n",
       "      <td>0.06</td>\n",
       "      <td>0.04</td>\n",
       "      <td>0.06</td>\n",
       "    </tr>\n",
       "    <tr>\n",
       "      <th>Fold 3</th>\n",
       "      <td>0.63</td>\n",
       "      <td>0.43</td>\n",
       "      <td>0.07</td>\n",
       "      <td>0.24</td>\n",
       "      <td>0.49</td>\n",
       "      <td>0.02</td>\n",
       "      <td>0.18</td>\n",
       "      <td>0.19</td>\n",
       "      <td>0.08</td>\n",
       "      <td>0.11</td>\n",
       "      <td>0.05</td>\n",
       "      <td>0.45</td>\n",
       "      <td>0.29</td>\n",
       "      <td>0.07</td>\n",
       "      <td>0.02</td>\n",
       "      <td>0.07</td>\n",
       "      <td>0.03</td>\n",
       "      <td>0.06</td>\n",
       "    </tr>\n",
       "    <tr>\n",
       "      <th>Fold 4</th>\n",
       "      <td>0.60</td>\n",
       "      <td>0.41</td>\n",
       "      <td>0.07</td>\n",
       "      <td>0.22</td>\n",
       "      <td>0.45</td>\n",
       "      <td>0.01</td>\n",
       "      <td>0.19</td>\n",
       "      <td>0.17</td>\n",
       "      <td>0.07</td>\n",
       "      <td>0.10</td>\n",
       "      <td>0.05</td>\n",
       "      <td>0.45</td>\n",
       "      <td>0.31</td>\n",
       "      <td>0.07</td>\n",
       "      <td>0.02</td>\n",
       "      <td>0.06</td>\n",
       "      <td>0.04</td>\n",
       "      <td>0.06</td>\n",
       "    </tr>\n",
       "    <tr>\n",
       "      <th>Fold 5</th>\n",
       "      <td>0.61</td>\n",
       "      <td>0.42</td>\n",
       "      <td>0.05</td>\n",
       "      <td>0.22</td>\n",
       "      <td>0.47</td>\n",
       "      <td>0.02</td>\n",
       "      <td>0.18</td>\n",
       "      <td>0.19</td>\n",
       "      <td>0.07</td>\n",
       "      <td>0.10</td>\n",
       "      <td>0.04</td>\n",
       "      <td>0.46</td>\n",
       "      <td>0.31</td>\n",
       "      <td>0.08</td>\n",
       "      <td>0.01</td>\n",
       "      <td>0.07</td>\n",
       "      <td>0.04</td>\n",
       "      <td>0.06</td>\n",
       "    </tr>\n",
       "  </tbody>\n",
       "</table>\n",
       "</div>"
      ],
      "text/plain": [
       "        EVENT  EVENT_Illness  EVENT_Accident  EVENT_Other  CAUSE  \\\n",
       "Fold 1   0.61           0.41            0.07         0.22   0.46   \n",
       "Fold 2   0.61           0.43            0.06         0.22   0.47   \n",
       "Fold 3   0.63           0.43            0.07         0.24   0.49   \n",
       "Fold 4   0.60           0.41            0.07         0.22   0.45   \n",
       "Fold 5   0.61           0.42            0.05         0.22   0.47   \n",
       "\n",
       "        CAUSE_Just_Happens  CAUSE_Material_Physical  CAUSE_Spirits_Gods  \\\n",
       "Fold 1                0.02                     0.17                0.18   \n",
       "Fold 2                0.01                     0.17                0.20   \n",
       "Fold 3                0.02                     0.18                0.19   \n",
       "Fold 4                0.01                     0.19                0.17   \n",
       "Fold 5                0.02                     0.18                0.19   \n",
       "\n",
       "        CAUSE_Witchcraft_Sorcery  CAUSE_Rule_Violation_Taboo  CAUSE_Other  \\\n",
       "Fold 1                      0.07                        0.10         0.06   \n",
       "Fold 2                      0.06                        0.10         0.05   \n",
       "Fold 3                      0.08                        0.11         0.05   \n",
       "Fold 4                      0.07                        0.10         0.05   \n",
       "Fold 5                      0.07                        0.10         0.04   \n",
       "\n",
       "        ACTION  ACTION_Physical_Material  ACTION_Technical_Specialist  \\\n",
       "Fold 1    0.45                      0.31                         0.07   \n",
       "Fold 2    0.47                      0.32                         0.07   \n",
       "Fold 3    0.45                      0.29                         0.07   \n",
       "Fold 4    0.45                      0.31                         0.07   \n",
       "Fold 5    0.46                      0.31                         0.08   \n",
       "\n",
       "        ACTION_Divination  ACTION_Shaman_Medium_Healer  \\\n",
       "Fold 1               0.02                         0.06   \n",
       "Fold 2               0.02                         0.06   \n",
       "Fold 3               0.02                         0.07   \n",
       "Fold 4               0.02                         0.06   \n",
       "Fold 5               0.01                         0.07   \n",
       "\n",
       "        ACTION_Priest_High_Religion  ACTION_Other  \n",
       "Fold 1                         0.04          0.06  \n",
       "Fold 2                         0.04          0.06  \n",
       "Fold 3                         0.03          0.06  \n",
       "Fold 4                         0.04          0.06  \n",
       "Fold 5                         0.04          0.06  "
      ]
     },
     "execution_count": 27,
     "metadata": {},
     "output_type": "execute_result"
    }
   ],
   "source": [
    "#  Splitting\n",
    "from sklearn.model_selection import StratifiedKFold\n",
    "fold_n =5\n",
    "\n",
    "# folds = StratifiedKFold(n_splits=5)\n",
    "folds = StratifiedKFold(n_splits=fold_n, shuffle= True, random_state=10)\n",
    "cols = Hraf['train'].column_names\n",
    "splits = folds.split(np.zeros(Hraf['train'].num_rows), Hraf['train'][cols[-1]])\n",
    "# preconstruct dataframe to show\n",
    "fold_str = [\"Fold \"+str(x) for x in range(1,fold_n+1)]\n",
    "df_foldPerc = pd.DataFrame(data=np.zeros((fold_n,len(labels))),columns=labels, index=fold_str)\n",
    "\n",
    "train_list = []\n",
    "val_list = []\n",
    "\n",
    "for fold, (train_idxs, val_idxs) in enumerate(splits, start=1):\n",
    "    train_list += [train_idxs]\n",
    "    val_list += [val_idxs]\n",
    "    train_hub = Hraf['train'][train_idxs]\n",
    "\n",
    "    df_foldPerc.iloc[fold-1] = [np.round(np.mean(train_hub[col]),2) for col in cols[2:]]\n",
    "    \n",
    "df_foldPerc"
   ]
  },
  {
   "cell_type": "markdown",
   "metadata": {},
   "source": [
    "### Save Paritioned Datasets"
   ]
  },
  {
   "cell_type": "code",
   "execution_count": 15,
   "metadata": {},
   "outputs": [
    {
     "name": "stdout",
     "output_type": "stream",
     "text": [
      "8293 Rows for 'train' succesfully saved to /Users/ericchantland/Library/CloudStorage/Dropbox/MEM-DEV-LAB-Current/2023-eHRAF-Misf/HRAF-Misf-NaturalLanguageProcessing/HRAF_NLP/HRAF_MultiLabel_Hierarchical/Datasets/train_dataset.json\n",
      "2074 Rows for 'test' succesfully saved to /Users/ericchantland/Library/CloudStorage/Dropbox/MEM-DEV-LAB-Current/2023-eHRAF-Misf/HRAF-Misf-NaturalLanguageProcessing/HRAF_NLP/HRAF_MultiLabel_Hierarchical/Datasets/test_dataset.json\n"
     ]
    }
   ],
   "source": [
    "# Save datasets for later inference (SKIP IF YOU DO NOT WANT TO OVERWRITE DATASET FILES)\n",
    "\n",
    "def make_dir(path):\n",
    "    import os\n",
    "    # Check whether the specified path exists or not\n",
    "    isExist = os.path.exists(path)\n",
    "    if not isExist:\n",
    "    # Create a new directory because it does not exist\n",
    "        os.makedirs(path)\n",
    "\n",
    "# make folder if it does not exist yet\n",
    "path_datasets = os.getcwd() + '/Datasets'\n",
    "make_dir(path_datasets)\n",
    "# save to Json\n",
    "for key in Hraf.keys():\n",
    "    Hraf_dict = Hraf[key].to_dict()\n",
    "    file_path = f\"{path_datasets}/{key}_dataset.json\"\n",
    "    with open(file_path, \"w\") as outfile:\n",
    "        json.dump(Hraf_dict, outfile)\n",
    "        print(len(Hraf_dict['ID']), f\"Rows for \\'{key}\\' succesfully saved to {file_path}\")"
   ]
  },
  {
   "attachments": {},
   "cell_type": "markdown",
   "metadata": {},
   "source": [
    "## Evaluate"
   ]
  },
  {
   "attachments": {},
   "cell_type": "markdown",
   "metadata": {},
   "source": [
    "Obtain F1 score for evaluation"
   ]
  },
  {
   "cell_type": "code",
   "execution_count": 28,
   "metadata": {},
   "outputs": [],
   "source": [
    "from sklearn.metrics import f1_score, roc_auc_score, accuracy_score\n",
    "from transformers import EvalPrediction, TrainerCallback\n",
    "import torch\n",
    "\n",
    "# # Get Metric performance (updated for hierarchical)\n",
    "def multi_label_metrics(predictions, labels, threshold=0.5):\n",
    "    # first, apply sigmoid on predictions which are of shape (batch_size, num_labels)\n",
    "    sigmoid = torch.nn.Sigmoid()\n",
    "    probs = sigmoid(torch.Tensor(predictions))\n",
    "    # next, use threshold to turn them into integer predictions\n",
    "    y_pred = np.zeros(probs.shape)\n",
    "    y_pred[np.where(probs >= threshold)] = 1\n",
    "    \n",
    "    # finally, compute metrics\n",
    "    # Handle potential 1D label format\n",
    "    if labels.ndim == 1:\n",
    "        y_true = np.zeros((len(labels), y_pred.shape[1]))\n",
    "        for i, label_indices in enumerate(labels):\n",
    "            y_true[i, label_indices] = 1\n",
    "    else:\n",
    "        y_true = labels \n",
    "\n",
    "    f1_micro_average = f1_score(y_true=y_true, y_pred=y_pred, average='micro')\n",
    "    roc_auc = roc_auc_score(y_true, y_pred, average = 'micro')\n",
    "    accuracy = accuracy_score(y_true, y_pred)\n",
    "    \n",
    "    metrics = {'f1': f1_micro_average,\n",
    "               'roc_auc': roc_auc,\n",
    "               'accuracy': accuracy}\n",
    "    return metrics\n",
    "\n",
    "# # Compute evaluation\n",
    "def compute_metrics(p: EvalPrediction):\n",
    "\n",
    "    main_preds, event_preds, cause_preds, action_preds = p.predictions \n",
    "\n",
    "    # Calculate overall F1 micro score including eaach individual label (Note, this is probably not the best method for training but is currently a stand in) \n",
    "    preds = np.concatenate(p.predictions, axis=1)\n",
    "    label_ids = np.concatenate(p.label_ids, axis=1)\n",
    "    result = multi_label_metrics(\n",
    "        predictions=preds, \n",
    "        labels=label_ids)\n",
    "\n",
    "    #Calculate individual F1 scores for each category\n",
    "    result['main_metrics'] = multi_label_metrics(predictions=main_preds, labels=p.label_ids[0]) \n",
    "    result['event_metrics'] = multi_label_metrics(predictions=event_preds, labels=p.label_ids[1])\n",
    "    result['cause_metrics'] = multi_label_metrics(predictions=cause_preds, labels=p.label_ids[2])\n",
    "    result['action_metrics'] = multi_label_metrics(predictions=action_preds, labels=p.label_ids[3])\n",
    "\n",
    "    #Get Loss from latest loss calculation\n",
    "    result['main_metrics']['loss'] = float(trainer.main_loss)\n",
    "    result['event_metrics']['loss'] = float(trainer.event_loss)\n",
    "    result['cause_metrics']['loss'] = float(trainer.cause_loss)\n",
    "    result['action_metrics']['loss'] = float(trainer.action_loss)\n",
    "\n",
    "\n",
    "    return result\n"
   ]
  },
  {
   "attachments": {},
   "cell_type": "markdown",
   "metadata": {},
   "source": [
    "\n",
    "## Train"
   ]
  },
  {
   "cell_type": "markdown",
   "metadata": {},
   "source": [
    "### Save Functions for Saving Training Results"
   ]
  },
  {
   "cell_type": "code",
   "execution_count": 46,
   "metadata": {},
   "outputs": [],
   "source": [
    "# Save evaluation dataframe\n",
    "def eval_save(eval_df, directory=\"\", overwrite_training=True):\n",
    "    # Augment Evaluation File \n",
    "    from datetime import date\n",
    "\n",
    "    file_path = f\"{directory}/Evaluation.xlsx\"\n",
    "\n",
    "    today = date.today()\n",
    "    date_tm = today.strftime(\"%y/%m/%d\")\n",
    "\n",
    "    #reorganize columns\n",
    "    cols = list(eval_df.columns.values) \n",
    "    remove_list = [\"fold\", \"epoch\",\"weight_decay\", \"learning_rate\"]\n",
    "    for removal in remove_list:\n",
    "        cols.remove(removal)\n",
    "    cols = remove_list+cols\n",
    "    eval_df = eval_df[cols]\n",
    "\n",
    "\n",
    "    trainingStatus = 'Initial Training' if overwrite_training == True else 'Continue Training'\n",
    "\n",
    "    info_df  = pd.DataFrame({\"Date\":len(eval_df)*[date_tm],\"Train_status\":len(eval_df)*[trainingStatus]})\n",
    "    eval_df = eval_df.reset_index(drop=True)\n",
    "    eval_df = pd.concat([info_df, eval_df], axis=1)\n",
    "\n",
    "    # import evaluation if it exists\n",
    "    if os.path.exists(file_path):\n",
    "        old_eval = pd.read_excel(file_path, sheet_name=\"Sheet1\", index_col=0)\n",
    "        eval_df = pd.concat([old_eval, eval_df])\n",
    "\n",
    "    eval_df.to_excel(file_path)\n",
    "\n",
    "# combine the history output the model gives into a more digestable list format within a dictionary for val and train\n",
    "def epochDictCreator(history_list:list) -> dict:\n",
    "    epochHistory = dict() \n",
    "\n",
    "    #get train and Val and put them in a dictionary\n",
    "    for train_or_val in [\"train\",\"val\"]:\n",
    "        if train_or_val== 'val':\n",
    "            epochHistory_list = [x for x in history_list if (x.get(\"eval_loss\", 'a') !='a')] # get only validation epochs (will have eval_loss)\n",
    "        elif train_or_val == 'train':\n",
    "            epochHistory_list = [x for x in history_list if (x.get(\"loss\", 'a') !='a')] # get only training epochs (will have loss and typically the epoch will be a non-integer)\n",
    "        else:\n",
    "            raise Exception(\"Must enter train or val\")\n",
    "        # Create dictionary of values for val or train\n",
    "        epochHistory_dict = dict()\n",
    "        count=0\n",
    "        for epoch in epochHistory_list:\n",
    "            if count == 0:\n",
    "                epochHistory_dict = {key:[val] for key, val in epoch.items()}\n",
    "            else:\n",
    "                for key, val in epoch.items():\n",
    "                    try:\n",
    "                        epochHistory_dict[key].append(val)\n",
    "                    except:\n",
    "                        print(\"train or Val:\",train_or_val,\"Count:\", count)\n",
    "            count +=1\n",
    "        epochHistory[train_or_val] = epochHistory_dict\n",
    "    return epochHistory\n",
    "\n",
    "# save epoch dicts to a file (append if already exists)\n",
    "def epochDictSave(directory, History_list:list):\n",
    "    import json\n",
    "    import os\n",
    "    directory = f\"{directory}/HistoryLog.json\"\n",
    "    if os.path.exists(directory):\n",
    "        with open(directory, 'r') as openfile:\n",
    "            oldHistory = json.load(openfile)\n",
    "            History_list = oldHistory+History_list\n",
    "            \n",
    "    with open(directory, \"w\") as outfile:\n",
    "        json.dump(History_list, outfile, indent=4)\n",
    "        # outfile.write(json_object)\n",
    "\n",
    "# Create Parameter JSON file\n",
    "def saveParam(output_dir, param_dict:dict):\n",
    "    import json\n",
    "    import os\n",
    "    # Check if param file already exists, if so, warn the user.\n",
    "    if os.path.exists(f\"{output_dir}/Model_Params.json\"):\n",
    "        print('\\033[91m'+ \"WARNING model parameter file overwritten\" + '\\033[0m')\n",
    "        with open(f\"{output_dir}/Model_Params.json\", \"r\") as openfile:\n",
    "            oldParam = json.load(openfile)\n",
    "            flag = 0\n",
    "            for key, val in param_dict.items():\n",
    "                try:\n",
    "                    if oldParam[key] != val:\n",
    "                        flag = 1\n",
    "                        print(f\"{key}: {oldParam[key]} != {val}\")\n",
    "                except:\n",
    "                    print(f\"{key} not found in old file\")\n",
    "            if flag == 0:\n",
    "                print(\"All parameters match\")\n",
    "    # save file\n",
    "    with open(f\"{output_dir}/Model_Params.json\", \"w\") as outfile:\n",
    "        json.dump(param_dict, outfile)\n",
    "# create descending folders, give list of folders from parent to lowest child\n",
    "def createFolders(paths:list):\n",
    "    current_path = \"\"\n",
    "    for path in paths:\n",
    "        if len(path) == 0 or path == '/': # Skip blank paths (here to work with both google colab and vscode local notebooks)\n",
    "            continue\n",
    "        current_path += f\"{path}/\"\n",
    "        os.mkdir(current_path) if not os.path.exists(current_path) else None"
   ]
  },
  {
   "cell_type": "markdown",
   "metadata": {},
   "source": [
    "### Model Initialization"
   ]
  },
  {
   "cell_type": "code",
   "execution_count": 47,
   "metadata": {},
   "outputs": [],
   "source": [
    "# test for hierarchical forward pass using Huggingface\n",
    "\n",
    "\n",
    "import torch\n",
    "import torch.nn as nn\n",
    "from transformers import TrainingArguments, Trainer, DataCollatorWithPadding, DistilBertModel\n",
    "\n",
    "\n",
    "\n",
    "\n",
    "# Define the custom classifier for sub-labels\n",
    "class SubLabelClassifier(nn.Module):\n",
    "    def __init__(self, input_dim, hidden_dim, output_dim):\n",
    "        super(SubLabelClassifier, self).__init__()\n",
    "        self.fc1 = nn.Linear(input_dim, hidden_dim)    ## Linear is a simple linear transformation layer\n",
    "        self.fc2 = nn.Linear(hidden_dim, output_dim)  \n",
    "        self.dropout = nn.Dropout(0.1)\n",
    "    def forward(self, x):\n",
    "        x = torch.relu(self.fc1(x))\n",
    "        x = self.dropout(x)\n",
    "        x = self.fc2(x)\n",
    "        return x\n",
    "\n",
    "\n",
    "# Create sample model\n",
    "class HierarchicalMultiLabelClassifier(nn.Module):\n",
    "    def __init__(self, model_name, num_main_labels, num_event_labels, num_cause_labels, num_action_labels):\n",
    "        super(HierarchicalMultiLabelClassifier, self).__init__()\n",
    "        # Not sure the purpose of these here, maybe a fluke with GPT or is for later reference donw the line, probably not needed here\n",
    "        self.num_main_labels = num_main_labels\n",
    "        self.num_event_labels = num_event_labels\n",
    "        self.num_cause_labels = num_cause_labels\n",
    "        self.num_action_labels = num_action_labels\n",
    "        \n",
    "        # self.distilbert = DistilBertForSequenceClassification.from_pretrained(model_name) \n",
    "        self.distilbert = DistilBertModel.from_pretrained(model_name) # This does not use the head for sequence classification, I am wondering if that is a disadvantage\n",
    "        hidden_size = self.distilbert.config.hidden_size\n",
    "        \n",
    "        # logits for each classifier group (might only need main and sublabel groups...)\n",
    "        self.main_classifier = nn.Linear(hidden_size, num_main_labels)\n",
    "        self.event_classifier = SubLabelClassifier(input_dim = self.distilbert.config.hidden_size, hidden_dim = 50, output_dim = num_event_labels)\n",
    "        self.cause_classifier = SubLabelClassifier(input_dim = self.distilbert.config.hidden_size, hidden_dim = 50, output_dim = num_cause_labels)\n",
    "        self.action_classifier = SubLabelClassifier(input_dim = self.distilbert.config.hidden_size, hidden_dim = 50, output_dim = num_action_labels)\n",
    "        #\n",
    "    def forward(self, input_ids, attention_mask): #(should the argument params be \"tensor\" instead like the huggingface example?)\n",
    "        outputs = self.distilbert(input_ids=input_ids, attention_mask=attention_mask)\n",
    "        hidden_state = outputs[0]  # Last hidden state\n",
    "        pooled_output = hidden_state[:, 0]  # [CLS] token\n",
    "        \n",
    "        main_logits = self.main_classifier(pooled_output)\n",
    "        event_logits = self.event_classifier(pooled_output) #previously outputs.last_hidden_state as per chat gpt. It was changed also because of chat GPT but also because the sizes of the logits and the labels did not match \n",
    "        cause_logits = self.cause_classifier(pooled_output)\n",
    "        action_logits = self.action_classifier(pooled_output)\n",
    "        \n",
    "        return main_logits, event_logits, cause_logits, action_logits\n",
    "\n",
    "\n",
    "\n",
    "\n",
    "\n",
    "model_name = \"distilbert-base-uncased\"\n",
    "num_main_labels = 3 # For EVENT, CAUSE, ACTION\n",
    "num_event_labels = 3\n",
    "num_cause_labels = 6\n",
    "num_action_labels = 6\n",
    "model = HierarchicalMultiLabelClassifier(model_name, num_main_labels, num_event_labels, num_cause_labels, num_action_labels)\n",
    "# Get initial state (this is for later kfolds loops which appear to have data leakage)\n",
    "initial_model_state = {name: param.data.clone() for name, param in model.named_parameters()}\n",
    "\n",
    "# Set up data collator\n",
    "data_collator = DataCollatorWithPadding(tokenizer=tokenizer)\n",
    "\n",
    "\n"
   ]
  },
  {
   "cell_type": "markdown",
   "metadata": {},
   "source": [
    "### Define Custom Trainer"
   ]
  },
  {
   "cell_type": "code",
   "execution_count": 48,
   "metadata": {},
   "outputs": [],
   "source": [
    "# Custom trainer\n",
    "# Define the custom training loop inside a custom Trainer\n",
    "class CustomTrainer(Trainer):\n",
    "    def compute_loss(self, model, inputs, return_outputs=False):\n",
    "        labels = {\n",
    "            'main_labels': inputs['main_labels'],\n",
    "            'event_labels': inputs['event_labels'],\n",
    "            'cause_labels': inputs['cause_labels'],\n",
    "            'action_labels': inputs['action_labels'],\n",
    "        }\n",
    "        outputs = model(input_ids=inputs['input_ids'], attention_mask=inputs['attention_mask'])\n",
    "        main_logits, event_logits, cause_logits, action_logits = outputs\n",
    "        # Compute individual losses\n",
    "        self.main_loss = nn.BCEWithLogitsLoss()(main_logits, labels['main_labels'].float()) #should this be BCELoss or BCEWithLogitsLoss?\n",
    "        self.event_loss = nn.BCEWithLogitsLoss()(event_logits, labels['event_labels'].float())\n",
    "        self.cause_loss = nn.BCEWithLogitsLoss()(cause_logits, labels['cause_labels'].float())\n",
    "        self.action_loss = nn.BCEWithLogitsLoss()(action_logits, labels['action_labels'].float())\n",
    "\n",
    "        # Combine losses\n",
    "        total_loss = self.main_loss + self.event_loss + self.cause_loss + self.action_loss\n",
    "        # turn output into a dictionary (this is to circumvent the trainer problem of leaving out a logit when the output is not a dictionary)\n",
    "        outputs = {key:val for key,val in zip(labels.keys(),outputs)} \n",
    "        return (total_loss, outputs) if return_outputs else total_loss\n",
    "    "
   ]
  },
  {
   "cell_type": "markdown",
   "metadata": {},
   "source": [
    "#### Test Custom model to make sure it outputs intended logits size"
   ]
  },
  {
   "cell_type": "code",
   "execution_count": 49,
   "metadata": {},
   "outputs": [
    {
     "name": "stdout",
     "output_type": "stream",
     "text": [
      "main logits: tensor([[ 0.9561, -0.2257,  0.1692],\n",
      "        [ 0.6676, -0.2446,  0.1510]], grad_fn=<AddmmBackward0>)\n",
      "event logits: tensor([[ 0.0063,  0.2387,  0.2001],\n",
      "        [-0.0607,  0.1861,  0.0491]], grad_fn=<AddmmBackward0>)\n",
      "cause logits: tensor([[-0.2122,  0.0041, -0.1349, -0.1625, -0.0359,  0.1274],\n",
      "        [-0.2322, -0.0842, -0.1533, -0.1116,  0.0534,  0.0585]],\n",
      "       grad_fn=<AddmmBackward0>)\n",
      "action logits: tensor([[-0.0322, -0.0539, -0.0726, -0.1356,  0.1635, -0.3367],\n",
      "        [-0.0352, -0.0423, -0.0587, -0.1365,  0.1580, -0.2636]],\n",
      "       grad_fn=<AddmmBackward0>)\n"
     ]
    }
   ],
   "source": [
    "### DELETE test for model flow\n",
    "\n",
    "# Example instantiation of the model\n",
    "model_name = \"distilbert-base-uncased\"\n",
    "num_main_labels = 3 # For EVENT, CAUSE, ACTION\n",
    "num_event_labels = 3\n",
    "num_cause_labels = 6\n",
    "num_action_labels = 6\n",
    "\n",
    "# Load the BERT tokenizer and model\n",
    "tokenizer = AutoTokenizer.from_pretrained('distilbert-base-uncased')\n",
    "model = HierarchicalMultiLabelClassifier(model_name, num_main_labels, num_event_labels, num_cause_labels, num_action_labels)\n",
    "# Get initial state (this is for later kfolds loops which appear to have data leakage)\n",
    "initial_model_state = {name: param.data.clone() for name, param in model.named_parameters()}\n",
    "# Prepare sample input data\n",
    "sentence = [\"This is an example sentence.\",\"dummy tester\"]\n",
    "inputs = tokenizer(sentence, return_tensors=\"pt\", padding=True, truncation=True)\n",
    "\n",
    "# Forward pass through the model\n",
    "main_logits, event_logits, cause_logits, action_logits = model(inputs['input_ids'], inputs['attention_mask'])\n",
    "# Print the results\n",
    "print(\"main logits:\", main_logits)\n",
    "print(\"event logits:\", event_logits)\n",
    "print(\"cause logits:\", cause_logits)\n",
    "print(\"action logits:\", action_logits)"
   ]
  },
  {
   "cell_type": "markdown",
   "metadata": {},
   "source": [
    "### Start Training\n"
   ]
  },
  {
   "cell_type": "markdown",
   "metadata": {},
   "source": [
    "Note that this code below purposefully skips all but the first Kfolds to save on time. This is because varying folds did not meaningfully change any training result. A true Kfolds model will be ran when we are no longer testing things out."
   ]
  },
  {
   "cell_type": "code",
   "execution_count": 52,
   "metadata": {},
   "outputs": [
    {
     "name": "stdout",
     "output_type": "stream",
     "text": [
      "\u001b[93mStarting from last checkpoint Model_000_TEST_DELETE/Hierarchy_test_fold_1/\u001b[0m\n",
      "------Fold 1/5--------\n",
      "\n",
      "\u001b[91mWARNING model parameter file overwritten\u001b[0m\n",
      "All parameters match\n"
     ]
    },
    {
     "data": {
      "application/vnd.jupyter.widget-view+json": {
       "model_id": "5b84daad71fb4a1b8927e2cf294761ea",
       "version_major": 2,
       "version_minor": 0
      },
      "text/plain": [
       "  0%|          | 0/260 [00:00<?, ?it/s]"
      ]
     },
     "metadata": {},
     "output_type": "display_data"
    },
    {
     "data": {
      "application/vnd.jupyter.widget-view+json": {
       "model_id": "6d8f9168afbf4ac68320541fbd128cc5",
       "version_major": 2,
       "version_minor": 0
      },
      "text/plain": [
       "  0%|          | 0/13 [00:00<?, ?it/s]"
      ]
     },
     "metadata": {},
     "output_type": "display_data"
    },
    {
     "name": "stdout",
     "output_type": "stream",
     "text": [
      "{'eval_loss': 1.537637710571289, 'eval_f1': 0.632258064516129, 'eval_roc_auc': 0.7497603908231055, 'eval_accuracy': 0.2692307692307692, 'eval_main_metrics': {'f1': 0.8383561643835616, 'roc_auc': 0.8048956231728908, 'accuracy': 0.6442307692307693, 'loss': 0.39147767424583435}, 'eval_event_metrics': {'f1': 0.6564885496183206, 'roc_auc': 0.7574710080285461, 'accuracy': 0.6538461538461539, 'loss': 0.4944729804992676}, 'eval_cause_metrics': {'f1': 0.0, 'roc_auc': 0.5, 'accuracy': 0.5, 'loss': 0.410625696182251}, 'eval_action_metrics': {'f1': 0.0, 'roc_auc': 0.5, 'accuracy': 0.5384615384615384, 'loss': 0.34158018231391907}, 'eval_runtime': 29.5344, 'eval_samples_per_second': 3.521, 'eval_steps_per_second': 0.44, 'epoch': 5.0}\n",
      "{'train_runtime': 387.6775, 'train_samples_per_second': 5.339, 'train_steps_per_second': 0.671, 'train_loss': 0.299653067955604, 'epoch': 5.0}\n"
     ]
    },
    {
     "data": {
      "application/vnd.jupyter.widget-view+json": {
       "model_id": "a2d5bf8d635c428a984531aaad898688",
       "version_major": 2,
       "version_minor": 0
      },
      "text/plain": [
       "  0%|          | 0/13 [00:00<?, ?it/s]"
      ]
     },
     "metadata": {},
     "output_type": "display_data"
    },
    {
     "name": "stdout",
     "output_type": "stream",
     "text": [
      "Fold 1 F1: 0.632258064516129\n",
      "Best Model Checkpoint Model_000_TEST_DELETE/Hierarchy_test_fold_1/checkpoint-260\n"
     ]
    }
   ],
   "source": [
    "\n",
    "# Kfolds trainer\n",
    "#CHANGE for inputs\n",
    "weight_decay = .01\n",
    "learning_rate= .00002\n",
    "dropout_list = ['DataCol']\n",
    "batch_size = 8 # should be multiples of 8\n",
    "epochs = 5\n",
    "\n",
    "\n",
    "model_folder = \"Model_000_TEST_DELETE\" #this is where the output folders will be created and where a centralized model is made.\n",
    "maxFolds = 1 # Set to 1 if you do not want to use kfolds, otherwise, set to any other fold number, including ones which you might want to stop early.\n",
    "\n",
    "\n",
    "\n",
    "# model_path = f\"{path}/{model_folder}\"\n",
    "model_path = f\"{model_folder}\"\n",
    "eval_df = pd.DataFrame()\n",
    "\n",
    "# # Train the model\n",
    "for fold, (train_idxs, val_idxs) in enumerate(zip(train_list, val_list), start=1): # K-fold loop\n",
    "\n",
    "    # skip folds if desired\n",
    "    if fold > maxFolds:\n",
    "        continue\n",
    "    output_folder = f\"Hierarchy_test_fold_{fold}/\"\n",
    "    output_dir = f\"{model_path}/{output_folder}\"\n",
    "    resume_bool = False\n",
    "\n",
    "    #Skip folds already completed\n",
    "    if os.path.exists(f\"{output_dir}\"):\n",
    "        if os.path.exists(f\"{output_dir}/finished.txt\"):\n",
    "            print('\\033[93m'+ f\"Skipping {output_dir} as it is indicated as finished\" + '\\033[0m')\n",
    "            continue\n",
    "        else: \n",
    "            # if a checkpoint exists, start from there (this is remedial but a quick fix)\n",
    "            if any([file.startswith('checkpoint') for file in os.listdir(output_dir)]): \n",
    "                print('\\033[93m'+ f\"Starting from last checkpoint {output_dir}\"+ '\\033[0m')\n",
    "                resume_bool = True # resume from the last checkpoint if there is an output folder but it is not finished.\n",
    "\n",
    "\n",
    "\n",
    "    print(f\"------Fold {fold}/{len(train_list)}--------\\n\")\n",
    "\n",
    "    # #reinitialize the model (since it appears to be dataleaking over loops) \n",
    "    # # NOTE I am unsure why but I have been getting problems with reinitializing the model with this custom trainer, I do not advise doing KFolds without making sure this is fixed  or making sure there is no data leakage\n",
    "    # model.load_state_dict(initial_model_state)\n",
    "    # for name, param in model.named_parameters():\n",
    "    #         try:\n",
    "    #             assert (np.array(initial_model_state[name]) == np.array(param.data)).all(), \"Parameters differ from original model\"\n",
    "    #         except:\n",
    "    #             print(name, \"Differs from initial model\")\n",
    "    # model.load_state_dict(initial_model_state)\n",
    "\n",
    "\n",
    "    train_ds = tokenized_Hraf[\"train\"].select(train_idxs)\n",
    "    val_ds = tokenized_Hraf[\"train\"].select(val_idxs)\n",
    "\n",
    "    # Create Parameter JSON file (for later ease of getting the parameters inputted)\n",
    "    param_dict = {\n",
    "        \"learning_rate\":learning_rate,\n",
    "        \"weight_decay\":weight_decay,\n",
    "        \"batch_size\":batch_size,\n",
    "        \"epochs\":epochs,\n",
    "        \"Fold\":fold,\n",
    "        \"model_name\": model_folder,\n",
    "    }\n",
    "    createFolders(paths=[path, model_folder, output_folder])\n",
    "    saveParam(output_dir=output_dir, param_dict=param_dict)\n",
    "\n",
    "\n",
    "    training_args = TrainingArguments(\n",
    "        output_dir=output_dir,\n",
    "        learning_rate=learning_rate,\n",
    "        per_device_train_batch_size=batch_size,  # should be multiples of 8\n",
    "        per_device_eval_batch_size=batch_size, # should be multiples of 8\n",
    "        num_train_epochs=epochs,\n",
    "        weight_decay=weight_decay,\n",
    "        evaluation_strategy=\"epoch\",\n",
    "        save_strategy=\"epoch\",\n",
    "        metric_for_best_model='f1',\n",
    "        push_to_hub=False,\n",
    "        save_total_limit=3, #Save only three checkpoints\n",
    "        load_best_model_at_end = True, # retain the best model regardless of if it is beyond the save limit\n",
    "        logging_dir=f\"{output_dir}/logs\",\n",
    "        logging_steps=100,\n",
    "        use_cpu=True, # set True or False depending on if you want ot use the GPU, which is faster but has been unreliable on Macs\n",
    "        label_names=tieredLabels, # Set labels, this is specifically for custom training\n",
    "    )\n",
    "\n",
    "\n",
    "    trainer = CustomTrainer(\n",
    "        model=model,\n",
    "        args=training_args,\n",
    "        train_dataset=train_ds,\n",
    "        eval_dataset=val_ds,\n",
    "        tokenizer=tokenizer,\n",
    "        data_collator=data_collator,\n",
    "        # callbacks=[best_checkpoint_callback], \n",
    "        compute_metrics=compute_metrics,\n",
    "        \n",
    "    )\n",
    "    try:\n",
    "        train_result = trainer.train(resume_from_checkpoint = resume_bool) \n",
    "    except Exception as e:\n",
    "        print(f\"An unexpected error occurred: {e}\")\n",
    "        print('\\033[91m'+ f\"A crash occurred, restarting fold from checkpoint\"+ '\\033[0m') # I have not had model failure in a while so this try/except may be unneeded\n",
    "        train_result = trainer.train(resume_from_checkpoint=True) #This is the same thing above but often restarting can make all the difference so let's try it\n",
    "    finally:\n",
    "        #save logging\n",
    "        epochDictSave(directory=output_dir, History_list=trainer.state.log_history)\n",
    "        \n",
    "\n",
    "\n",
    "\n",
    "    # Evaluate and then concatinate results to a dataframe\n",
    "\n",
    "    # Evaluate on validation set for this fold\n",
    "    eval_dict = trainer.evaluate(val_ds)\n",
    "    fold_f1 = eval_dict['eval_f1']\n",
    "    # fold_f1s.append(fold_f1)\n",
    "    print(f\"Fold {fold} F1: {fold_f1}\")\n",
    "\n",
    "    eval_df_line = pd.DataFrame([eval_dict])\n",
    "    eval_df_line[\"model_name\"] = output_dir\n",
    "    eval_df_line[\"fold\"] = fold\n",
    "    eval_df_line[\"weight_decay\"] = weight_decay\n",
    "    eval_df_line[\"learning_rate\"] = learning_rate\n",
    "    eval_df_line[\"fold_f1\"] = fold_f1\n",
    "    eval_df_line[\"train_count\"] = len(train_ds)\n",
    "    eval_df_line[\"val_count\"] = len(val_ds)\n",
    "    eval_df_line[\"total_count\"] = eval_df_line[\"val_count\"] + eval_df_line[\"train_count\"]\n",
    "    #Save evaluation File\n",
    "    eval_save(eval_df=eval_df_line, directory=f\"{model_folder}\")\n",
    "\n",
    "    # Have a centralized eval_df For manual investiagtion when loops are done\n",
    "    eval_df = pd.concat([eval_df, eval_df_line])\n",
    "\n",
    "\n",
    "    # Save Best model\n",
    "    trainer.save_model()\n",
    "    f = open(f\"{output_dir}/finished.txt\", \"w\")\n",
    "    f.write(f\"Best Model: {trainer.state.best_model_checkpoint}\")\n",
    "    f.close()\n",
    "\n",
    "    print(\"Best Model Checkpoint\", trainer.state.best_model_checkpoint)\n",
    "\n",
    "    \n",
    "\n",
    "\n",
    "\n",
    "\n",
    "\n",
    "\n"
   ]
  },
  {
   "cell_type": "markdown",
   "metadata": {},
   "source": [
    "## Explore model"
   ]
  },
  {
   "cell_type": "markdown",
   "metadata": {},
   "source": [
    "## Graph Plots"
   ]
  },
  {
   "cell_type": "code",
   "execution_count": 53,
   "metadata": {},
   "outputs": [],
   "source": [
    "import json\n",
    "import matplotlib.pyplot as plt\n",
    "import os\n",
    "import re"
   ]
  },
  {
   "cell_type": "markdown",
   "metadata": {},
   "source": [
    "#### Single Model Version Investgation\n"
   ]
  },
  {
   "cell_type": "markdown",
   "metadata": {},
   "source": [
    "##### Get History"
   ]
  },
  {
   "cell_type": "code",
   "execution_count": 67,
   "metadata": {},
   "outputs": [],
   "source": [
    "# Optional, Reinitialize pathways shown above (copied and pasted, you must CHANGE if they do not match)\n",
    "model_name = \"HRAF_MultiLabel_Hierarchical\"\n",
    "path = f\"\" #Path to centralized file locations\n",
    "# path = f\"{df_path}/Models/{model_name}/\" #Google colab path\n",
    "model_folder = \"Model_1_BaseTest\" #this is where the output folders will be created and where a centralized model is made.\n",
    "# model_folder =\"Model_000_TEST_DELETE\"\n",
    "model_path = f\"{path}{model_folder}\"\n",
    "outputFolder= \"Hierarchy_test_fold_1\"\n",
    "\n",
    "\n",
    "history_path = f\"{model_path}/{outputFolder}\"\n",
    "#Load history from file\n",
    "f = open(history_path+\"/HistoryLog.json\")\n",
    "history_list = json.load(f)\n",
    "f.close()\n",
    "epochHistory= epochDictCreator(history_list)"
   ]
  },
  {
   "cell_type": "markdown",
   "metadata": {},
   "source": [
    "##### Graph"
   ]
  },
  {
   "cell_type": "code",
   "execution_count": 74,
   "metadata": {},
   "outputs": [
    {
     "data": {
      "image/png": "[encoded data removed]",
      "text/plain": [
       "<Figure size 640x480 with 1 Axes>"
      ]
     },
     "metadata": {},
     "output_type": "display_data"
    }
   ],
   "source": [
    "# Graph Training Loss\n",
    "train_loss = epochHistory['train']['loss']\n",
    "train_epoch = epochHistory['train']['epoch']\n",
    "val_loss = epochHistory['val']['eval_loss']\n",
    "val_epoch = epochHistory['val']['epoch']\n",
    "\n",
    "\n",
    "\n",
    "# \"ro\" is for \"red dot\"\n",
    "plt.plot(train_epoch, train_loss, 'ro', label='Training loss')\n",
    "\n",
    "for key, value in epochHistory['val'].items():\n",
    "  if not key.endswith('metrics'):\n",
    "    continue\n",
    "  title = re.findall(r'eval_(.*)_',key)[0]\n",
    "  #get values into a single dict\n",
    "  concatenated_dict = {}\n",
    "  for dictionary in epochHistory['val'][key]:\n",
    "      for key, value in dictionary.items():\n",
    "          if key not in concatenated_dict:\n",
    "              concatenated_dict[key] = []\n",
    "          concatenated_dict[key].append(value)\n",
    "  valCategories_f1 = concatenated_dict['loss']\n",
    "  plt.plot(val_epoch, valCategories_f1, label=f'val {title}_cat loss')\n",
    "\n",
    "plt.plot(val_epoch, val_loss, 'b', linewidth=3, label='val total loss')\n",
    "plt.title('Training and validation loss')\n",
    "plt.xlabel('Epochs')\n",
    "plt.ylabel('Loss')\n",
    "plt.legend()\n",
    "\n",
    "plt.show()"
   ]
  },
  {
   "cell_type": "code",
   "execution_count": 65,
   "metadata": {},
   "outputs": [
    {
     "data": {
      "image/png": "[encoded data removed]",
      "text/plain": [
       "<Figure size 640x480 with 1 Axes>"
      ]
     },
     "metadata": {},
     "output_type": "display_data"
    }
   ],
   "source": [
    "# train_loss = epochHistory['train']['loss']\n",
    "# train_epoch = epochHistory['train']['epoch']\n",
    "val_acc = epochHistory['val']['eval_accuracy']\n",
    "val_epoch = epochHistory['val']['epoch']\n",
    "\n",
    "\n",
    "# b is for \"solid blue line\"\n",
    "plt.plot(val_epoch, val_acc, 'b', label='Validation accuracy')\n",
    "plt.title('Validation Accuracy')\n",
    "plt.xlabel('Epochs')\n",
    "plt.ylabel('Accuracy')\n",
    "plt.legend()\n",
    "\n",
    "plt.show()"
   ]
  },
  {
   "cell_type": "code",
   "execution_count": 75,
   "metadata": {},
   "outputs": [
    {
     "data": {
      "image/png": "[encoded data removed]",
      "text/plain": [
       "<Figure size 640x480 with 1 Axes>"
      ]
     },
     "metadata": {},
     "output_type": "display_data"
    }
   ],
   "source": [
    "epochHistory['val'].keys()\n",
    "import re\n",
    "\n",
    "val_f1 = epochHistory['val']['eval_f1']\n",
    "val_epoch = epochHistory['val']['epoch']\n",
    "plt.plot(val_epoch, val_f1, 'b', linewidth=3, label='Overall Validation F1')\n",
    "\n",
    "for key, value in epochHistory['val'].items():\n",
    "  if not key.endswith('metrics'):\n",
    "    continue\n",
    "  title = re.findall(r'eval_(.*)_',key)[0]\n",
    "  #get values into a single dict\n",
    "  concatenated_dict = {}\n",
    "  for dictionary in epochHistory['val'][key]:\n",
    "      for key, value in dictionary.items():\n",
    "          if key not in concatenated_dict:\n",
    "              concatenated_dict[key] = []\n",
    "          concatenated_dict[key].append(value)\n",
    "  valCategories_f1 = concatenated_dict['f1']\n",
    "  plt.plot(val_epoch, valCategories_f1, label=f'{title}_cat F1')\n",
    "\n",
    "\n",
    "plt.title('Validation F1 by Categories')\n",
    "plt.xlabel('Epochs')\n",
    "plt.ylabel('F1')\n",
    "plt.legend()\n",
    "\n",
    "plt.show()"
   ]
  },
  {
   "cell_type": "markdown",
   "metadata": {},
   "source": [
    "#### Multiple Model Version Investigation \n"
   ]
  },
  {
   "cell_type": "markdown",
   "metadata": {},
   "source": [
    "For checking different variations of the same model, like if you change the weight decay or learning rate and want to compare between them based on the trained models <br>\n",
    "NOTE, may need to be optimized for the heirarchical model\n"
   ]
  },
  {
   "cell_type": "code",
   "execution_count": 51,
   "metadata": {},
   "outputs": [],
   "source": [
    "# Optional, Reinitialize pathways shown above (copied and pasted, you must CHANGE if they do not match)\n",
    "model_name = \"HRAF_MultiLabel_SubClasses_Kfolds\"\n",
    "path = f\"\" #Path to centralized file locations\n",
    "model_folder = \"Model_4_WeightByLearning\" #this is where the output folders will be created and where a centralized model is made.\n",
    "model_path = f\"{path}{model_folder}\"\n",
    "\n",
    "\n",
    "\n",
    "# Get list of models through common directory\n",
    "files_dir = [\n",
    "    f for f in os.listdir(model_path) if os.path.isdir(os.path.join(model_path, f))\n",
    "]\n",
    "\n",
    "### OPTIONAL CHANGE\n",
    "# Redo the text for the file names to better fit graphs (feel free to comment out)\n",
    "def lowNum(text):\n",
    "    startText =  'Learning_Rate_'\n",
    "    regx = fr'{startText}([a-zA-Z0-9\\.\\-]+)'\n",
    "    num = re.findall(regx,text)[0]\n",
    "    return float(num)\n",
    "files_dir.sort(reverse=True, key=lowNum)\n",
    "\n",
    "\n",
    "\n",
    "epochHistory_dict = {}\n",
    "for file in files_dir:\n",
    "\n",
    "    history_path = f\"{model_path}/{file}\"\n",
    "    f = open(history_path+\"/HistoryLog.json\")\n",
    "    history_list = json.load(f)\n",
    "    f.close()\n",
    "    epochHistory= epochDictCreator(history_list)\n",
    "    epochHistory_dict[file] = epochHistory\n",
    "    \n"
   ]
  },
  {
   "cell_type": "code",
   "execution_count": 52,
   "metadata": {},
   "outputs": [
    {
     "data": {
      "image/png": "[encoded data removed]",
      "text/plain": [
       "<Figure size 640x480 with 1 Axes>"
      ]
     },
     "metadata": {},
     "output_type": "display_data"
    }
   ],
   "source": [
    "# Show Validation error rate\n",
    "for key, epochHistory in epochHistory_dict.items():\n",
    "    val_loss = epochHistory['val']['eval_loss']\n",
    "    val_epoch = epochHistory['val']['epoch']\n",
    "    plt.plot(val_epoch, val_loss, label=key)\n",
    "plt.title('Training and Validation loss')\n",
    "plt.xlabel('Epochs')\n",
    "plt.ylabel('Loss')\n",
    "plt.legend()\n",
    "\n",
    "plt.show()"
   ]
  },
  {
   "cell_type": "code",
   "execution_count": 53,
   "metadata": {},
   "outputs": [
    {
     "data": {
      "image/png": "[encoded data removed]",
      "text/plain": [
       "<Figure size 640x480 with 1 Axes>"
      ]
     },
     "metadata": {},
     "output_type": "display_data"
    }
   ],
   "source": [
    "# Show F1 score improvements\n",
    "for key, epochHistory in epochHistory_dict.items():\n",
    "    val_f1 = epochHistory['val']['eval_f1']\n",
    "    val_epoch = epochHistory['val']['epoch']\n",
    "    plt.plot(val_epoch, val_f1, label=key)\n",
    "plt.title('Validation F1')\n",
    "plt.xlabel('Epochs')\n",
    "plt.ylabel('F1')\n",
    "plt.legend()\n",
    "plt.show()"
   ]
  }
 ],
 "metadata": {
  "kernelspec": {
   "display_name": "Python 3",
   "language": "python",
   "name": "python3"
  },
  "language_info": {
   "codemirror_mode": {
    "name": "ipython",
    "version": 3
   },
   "file_extension": ".py",
   "mimetype": "text/x-python",
   "name": "python",
   "nbconvert_exporter": "python",
   "pygments_lexer": "ipython3",
   "version": "3.12.3"
  },
  "orig_nbformat": 4
 },
 "nbformat": 4,
 "nbformat_minor": 2
}
